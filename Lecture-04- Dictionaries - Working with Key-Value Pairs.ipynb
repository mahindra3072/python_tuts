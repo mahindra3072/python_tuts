{
 "cells": [
  {
   "cell_type": "code",
   "execution_count": 2,
   "id": "2f279bcd-2504-46d1-89e4-7d9817f7a355",
   "metadata": {},
   "outputs": [
    {
     "name": "stdout",
     "output_type": "stream",
     "text": [
      "{'name': 'mahindra', 'age': 26, 'courses': ['Math', 'CompSci']}\n"
     ]
    }
   ],
   "source": [
    "#dictionaries allow us to work with key value pairs\n",
    "student = {'name':'mahindra','age':26,'courses':['Math','CompSci']}\n",
    "print(student)"
   ]
  },
  {
   "cell_type": "code",
   "execution_count": 3,
   "id": "ed6c8116-d2a8-4bde-87fe-e6929b10d579",
   "metadata": {},
   "outputs": [
    {
     "name": "stdout",
     "output_type": "stream",
     "text": [
      "mahindra\n"
     ]
    }
   ],
   "source": [
    "print(student['name'])"
   ]
  },
  {
   "cell_type": "code",
   "execution_count": 5,
   "id": "5c7a72a9-3f4d-4bef-b066-3c259a49d4e6",
   "metadata": {},
   "outputs": [
    {
     "name": "stdout",
     "output_type": "stream",
     "text": [
      "mahindra\n"
     ]
    }
   ],
   "source": [
    "#we can use get method to do the same\n",
    "print(student.get('name'))"
   ]
  },
  {
   "cell_type": "code",
   "execution_count": 7,
   "id": "db940646-ca4a-4fcd-8b82-8af52c0d3f32",
   "metadata": {},
   "outputs": [
    {
     "name": "stdout",
     "output_type": "stream",
     "text": [
      "Not Found\n"
     ]
    }
   ],
   "source": [
    "#get method will return none incase if it does not find the key\n",
    "#also we can set a default value for if the key is not found\n",
    "print(student.get('something','Not Found'))"
   ]
  },
  {
   "cell_type": "code",
   "execution_count": 8,
   "id": "0fd7d872-fc47-443a-b431-d176a95e2a07",
   "metadata": {},
   "outputs": [
    {
     "name": "stdout",
     "output_type": "stream",
     "text": [
      "{'name': 'Chithra', 'age': 26, 'courses': ['Math', 'CompSci']}\n"
     ]
    }
   ],
   "source": [
    "#to update a value of a key\n",
    "student['name']='Chithra'\n",
    "print(student)"
   ]
  },
  {
   "cell_type": "code",
   "execution_count": 10,
   "id": "acc17bea-bd36-473a-93ae-72d642b494d3",
   "metadata": {},
   "outputs": [
    {
     "name": "stdout",
     "output_type": "stream",
     "text": [
      "{'name': 'kittu', 'age': '27', 'courses': ['Math', 'CompSci']}\n"
     ]
    }
   ],
   "source": [
    "#we can also update multiple values with the update method\n",
    "student.update({'name':'kittu','age':'27'})\n",
    "print(student)"
   ]
  },
  {
   "cell_type": "code",
   "execution_count": 11,
   "id": "91bd018c-cf79-4d3a-a13b-6a7df18ef0c9",
   "metadata": {},
   "outputs": [
    {
     "name": "stdout",
     "output_type": "stream",
     "text": [
      "{'name': 'kittu', 'courses': ['Math', 'CompSci']}\n"
     ]
    }
   ],
   "source": [
    "#delete a key and its value use delete keyword\n",
    "del student['age']\n",
    "print(student)"
   ]
  },
  {
   "cell_type": "code",
   "execution_count": 13,
   "id": "949d2546-c9ab-43b4-8c44-5d87a9cf56ba",
   "metadata": {},
   "outputs": [
    {
     "name": "stdout",
     "output_type": "stream",
     "text": [
      "popped off kittu\n",
      "{'courses': ['Math', 'CompSci']}\n"
     ]
    }
   ],
   "source": [
    "age = student.pop('name')\n",
    "print(f'popped off {age}')\n",
    "print(student)"
   ]
  },
  {
   "cell_type": "markdown",
   "id": "0632ed91-e803-4dd6-b18c-55abf4de3bd6",
   "metadata": {},
   "source": [
    "### looping through our dictionary"
   ]
  },
  {
   "cell_type": "code",
   "execution_count": 14,
   "id": "f3d27552-715e-4fdd-97e9-ae6fbd9d430b",
   "metadata": {},
   "outputs": [],
   "source": [
    "student = {'name':'mahindra','age':26,'courses':['Math','CompSci']}"
   ]
  },
  {
   "cell_type": "code",
   "execution_count": 15,
   "id": "9180edbb-c49e-4be9-a63b-6b60b4b5b37c",
   "metadata": {},
   "outputs": [
    {
     "name": "stdout",
     "output_type": "stream",
     "text": [
      "3\n"
     ]
    }
   ],
   "source": [
    "#to see the length of the dictionary \n",
    "print(len(student))"
   ]
  },
  {
   "cell_type": "code",
   "execution_count": 16,
   "id": "1f7582b1-77a0-4777-a9d6-d84cd29a9e2d",
   "metadata": {},
   "outputs": [
    {
     "name": "stdout",
     "output_type": "stream",
     "text": [
      "dict_keys(['name', 'age', 'courses'])\n"
     ]
    }
   ],
   "source": [
    "#to print all the keys\n",
    "print(student.keys())"
   ]
  },
  {
   "cell_type": "code",
   "execution_count": 17,
   "id": "36bb4fd4-b670-4193-9ec9-f428ee79db9e",
   "metadata": {},
   "outputs": [
    {
     "name": "stdout",
     "output_type": "stream",
     "text": [
      "dict_values(['mahindra', 26, ['Math', 'CompSci']])\n"
     ]
    }
   ],
   "source": [
    "#to print out all the values\n",
    "print(student.values())"
   ]
  },
  {
   "cell_type": "code",
   "execution_count": 18,
   "id": "cc4f309b-b9c1-452e-a715-aedf5b1dcea9",
   "metadata": {},
   "outputs": [
    {
     "name": "stdout",
     "output_type": "stream",
     "text": [
      "dict_items([('name', 'mahindra'), ('age', 26), ('courses', ['Math', 'CompSci'])])\n"
     ]
    }
   ],
   "source": [
    "#to print out dictionary in for loops as key value pair use items()\n",
    "print(student.items())"
   ]
  },
  {
   "cell_type": "code",
   "execution_count": 19,
   "id": "973b44ba-87f3-466b-ab7c-bdab677ff303",
   "metadata": {},
   "outputs": [
    {
     "name": "stdout",
     "output_type": "stream",
     "text": [
      "name mahindra\n",
      "age 26\n",
      "courses ['Math', 'CompSci']\n"
     ]
    }
   ],
   "source": [
    "for key,value in student.items():\n",
    "    print(key,value)"
   ]
  }
 ],
 "metadata": {
  "kernelspec": {
   "display_name": "Python 3 (ipykernel)",
   "language": "python",
   "name": "python3"
  },
  "language_info": {
   "codemirror_mode": {
    "name": "ipython",
    "version": 3
   },
   "file_extension": ".py",
   "mimetype": "text/x-python",
   "name": "python",
   "nbconvert_exporter": "python",
   "pygments_lexer": "ipython3",
   "version": "3.12.2"
  }
 },
 "nbformat": 4,
 "nbformat_minor": 5
}
