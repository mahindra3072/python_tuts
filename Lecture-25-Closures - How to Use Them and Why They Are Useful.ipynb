{
 "cells": [
  {
   "cell_type": "code",
   "execution_count": 1,
   "id": "8917960f-48f0-4600-9612-6b4c9c7a2741",
   "metadata": {},
   "outputs": [
    {
     "name": "stdout",
     "output_type": "stream",
     "text": [
      "Hi\n"
     ]
    }
   ],
   "source": [
    "#A closure is an inner function that remembers and has access to variables in the local scope in which it \n",
    "#was created even after the outer function has finished executing\n",
    "\n",
    "\n",
    "def outer_func():\n",
    "    message ='Hi'\n",
    "\n",
    "    def inner_func():\n",
    "        print(message)\n",
    "    return inner_func()\n",
    "\n",
    "outer_func()"
   ]
  },
  {
   "cell_type": "code",
   "execution_count": null,
   "id": "4880732a-7f5a-4918-b419-8c1cfad5fc23",
   "metadata": {},
   "outputs": [],
   "source": [
    "# Wikipedia says, \"A closure is a record storing a function together with\n",
    "# an environment: a mapping associating each free variable of the function\n",
    "# with the value or storage location to which the name was bound when the\n",
    "# closure was created. A closure, unlike a plain function, allows the\n",
    "# function to access those captured variables through the closure's\n",
    "# reference to them, even when the function is invoked outside their\n",
    "# scope.\""
   ]
  },
  {
   "cell_type": "code",
   "execution_count": 2,
   "id": "f0286be3-034e-4640-9343-3437a6e1ec43",
   "metadata": {},
   "outputs": [
    {
     "name": "stdout",
     "output_type": "stream",
     "text": [
      "Hi\n"
     ]
    }
   ],
   "source": [
    "def outer_func():\n",
    "    message ='Hi'\n",
    "\n",
    "    def inner_func():\n",
    "        print(message)\n",
    "    return inner_func\n",
    "\n",
    "my_func = outer_func()\n",
    "my_func()"
   ]
  },
  {
   "cell_type": "code",
   "execution_count": 6,
   "id": "29b80bd8-1e67-42fa-b9fd-091489f88a0d",
   "metadata": {},
   "outputs": [
    {
     "name": "stdout",
     "output_type": "stream",
     "text": [
      "Hello\n",
      "Hi!\n"
     ]
    }
   ],
   "source": [
    "#including arguments and parameters\n",
    "#it remembers the variable from their own environment\n",
    "def outer_func(msg):\n",
    "    message = msg\n",
    "\n",
    "    def inner_func():\n",
    "        print(message)\n",
    "    return inner_func\n",
    "\n",
    "hello_func = outer_func('Hello')\n",
    "hi_func = outer_func('Hi!')\n",
    "\n",
    "hello_func()\n",
    "hi_func()"
   ]
  },
  {
   "cell_type": "code",
   "execution_count": null,
   "id": "01d6c5ca-1029-4bdd-9944-dc175c19cee5",
   "metadata": {},
   "outputs": [],
   "source": []
  }
 ],
 "metadata": {
  "kernelspec": {
   "display_name": "Python 3 (ipykernel)",
   "language": "python",
   "name": "python3"
  },
  "language_info": {
   "codemirror_mode": {
    "name": "ipython",
    "version": 3
   },
   "file_extension": ".py",
   "mimetype": "text/x-python",
   "name": "python",
   "nbconvert_exporter": "python",
   "pygments_lexer": "ipython3",
   "version": "3.12.2"
  }
 },
 "nbformat": 4,
 "nbformat_minor": 5
}
