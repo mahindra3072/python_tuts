{
 "cells": [
  {
   "cell_type": "code",
   "execution_count": null,
   "id": "9aa9e094-efde-4b03-a194-3386d7e968cf",
   "metadata": {},
   "outputs": [],
   "source": [
    "# Arithmetic Operators:\n",
    "# Addition:       3 + 2\n",
    "# Subtraction:    3 - 2\n",
    "# Multiplication: 3 * 2\n",
    "# Division:       3 / 2\n",
    "# Floor Division: 3 // 2\n",
    "# Exponent:       3 ** 2\n",
    "# Modulus:        3 % 2\n",
    "\n",
    "\n",
    "# Comparisons:\n",
    "# Equal:            3 == 2\n",
    "# Not Equal:        3 != 2\n",
    "# Greater Than:     3 > 2\n",
    "# Less Than:        3 < 2\n",
    "# Greater or Equal: 3 >= 2\n",
    "# Less or Equal:    3 <= 2"
   ]
  },
  {
   "cell_type": "code",
   "execution_count": 1,
   "id": "231d18ef-cde2-45f7-a843-d60cd238a7ab",
   "metadata": {},
   "outputs": [
    {
     "name": "stdout",
     "output_type": "stream",
     "text": [
      "3\n"
     ]
    }
   ],
   "source": [
    "#this will fetch absolute value\n",
    "print(abs(-3))"
   ]
  },
  {
   "cell_type": "code",
   "execution_count": 3,
   "id": "f01d06e8-bc05-4557-8d6c-1004165ac2f3",
   "metadata": {},
   "outputs": [
    {
     "name": "stdout",
     "output_type": "stream",
     "text": [
      "3.843\n"
     ]
    }
   ],
   "source": [
    "#round to the first digit after the decimal point\n",
    "print(round(3.84333,3))"
   ]
  }
 ],
 "metadata": {
  "kernelspec": {
   "display_name": "Python 3 (ipykernel)",
   "language": "python",
   "name": "python3"
  },
  "language_info": {
   "codemirror_mode": {
    "name": "ipython",
    "version": 3
   },
   "file_extension": ".py",
   "mimetype": "text/x-python",
   "name": "python",
   "nbconvert_exporter": "python",
   "pygments_lexer": "ipython3",
   "version": "3.12.2"
  }
 },
 "nbformat": 4,
 "nbformat_minor": 5
}
