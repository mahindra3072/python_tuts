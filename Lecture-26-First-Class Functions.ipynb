{
 "cells": [
  {
   "cell_type": "code",
   "execution_count": null,
   "id": "52052e83-471e-4169-bd6b-b593275df5a0",
   "metadata": {},
   "outputs": [],
   "source": [
    "# First-Class Functions:\n",
    "# \"A Programming language is said to have first-class functions if it treats functions as first-class citizens.\"\n",
    "# First-Class Citizen (Programming):\n",
    "# \"A first-class citizen (sometimes called first-class objects) in a programming language is an entity which supports all the\n",
    "# operations generally available to other entities. These operations typically include being passed as an argument, returned from a\n",
    "# function, and assigned to a variable.\"\n"
   ]
  },
  {
   "cell_type": "code",
   "execution_count": 3,
   "id": "191b1b13-d3ba-4b92-a6bf-7e68861e52b2",
   "metadata": {},
   "outputs": [
    {
     "name": "stdout",
     "output_type": "stream",
     "text": [
      "<function square at 0x0000025463C21C60>\n",
      "9\n"
     ]
    }
   ],
   "source": [
    "def square(x):\n",
    "    return x*x\n",
    "\n",
    "f = square\n",
    "print(f)\n",
    "print(f(3))"
   ]
  },
  {
   "cell_type": "code",
   "execution_count": 5,
   "id": "aab628f0-323c-4348-a2c8-fb81172091f3",
   "metadata": {},
   "outputs": [
    {
     "name": "stdout",
     "output_type": "stream",
     "text": [
      "[1, 4, 9, 16, 25]\n"
     ]
    }
   ],
   "source": [
    "#higher order function\n",
    "#passing function as an argument\n",
    "#a good example would be how the map function works\n",
    "#it will take a function and an array as an argument and return a list\n",
    "\n",
    "def my_map(func,arg_list):\n",
    "    result = []\n",
    "    for i in arg_list:\n",
    "        result.append(func(i))\n",
    "    return result\n",
    "\n",
    "\n",
    "squares = my_map(square,[1,2,3,4,5])\n",
    "\n",
    "print(squares)\n",
    "\n"
   ]
  },
  {
   "cell_type": "code",
   "execution_count": null,
   "id": "c46807ed-f0f9-432c-8b91-42d26a2752d9",
   "metadata": {},
   "outputs": [],
   "source": [
    "#returning a function from another funtion\n",
    "#this is one more aspect  to be a first class funciton"
   ]
  },
  {
   "cell_type": "code",
   "execution_count": 7,
   "id": "b73fc6a1-7ade-40a2-ac17-e5d066b700e8",
   "metadata": {},
   "outputs": [
    {
     "name": "stdout",
     "output_type": "stream",
     "text": [
      "log: Hi!\n"
     ]
    }
   ],
   "source": [
    "#the inner function is able to remember the msg that is called closure\n",
    "def logger(msg):\n",
    "\n",
    "    def log_message():\n",
    "        print('log:',msg)\n",
    "\n",
    "    return log_message\n",
    "log_hi = logger('Hi!')\n",
    "log_hi()"
   ]
  },
  {
   "cell_type": "code",
   "execution_count": 8,
   "id": "be77625c-53d7-498e-9c5f-114d45232b96",
   "metadata": {},
   "outputs": [
    {
     "name": "stdout",
     "output_type": "stream",
     "text": [
      "<h1>Test Headline!</h1>\n"
     ]
    }
   ],
   "source": [
    "#one more example where inner function takes arguments \n",
    "def html_tag(tag):\n",
    "\n",
    "    def wrap_text(msg):\n",
    "        print('<{0}>{1}</{0}>'.format(tag,msg))\n",
    "    return wrap_text\n",
    "\n",
    "print_h1 = html_tag('h1')\n",
    "print_h1('Test Headline!')\n"
   ]
  }
 ],
 "metadata": {
  "kernelspec": {
   "display_name": "Python 3 (ipykernel)",
   "language": "python",
   "name": "python3"
  },
  "language_info": {
   "codemirror_mode": {
    "name": "ipython",
    "version": 3
   },
   "file_extension": ".py",
   "mimetype": "text/x-python",
   "name": "python",
   "nbconvert_exporter": "python",
   "pygments_lexer": "ipython3",
   "version": "3.12.2"
  }
 },
 "nbformat": 4,
 "nbformat_minor": 5
}
