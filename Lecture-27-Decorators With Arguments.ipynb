{
 "cells": [
  {
   "cell_type": "code",
   "execution_count": 3,
   "id": "48eba534-dab6-4d93-9325-ada9e98105be",
   "metadata": {},
   "outputs": [
    {
     "name": "stdout",
     "output_type": "stream",
     "text": [
      "Testing Executed Before display_info\n",
      "display_info ran with arguments (John, 25)\n",
      "Testing Executed After display_info \n",
      "\n",
      "Testing Executed Before display_info\n",
      "display_info ran with arguments (Travis, 30)\n",
      "Testing Executed After display_info \n",
      "\n"
     ]
    }
   ],
   "source": [
    "#we add one more function above the existing one to pass the arguments to the decorator\n",
    "\n",
    "def prefix_dec(prefix):\n",
    "    def decorator_function(original_function):\n",
    "        def wrapper_function(*args, **kwargs):\n",
    "            print(prefix, 'Executed Before', original_function.__name__)\n",
    "            result = original_function(*args, **kwargs)\n",
    "            print(prefix, 'Executed After', original_function.__name__, '\\n')\n",
    "            return result\n",
    "        return wrapper_function\n",
    "    return decorator_function\n",
    "\n",
    "\n",
    "@prefix_dec('Testing')\n",
    "def display_info(name, age):\n",
    "    print('display_info ran with arguments ({}, {})'.format(name, age))\n",
    "\n",
    "\n",
    "display_info('John', 25)\n",
    "display_info('Travis', 30)"
   ]
  },
  {
   "cell_type": "code",
   "execution_count": null,
   "id": "16dbd86a-34ba-461a-80df-cfd4498ef67b",
   "metadata": {},
   "outputs": [],
   "source": []
  }
 ],
 "metadata": {
  "kernelspec": {
   "display_name": "Python 3 (ipykernel)",
   "language": "python",
   "name": "python3"
  },
  "language_info": {
   "codemirror_mode": {
    "name": "ipython",
    "version": 3
   },
   "file_extension": ".py",
   "mimetype": "text/x-python",
   "name": "python",
   "nbconvert_exporter": "python",
   "pygments_lexer": "ipython3",
   "version": "3.12.2"
  }
 },
 "nbformat": 4,
 "nbformat_minor": 5
}
