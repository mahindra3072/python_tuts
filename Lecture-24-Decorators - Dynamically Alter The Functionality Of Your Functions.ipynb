{
 "cells": [
  {
   "cell_type": "code",
   "execution_count": 1,
   "id": "c73b0ec1-1720-447d-b764-c18c6e1a845f",
   "metadata": {},
   "outputs": [
    {
     "name": "stdout",
     "output_type": "stream",
     "text": [
      "Hi\n"
     ]
    }
   ],
   "source": [
    "#closure and first class functions\n",
    "\n",
    "def outer_function():\n",
    "    message = 'Hi'\n",
    "\n",
    "    def inner_function():\n",
    "        print(message)\n",
    "    return inner_function()\n",
    "\n",
    "outer_function()\n"
   ]
  },
  {
   "cell_type": "code",
   "execution_count": 8,
   "id": "cd73a6c3-141c-46e6-b11d-ce7c7cc00ffd",
   "metadata": {},
   "outputs": [
    {
     "name": "stdout",
     "output_type": "stream",
     "text": [
      "wrapper executed this before display\n",
      "display function ran\n"
     ]
    }
   ],
   "source": [
    "#decorator function\n",
    "#with decoators we can add additional funcionality to existing function using the wrappe\n",
    "#function\n",
    "\n",
    "def decorator_function(original_function):\n",
    "    def wrapper_function():\n",
    "        print('wrapper executed this before {}'.format(original_function.__name__))\n",
    "        return original_function()\n",
    "    return wrapper_function\n",
    "\n",
    "@decorator_function\n",
    "def display():\n",
    "    print('display function ran')\n",
    "\n",
    "# display = decorator_function(display) #this is equal to putting @decorator_function\n",
    "display()\n",
    "\n",
    "\n",
    "    \n"
   ]
  },
  {
   "cell_type": "code",
   "execution_count": 12,
   "id": "fabed722-f1b1-472a-a0b9-9bc2f0381a2b",
   "metadata": {},
   "outputs": [
    {
     "name": "stdout",
     "output_type": "stream",
     "text": [
      "wrapper executed this before display_info\n"
     ]
    },
    {
     "ename": "TypeError",
     "evalue": "display_info() missing 2 required positional arguments: 'name' and 'age'",
     "output_type": "error",
     "traceback": [
      "\u001b[31m---------------------------------------------------------------------------\u001b[39m",
      "\u001b[31mTypeError\u001b[39m                                 Traceback (most recent call last)",
      "\u001b[36mCell\u001b[39m\u001b[36m \u001b[39m\u001b[32mIn[12]\u001b[39m\u001b[32m, line 14\u001b[39m\n\u001b[32m     10\u001b[39m \u001b[38;5;129m@decorator_function\u001b[39m\n\u001b[32m     11\u001b[39m \u001b[38;5;28;01mdef\u001b[39;00m\u001b[38;5;250m \u001b[39m\u001b[34mdisplay_info\u001b[39m(name,age):\n\u001b[32m     12\u001b[39m     pint(\u001b[33mf\u001b[39m\u001b[33m'\u001b[39m\u001b[33mdisplay_info ran with arguments \u001b[39m\u001b[38;5;132;01m{\u001b[39;00mname\u001b[38;5;132;01m}\u001b[39;00m\u001b[33m, \u001b[39m\u001b[38;5;132;01m{\u001b[39;00mage\u001b[38;5;132;01m}\u001b[39;00m\u001b[33m'\u001b[39m)\n\u001b[32m---> \u001b[39m\u001b[32m14\u001b[39m \u001b[43mdisplay_info\u001b[49m\u001b[43m(\u001b[49m\u001b[43m)\u001b[49m\n",
      "\u001b[36mCell\u001b[39m\u001b[36m \u001b[39m\u001b[32mIn[12]\u001b[39m\u001b[32m, line 7\u001b[39m, in \u001b[36mdecorator_function.<locals>.wrapper_function\u001b[39m\u001b[34m()\u001b[39m\n\u001b[32m      5\u001b[39m \u001b[38;5;28;01mdef\u001b[39;00m\u001b[38;5;250m \u001b[39m\u001b[34mwrapper_function\u001b[39m():\n\u001b[32m      6\u001b[39m     \u001b[38;5;28mprint\u001b[39m(\u001b[33m'\u001b[39m\u001b[33mwrapper executed this before \u001b[39m\u001b[38;5;132;01m{}\u001b[39;00m\u001b[33m'\u001b[39m.format(original_function.\u001b[34m__name__\u001b[39m))\n\u001b[32m----> \u001b[39m\u001b[32m7\u001b[39m     \u001b[38;5;28;01mreturn\u001b[39;00m \u001b[43moriginal_function\u001b[49m\u001b[43m(\u001b[49m\u001b[43m)\u001b[49m\n",
      "\u001b[31mTypeError\u001b[39m: display_info() missing 2 required positional arguments: 'name' and 'age'"
     ]
    }
   ],
   "source": [
    "#the above deocorator won't work if the display function takes arguments\n",
    "#the below code will throw error as we are not giving any arguments in the decoato \n",
    "\n",
    "def decorator_function(original_function):\n",
    "    def wrapper_function():\n",
    "        print('wrapper executed this before {}'.format(original_function.__name__))\n",
    "        return original_function()\n",
    "    return wrapper_function\n",
    "    \n",
    "@decorator_function\n",
    "def display_info(name,age):\n",
    "    pint(f'display_info ran with arguments {name}, {age}')\n",
    "\n",
    "display_info()"
   ]
  },
  {
   "cell_type": "code",
   "execution_count": 15,
   "id": "e2e846fa-b63b-4451-bb9b-88423838ffa8",
   "metadata": {},
   "outputs": [
    {
     "name": "stdout",
     "output_type": "stream",
     "text": [
      "wrapper executed this before display_info\n",
      "display_info ran with arguments mahindra, 25\n"
     ]
    }
   ],
   "source": [
    "#to work with n number of arguments use *args,**kwargs will accept any number arbituary\n",
    "#positional and keyword arguments\n",
    "def decorator_function(original_function):\n",
    "    def wrapper_function(*args,**kwargs):\n",
    "        print('wrapper executed this before {}'.format(original_function.__name__))\n",
    "        return original_function(*args,**kwargs)\n",
    "    return wrapper_function\n",
    "    \n",
    "@decorator_function\n",
    "def display_info(name,age):\n",
    "    print(f'display_info ran with arguments {name}, {age}')\n",
    "\n",
    "display_info('mahindra',25)"
   ]
  },
  {
   "cell_type": "code",
   "execution_count": 19,
   "id": "21de7584-3145-4560-af17-94479d19cce0",
   "metadata": {},
   "outputs": [
    {
     "name": "stdout",
     "output_type": "stream",
     "text": [
      "call method executed this before display_info\n",
      "display_info ran with arguments mahindra, 25\n"
     ]
    }
   ],
   "source": [
    "#using classes as decorators instead of function\n",
    "\n",
    "class decorator_class(object):\n",
    "    def __init__(self,original_function):\n",
    "        self.original_function = original_function\n",
    "    def __call__(self,*args,**kwargs):\n",
    "        print('call method executed this before {}'.format(self.original_function.__name__))\n",
    "        return self.original_function(*args,**kwargs)\n",
    "\n",
    "@decorator_class\n",
    "def display_info(name,age):\n",
    "    print(f'display_info ran with arguments {name}, {age}')\n",
    "\n",
    "display_info('mahindra',25)\n",
    "\n",
    "\n"
   ]
  },
  {
   "cell_type": "markdown",
   "id": "5e264618-824b-494b-a302-5464d8f1cc76",
   "metadata": {},
   "source": [
    "### practical examples"
   ]
  },
  {
   "cell_type": "code",
   "execution_count": 22,
   "id": "92656ca1-a2e9-42ae-a2fa-8f2e509f92a2",
   "metadata": {},
   "outputs": [
    {
     "name": "stdout",
     "output_type": "stream",
     "text": [
      "display_info ran with arguments mahindra, 25\n"
     ]
    }
   ],
   "source": [
    "#logging info about arguments everytime a function runs\n",
    "def my_logger(orig_func):\n",
    "    import logging\n",
    "    logging.basicConfig(filename='files/{}.log'.format(orig_func.__name__), level=logging.INFO)\n",
    "\n",
    "    def wrapper(*args, **kwargs):\n",
    "        logging.info(\n",
    "            'Ran with args: {}, and kwargs: {}'.format(args, kwargs))\n",
    "        return orig_func(*args, **kwargs)\n",
    "\n",
    "    return wrapper\n",
    "\n",
    "@my_logger\n",
    "def display_info(name,age):\n",
    "    print(f'display_info ran with arguments {name}, {age}')\n",
    "\n",
    "display_info('mahindra',25)\n"
   ]
  },
  {
   "cell_type": "code",
   "execution_count": 24,
   "id": "e4f9bcdd-0bef-47cc-8b29-c88d7725fbdc",
   "metadata": {},
   "outputs": [
    {
     "name": "stdout",
     "output_type": "stream",
     "text": [
      "display_info ran with arguments mahindra, 25\n",
      "display_info ran in: 1.0010571479797363 sec\n"
     ]
    }
   ],
   "source": [
    "#example 2\n",
    "\n",
    "def my_timer(orig_func):\n",
    "    import time\n",
    "\n",
    "    def wrapper(*args, **kwargs):\n",
    "        t1 = time.time()\n",
    "        result = orig_func(*args, **kwargs)\n",
    "        t2 = time.time() - t1\n",
    "        print('{} ran in: {} sec'.format(orig_func.__name__, t2))\n",
    "        return result\n",
    "\n",
    "    return wrapper\n",
    "\n",
    "import time\n",
    "\n",
    "@my_timer\n",
    "def display_info(name,age):\n",
    "    time.sleep(1)\n",
    "    print(f'display_info ran with arguments {name}, {age}')\n",
    "\n",
    "display_info('mahindra',25)\n",
    "\n"
   ]
  },
  {
   "cell_type": "code",
   "execution_count": 29,
   "id": "3b77c2a0-9e70-40fb-b188-30b22dd5b56d",
   "metadata": {},
   "outputs": [
    {
     "name": "stdout",
     "output_type": "stream",
     "text": [
      "display_info ran with arguments test, 25\n",
      "display_info ran in: 1.003478765487671 sec\n"
     ]
    }
   ],
   "source": [
    "#applying multiple wrappers on one function\n",
    "def my_logger(orig_func):\n",
    "    import logging\n",
    "    logging.basicConfig(filename='files/{}.log'.format(orig_func.__name__), level=logging.INFO)\n",
    "\n",
    "    def wrapper(*args, **kwargs):\n",
    "        logging.info(\n",
    "            'Ran with args: {}, and kwargs: {}'.format(args, kwargs))\n",
    "        return orig_func(*args, **kwargs)\n",
    "\n",
    "    return wrapper\n",
    "\n",
    "\n",
    "def my_timer(orig_func):\n",
    "    import time\n",
    "\n",
    "    def wrapper(*args, **kwargs):\n",
    "        t1 = time.time()\n",
    "        result = orig_func(*args, **kwargs)\n",
    "        t2 = time.time() - t1\n",
    "        print('{} ran in: {} sec'.format(orig_func.__name__, t2))\n",
    "        return result\n",
    "\n",
    "    return wrapper\n",
    "\n",
    "@my_logger\n",
    "@my_timer\n",
    "def display_info(name,age):\n",
    "    time.sleep(1)\n",
    "    print(f'display_info ran with arguments {name}, {age}')\n",
    "\n",
    "\n",
    "#the above means the same as saying\n",
    "\n",
    "# display_info = my_logger(my_timer(display_info))\n",
    "\n",
    "display_info('test',25)\n",
    "\n"
   ]
  },
  {
   "cell_type": "code",
   "execution_count": 30,
   "id": "28736455-8662-4825-b26c-193abc400841",
   "metadata": {},
   "outputs": [
    {
     "name": "stdout",
     "output_type": "stream",
     "text": [
      "display_info ran with arguments test, 25\n",
      "display_info ran in: 1.004645586013794 sec\n"
     ]
    }
   ],
   "source": [
    "#to preserve the original function from changing the name to wrapper \n",
    "#well use wraps from functools\n",
    "from functools import wraps\n",
    "\n",
    "#applying multiple wrappers on one function\n",
    "def my_logger(orig_func):\n",
    "    import logging\n",
    "    logging.basicConfig(filename='files/{}.log'.format(orig_func.__name__), level=logging.INFO)\n",
    "    @wraps(orig_func)\n",
    "    def wrapper(*args, **kwargs):\n",
    "        logging.info(\n",
    "            'Ran with args: {}, and kwargs: {}'.format(args, kwargs))\n",
    "        return orig_func(*args, **kwargs)\n",
    "\n",
    "    return wrapper\n",
    "\n",
    "\n",
    "def my_timer(orig_func):\n",
    "    import time\n",
    "    @wraps(orig_func)\n",
    "    def wrapper(*args, **kwargs):\n",
    "        t1 = time.time()\n",
    "        result = orig_func(*args, **kwargs)\n",
    "        t2 = time.time() - t1\n",
    "        print('{} ran in: {} sec'.format(orig_func.__name__, t2))\n",
    "        return result\n",
    "\n",
    "    return wrapper\n",
    "\n",
    "@my_logger\n",
    "@my_timer\n",
    "def display_info(name,age):\n",
    "    time.sleep(1)\n",
    "    print(f'display_info ran with arguments {name}, {age}')\n",
    "\n",
    "\n",
    "#the above means the same as saying\n",
    "\n",
    "# display_info = my_logger(my_timer(display_info))\n",
    "\n",
    "display_info('test',25)\n",
    "\n",
    "\n",
    "\n"
   ]
  }
 ],
 "metadata": {
  "kernelspec": {
   "display_name": "Python 3 (ipykernel)",
   "language": "python",
   "name": "python3"
  },
  "language_info": {
   "codemirror_mode": {
    "name": "ipython",
    "version": 3
   },
   "file_extension": ".py",
   "mimetype": "text/x-python",
   "name": "python",
   "nbconvert_exporter": "python",
   "pygments_lexer": "ipython3",
   "version": "3.12.2"
  }
 },
 "nbformat": 4,
 "nbformat_minor": 5
}
