{
 "cells": [
  {
   "cell_type": "code",
   "execution_count": 2,
   "id": "e5397476-8779-4c9e-a45f-86d4460e71ef",
   "metadata": {},
   "outputs": [],
   "source": [
    "li = [3,4,5,6,1,3,7,9,8,2]"
   ]
  },
  {
   "cell_type": "code",
   "execution_count": 4,
   "id": "68d664f2-c517-42e2-a975-86d358244fd3",
   "metadata": {},
   "outputs": [
    {
     "name": "stdout",
     "output_type": "stream",
     "text": [
      "[1, 2, 3, 3, 4, 5, 6, 7, 8, 9]\n"
     ]
    }
   ],
   "source": [
    "#sorting without disturbing the original list\n",
    "s_li = sorted(li)\n",
    "print(s_li)"
   ]
  },
  {
   "cell_type": "code",
   "execution_count": 5,
   "id": "094e28c4-ac8e-439e-809d-a20ec8537902",
   "metadata": {},
   "outputs": [
    {
     "name": "stdout",
     "output_type": "stream",
     "text": [
      "[3, 4, 5, 6, 1, 3, 7, 9, 8, 2]\n",
      "[1, 2, 3, 3, 4, 5, 6, 7, 8, 9]\n"
     ]
    }
   ],
   "source": [
    "print(li)\n",
    "print(s_li)"
   ]
  },
  {
   "cell_type": "code",
   "execution_count": 6,
   "id": "c2cfd8f4-7613-4128-b097-f37d67dd86cf",
   "metadata": {},
   "outputs": [
    {
     "name": "stdout",
     "output_type": "stream",
     "text": [
      "[1, 2, 3, 3, 4, 5, 6, 7, 8, 9]\n"
     ]
    }
   ],
   "source": [
    "#sorting pemanently using a list method\n",
    "li.sort()  #this will return None\n",
    "print(li)"
   ]
  },
  {
   "cell_type": "code",
   "execution_count": 7,
   "id": "af5443bc-7eae-4059-afe3-a3d078f9f656",
   "metadata": {},
   "outputs": [
    {
     "name": "stdout",
     "output_type": "stream",
     "text": [
      "[9, 8, 7, 6, 5, 4, 3, 3, 2, 1]\n",
      "[9, 8, 7, 6, 5, 4, 3, 3, 2, 1]\n"
     ]
    }
   ],
   "source": [
    "#sorting in reverse\n",
    "s_li = sorted(li, reverse=True)\n",
    "li.sort(reverse = True)\n",
    "print(li)\n",
    "print(s_li)"
   ]
  },
  {
   "cell_type": "code",
   "execution_count": 12,
   "id": "e11f2bf7-8d0b-47e8-a437-acf9f61307f1",
   "metadata": {},
   "outputs": [
    {
     "name": "stdout",
     "output_type": "stream",
     "text": [
      "[1, 2, 4, 5, 6, 7, 9]\n",
      "<class 'list'>\n"
     ]
    }
   ],
   "source": [
    "#tuple doesn't have a sort method in build so we should use sorted function\n",
    "tup = (4,5,6,7,1,2,9)\n",
    "s_tup = sorted(tup)\n",
    "print(s_tup)\n",
    "print(type(s_tup))"
   ]
  },
  {
   "cell_type": "markdown",
   "id": "02f8d3e0-3f03-432c-8a21-98b2573488c7",
   "metadata": {},
   "source": [
    "### sorting dictionary"
   ]
  },
  {
   "cell_type": "code",
   "execution_count": 10,
   "id": "0d7aa53b-2c1d-4747-8131-de049e082ea9",
   "metadata": {},
   "outputs": [
    {
     "name": "stdout",
     "output_type": "stream",
     "text": [
      "['age', 'job', 'name', 'os']\n"
     ]
    }
   ],
   "source": [
    "#this is going to sort keys by default\n",
    "di ={'name': 'Mahendra', 'job' :'programming', 'age':None , 'os':'Windows'}\n",
    "s_di = sorted(di)\n",
    "print(s_di)"
   ]
  },
  {
   "cell_type": "code",
   "execution_count": 14,
   "id": "ee827a73-4f8a-4f74-9d74-1b5823f38f32",
   "metadata": {},
   "outputs": [
    {
     "name": "stdout",
     "output_type": "stream",
     "text": [
      "[1, 2, 3, -4, -5, -6]\n"
     ]
    }
   ],
   "source": [
    "#sorting the list with a key\n",
    "li = [-6,-5,-4,1,2,3]\n",
    "s_li = sorted(li,key=abs)\n",
    "print(s_li)"
   ]
  },
  {
   "cell_type": "code",
   "execution_count": 23,
   "id": "595d2fcf-18e6-4158-a917-61b1b8718714",
   "metadata": {},
   "outputs": [],
   "source": [
    "#this will be helpful when used for objects, when sorted function doesn't know how \n",
    "#sort the data\n",
    "\n",
    "class Employee():\n",
    "    def __init__(self, name, age, salary):\n",
    "        self.name = name\n",
    "        self.age = age\n",
    "        self.salary = salary\n",
    "    def __repr__(self):\n",
    "        return '({}, {},${})'.format(self.name, self.age, self.salary)\n",
    "emp1= Employee('Carl', 37, 70000)\n",
    "emp2 = Employee('Sarah', 29, 80000)\n",
    "emp3= Employee('John', 43, 90000)\n",
    "employees = [emp1,emp2,emp3]\n",
    "# print(emp1)"
   ]
  },
  {
   "cell_type": "code",
   "execution_count": 26,
   "id": "fe6ddc64-845a-4930-b421-eb027cf8b15b",
   "metadata": {},
   "outputs": [
    {
     "name": "stdout",
     "output_type": "stream",
     "text": [
      "[(Sarah, 29,$80000), (John, 43,$90000), (Carl, 37,$70000)]\n"
     ]
    }
   ],
   "source": [
    "def e_sort(emp):\n",
    "    return emp.name\n",
    "print(sorted(employees, key=e_sort,reverse = True))"
   ]
  },
  {
   "cell_type": "code",
   "execution_count": 28,
   "id": "d2fc0458-9926-4635-be14-3bd0e0511a6b",
   "metadata": {},
   "outputs": [
    {
     "name": "stdout",
     "output_type": "stream",
     "text": [
      "[(John, 43,$90000), (Carl, 37,$70000), (Sarah, 29,$80000)]\n"
     ]
    }
   ],
   "source": [
    "print(sorted(employees, key=lambda e:e.age,reverse = True))"
   ]
  },
  {
   "cell_type": "code",
   "execution_count": 30,
   "id": "979af203-daa5-4195-aa88-f0d59353e642",
   "metadata": {},
   "outputs": [
    {
     "name": "stdout",
     "output_type": "stream",
     "text": [
      "[(Sarah, 29,$80000), (Carl, 37,$70000), (John, 43,$90000)]\n"
     ]
    }
   ],
   "source": [
    "from operator import attrgetter\n",
    "\n",
    "s_employees = sorted(employees, key=attrgetter('age'))\n",
    "\n",
    "print(s_employees)"
   ]
  },
  {
   "cell_type": "code",
   "execution_count": null,
   "id": "1e29c38e-d86c-41ba-889a-72a662cf128c",
   "metadata": {},
   "outputs": [],
   "source": []
  }
 ],
 "metadata": {
  "kernelspec": {
   "display_name": "Python 3 (ipykernel)",
   "language": "python",
   "name": "python3"
  },
  "language_info": {
   "codemirror_mode": {
    "name": "ipython",
    "version": 3
   },
   "file_extension": ".py",
   "mimetype": "text/x-python",
   "name": "python",
   "nbconvert_exporter": "python",
   "pygments_lexer": "ipython3",
   "version": "3.12.2"
  }
 },
 "nbformat": 4,
 "nbformat_minor": 5
}
