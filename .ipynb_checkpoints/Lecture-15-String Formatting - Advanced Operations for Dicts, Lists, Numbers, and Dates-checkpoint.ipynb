{
 "cells": [
  {
   "cell_type": "code",
   "execution_count": null,
   "id": "aee40b8b-9ab3-47e1-9b44-b751f149d896",
   "metadata": {},
   "outputs": [],
   "source": [
    "person = {'name' :'Jenn','age':23}\n"
   ]
  },
  {
   "cell_type": "code",
   "execution_count": 1,
   "id": "5d460c3b-6d5c-4801-a1f7-427cb91070ff",
   "metadata": {},
   "outputs": [
    {
     "name": "stdout",
     "output_type": "stream",
     "text": [
      "the value is 001\n",
      "the value is 002\n",
      "the value is 003\n",
      "the value is 004\n",
      "the value is 005\n",
      "the value is 006\n",
      "the value is 007\n",
      "the value is 008\n",
      "the value is 009\n",
      "the value is 010\n"
     ]
    }
   ],
   "source": [
    "#padding numbers\n",
    "#colon is for the we are going to use formatting\n",
    "for i in range(1,11):\n",
    "    print('the value is {:03}'.format(i))"
   ]
  },
  {
   "cell_type": "code",
   "execution_count": 3,
   "id": "a011b9d1-aca3-42d1-a469-274352242d47",
   "metadata": {},
   "outputs": [
    {
     "name": "stdout",
     "output_type": "stream",
     "text": [
      "pi is equal to 3.14\n"
     ]
    }
   ],
   "source": [
    "#to concatenate the decimal places\n",
    "pi = 3.14159265\n",
    "print('pi is equal to {:.2f}'.format(pi))"
   ]
  },
  {
   "cell_type": "code",
   "execution_count": 6,
   "id": "8998fbc4-7051-435b-abe8-dbf5404d4258",
   "metadata": {},
   "outputs": [
    {
     "name": "stdout",
     "output_type": "stream",
     "text": [
      "1 MB is equal to 1,000,000.00 bytes\n"
     ]
    }
   ],
   "source": [
    "#for putting commas on a big number\n",
    "print('1 MB is equal to {:,.2f} bytes'.format(1000**2))"
   ]
  },
  {
   "cell_type": "code",
   "execution_count": 7,
   "id": "2d5e76fc-59e2-4304-b8bf-eec8dca27793",
   "metadata": {},
   "outputs": [
    {
     "name": "stdout",
     "output_type": "stream",
     "text": [
      "2016-09-24 12:30:45\n"
     ]
    }
   ],
   "source": [
    "import datetime\n",
    "my_date = datetime.datetime(2016,9,24,12,30,45)\n",
    "print(my_date)"
   ]
  },
  {
   "cell_type": "code",
   "execution_count": 8,
   "id": "5bab1fd6-80e7-4a75-ae30-f771fdc5188a",
   "metadata": {},
   "outputs": [
    {
     "name": "stdout",
     "output_type": "stream",
     "text": [
      "September 24,2016\n"
     ]
    }
   ],
   "source": [
    "print('{:%B %d,%Y}'.format(my_date))"
   ]
  },
  {
   "cell_type": "code",
   "execution_count": null,
   "id": "d5051d01-10cf-4afe-97a0-1b367c41dddb",
   "metadata": {},
   "outputs": [],
   "source": []
  }
 ],
 "metadata": {
  "kernelspec": {
   "display_name": "Python 3 (ipykernel)",
   "language": "python",
   "name": "python3"
  },
  "language_info": {
   "codemirror_mode": {
    "name": "ipython",
    "version": 3
   },
   "file_extension": ".py",
   "mimetype": "text/x-python",
   "name": "python",
   "nbconvert_exporter": "python",
   "pygments_lexer": "ipython3",
   "version": "3.12.2"
  }
 },
 "nbformat": 4,
 "nbformat_minor": 5
}
