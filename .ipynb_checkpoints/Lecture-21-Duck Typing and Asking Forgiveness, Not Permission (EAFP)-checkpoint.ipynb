{
 "cells": [
  {
   "cell_type": "code",
   "execution_count": 3,
   "id": "fb43e44e-8ef9-4884-946b-9ebb3da8da51",
   "metadata": {},
   "outputs": [
    {
     "name": "stdout",
     "output_type": "stream",
     "text": [
      "<class 'list'>\n"
     ]
    }
   ],
   "source": [
    "# Duck Typing and Easier to ask forgiveness than permission (EAFP)\n",
    "#its better to use try/except rather than putting multiple checks in if else blocks\n",
    "#its more clean using try/except (pythonic way)\n",
    "\n",
    "\n",
    "class Duck:\n",
    "\n",
    "    def quack(self):\n",
    "        print('Quack, quack')\n",
    "\n",
    "    def fly(self):\n",
    "        print('Flap, Flap!')\n",
    "\n",
    "\n",
    "class Person:\n",
    "\n",
    "    def quack(self):\n",
    "        print(\"I'm Quacking Like a Duck!\")\n",
    "\n",
    "    def fly(self):\n",
    "        print(\"I'm Flapping my Arms!\")\n",
    "\n",
    "\n",
    "def quack_and_fly(thing):\n",
    "    pass\n",
    "    # Not Duck-Typed (Non-Pythonic)\n",
    "    if isinstance(thing, Duck):\n",
    "        thing.quack()\n",
    "        thing.fly()\n",
    "    else:\n",
    "        print('This has to be a Duck!')\n",
    "\n",
    "    # LBYL (Non-Pythonic)\n",
    "    if hasattr(thing, 'quack'):\n",
    "        if callable(thing.quack):\n",
    "            thing.quack()\n",
    "\n",
    "    if hasattr(thing, 'fly'):\n",
    "        if callable(thing.fly):\n",
    "            thing.fly()\n",
    "\n",
    "        try:\n",
    "            thing.quack()\n",
    "            thing.fly()\n",
    "            thing.bark()\n",
    "        except AttributeError as e:\n",
    "            print(e)\n",
    "\n",
    "d = Duck()\n",
    "\n",
    "print(type(dir(d)))"
   ]
  },
  {
   "cell_type": "code",
   "execution_count": null,
   "id": "85316e7d-ac9d-4ff0-9f30-0cba6843bb05",
   "metadata": {},
   "outputs": [],
   "source": []
  }
 ],
 "metadata": {
  "kernelspec": {
   "display_name": "Python 3 (ipykernel)",
   "language": "python",
   "name": "python3"
  },
  "language_info": {
   "codemirror_mode": {
    "name": "ipython",
    "version": 3
   },
   "file_extension": ".py",
   "mimetype": "text/x-python",
   "name": "python",
   "nbconvert_exporter": "python",
   "pygments_lexer": "ipython3",
   "version": "3.12.2"
  }
 },
 "nbformat": 4,
 "nbformat_minor": 5
}
