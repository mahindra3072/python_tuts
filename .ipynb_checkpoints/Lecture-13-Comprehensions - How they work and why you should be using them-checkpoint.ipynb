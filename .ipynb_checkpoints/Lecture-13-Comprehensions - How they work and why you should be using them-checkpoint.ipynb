{
 "cells": [
  {
   "cell_type": "code",
   "execution_count": 2,
   "id": "9485d85d-40c1-4a88-b299-dd1343ef16a0",
   "metadata": {},
   "outputs": [],
   "source": [
    "nums = [1,2,3,4,5,6,7,8,9,10]"
   ]
  },
  {
   "cell_type": "code",
   "execution_count": 3,
   "id": "1f452ad6-6f9d-40a7-a345-928992294db0",
   "metadata": {},
   "outputs": [
    {
     "name": "stdout",
     "output_type": "stream",
     "text": [
      "[1, 2, 3, 4, 5, 6, 7, 8, 9, 10]\n"
     ]
    }
   ],
   "source": [
    "#list compehensions\n",
    "my_list = [n for n in nums]\n",
    "print(my_list)"
   ]
  },
  {
   "cell_type": "code",
   "execution_count": 4,
   "id": "048e5022-4ba2-4728-9a75-67846c93daca",
   "metadata": {},
   "outputs": [
    {
     "name": "stdout",
     "output_type": "stream",
     "text": [
      "<map object at 0x0000018CE881F460>\n"
     ]
    }
   ],
   "source": [
    "#map function - it will run a function for every element in the list\n",
    " \n",
    "my_list = map(lambda n:n*n, nums)\n",
    "print(my_list)"
   ]
  },
  {
   "cell_type": "code",
   "execution_count": 5,
   "id": "88661c1b-35c8-4804-bb89-aca8518e9599",
   "metadata": {},
   "outputs": [
    {
     "name": "stdout",
     "output_type": "stream",
     "text": [
      "[2, 4, 6, 8, 10]\n"
     ]
    }
   ],
   "source": [
    "#list comprehension with condionals\n",
    "my_list = [n for n in nums if n%2==0]\n",
    "print(my_list)"
   ]
  },
  {
   "cell_type": "code",
   "execution_count": 6,
   "id": "2f7894e3-2775-47b1-8f8e-386e2895cb5c",
   "metadata": {},
   "outputs": [
    {
     "name": "stdout",
     "output_type": "stream",
     "text": [
      "<filter object at 0x0000018CE894ABF0>\n"
     ]
    }
   ],
   "source": [
    "#filter works similar to the map function\n",
    "my_list= filter(lambda n:n%2 ==0 ,nums)\n",
    "print(my_list)"
   ]
  },
  {
   "cell_type": "code",
   "execution_count": 8,
   "id": "2f858934-6d17-4a41-9053-c317b16d28d0",
   "metadata": {},
   "outputs": [
    {
     "data": {
      "text/plain": [
       "[('a', 0),\n",
       " ('a', 1),\n",
       " ('a', 2),\n",
       " ('a', 3),\n",
       " ('b', 0),\n",
       " ('b', 1),\n",
       " ('b', 2),\n",
       " ('b', 3),\n",
       " ('c', 0),\n",
       " ('c', 1),\n",
       " ('c', 2),\n",
       " ('c', 3),\n",
       " ('d', 0),\n",
       " ('d', 1),\n",
       " ('d', 2),\n",
       " ('d', 3)]"
      ]
     },
     "execution_count": 8,
     "metadata": {},
     "output_type": "execute_result"
    }
   ],
   "source": [
    "#nested for loops in list compehensions\n",
    "my_list = [(letter,num) for letter in 'abcd' for num in range(4)]\n",
    "my_list"
   ]
  },
  {
   "cell_type": "markdown",
   "id": "1e01717d-21f6-4c6e-9770-c328f37c52ac",
   "metadata": {},
   "source": [
    "### Dictionary Comprehensions"
   ]
  },
  {
   "cell_type": "code",
   "execution_count": null,
   "id": "4ee96be2-c43a-40b0-baf0-390aca0d5e8b",
   "metadata": {},
   "outputs": [],
   "source": [
    "# Dictionary Comprehensions\n",
    "names = ['Bruce', 'Clark', 'Peter', 'Logan', 'Wade']\n",
    "heros = ['Batman', 'Superman', 'Spiderman', 'Wolverine', 'Deadpool']\n",
    "\n",
    "print(zip(names,heros))\n",
    "#this will create list of tuples"
   ]
  },
  {
   "cell_type": "code",
   "execution_count": 11,
   "id": "b69a2dc0-306b-45d8-a0e2-f1a49c0b0de0",
   "metadata": {},
   "outputs": [
    {
     "name": "stdout",
     "output_type": "stream",
     "text": [
      "{'Bruce': 'Batman', 'Clark': 'Superman', 'Peter': 'Spiderman', 'Logan': 'Wolverine', 'Wade': 'Deadpool'}\n"
     ]
    }
   ],
   "source": [
    "my_dict = {name:hero for name,hero in zip(names,heros)}\n",
    "print(my_dict)"
   ]
  },
  {
   "cell_type": "code",
   "execution_count": 12,
   "id": "04507bc2-eb06-4172-b4d5-5cdb8a8e2586",
   "metadata": {},
   "outputs": [
    {
     "name": "stdout",
     "output_type": "stream",
     "text": [
      "{'Bruce': 'Batman', 'Clark': 'Superman', 'Logan': 'Wolverine', 'Wade': 'Deadpool'}\n"
     ]
    }
   ],
   "source": [
    "#if you want to skip a name use condition\n",
    "my_dict = {name:hero for name,hero in zip(names,heros) if name != 'Peter'}\n",
    "print(my_dict)"
   ]
  },
  {
   "cell_type": "markdown",
   "id": "03aa89a1-0e49-4028-98ed-40ef93bd83fa",
   "metadata": {},
   "source": [
    "### Set comprehensions"
   ]
  },
  {
   "cell_type": "code",
   "execution_count": 17,
   "id": "2097fe5e-31d9-489e-9d42-f3b6ed9b7433",
   "metadata": {},
   "outputs": [],
   "source": [
    "# Set Comprehensions\n",
    "nums = [1,1,2,1,3,4,3,4,5,5,6,7,8,7,9,9]"
   ]
  },
  {
   "cell_type": "code",
   "execution_count": 13,
   "id": "273ca80e-9ee3-4302-9c70-7b962a682b9f",
   "metadata": {},
   "outputs": [
    {
     "data": {
      "text/plain": [
       "{1, 2, 3, 4, 5, 6, 7, 8, 9, 10}"
      ]
     },
     "execution_count": 13,
     "metadata": {},
     "output_type": "execute_result"
    }
   ],
   "source": [
    "#we can do list comprehensions with sets ( we should not include colon : in it}\n",
    "my_set = {n for n in nums}\n",
    "my_set"
   ]
  },
  {
   "cell_type": "markdown",
   "id": "c2f49fd2-4488-49ab-9f0e-f037708d021a",
   "metadata": {},
   "source": [
    "### Generator expressions"
   ]
  },
  {
   "cell_type": "code",
   "execution_count": 18,
   "id": "dea0e692-a8d5-4ae1-b7cd-78e23ef04d9e",
   "metadata": {},
   "outputs": [
    {
     "name": "stdout",
     "output_type": "stream",
     "text": [
      "<generator object gen_func at 0x0000018CE8E36810>\n"
     ]
    }
   ],
   "source": [
    "def gen_func(nums):\n",
    "    for n in nums:\n",
    "        yield n*n\n",
    "\n",
    "my_gen = gen_func(nums)\n",
    "print(my_gen)"
   ]
  },
  {
   "cell_type": "code",
   "execution_count": 16,
   "id": "241f9df4-c0e2-4494-b719-c84e5e6b0f1e",
   "metadata": {},
   "outputs": [
    {
     "data": {
      "text/plain": [
       "<generator object <genexpr> at 0x0000018CE8E37100>"
      ]
     },
     "execution_count": 16,
     "metadata": {},
     "output_type": "execute_result"
    }
   ],
   "source": [
    "#this will do the same as above\n",
    "my_gen =(n*n for n in my_gen)\n",
    "my_gen"
   ]
  },
  {
   "cell_type": "code",
   "execution_count": 19,
   "id": "6cb950b1-1dac-4ff2-a591-2d215a11b595",
   "metadata": {},
   "outputs": [
    {
     "name": "stdout",
     "output_type": "stream",
     "text": [
      "1\n",
      "1\n",
      "4\n",
      "1\n",
      "9\n",
      "16\n",
      "9\n",
      "16\n",
      "25\n",
      "25\n",
      "36\n",
      "49\n",
      "64\n",
      "49\n",
      "81\n",
      "81\n"
     ]
    }
   ],
   "source": [
    "for i in my_gen:\n",
    "    print(i)"
   ]
  }
 ],
 "metadata": {
  "kernelspec": {
   "display_name": "Python 3 (ipykernel)",
   "language": "python",
   "name": "python3"
  },
  "language_info": {
   "codemirror_mode": {
    "name": "ipython",
    "version": 3
   },
   "file_extension": ".py",
   "mimetype": "text/x-python",
   "name": "python",
   "nbconvert_exporter": "python",
   "pygments_lexer": "ipython3",
   "version": "3.12.2"
  }
 },
 "nbformat": 4,
 "nbformat_minor": 5
}
