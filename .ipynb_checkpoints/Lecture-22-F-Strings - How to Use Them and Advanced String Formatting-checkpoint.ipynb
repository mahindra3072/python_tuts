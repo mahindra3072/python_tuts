{
 "cells": [
  {
   "cell_type": "code",
   "execution_count": 1,
   "id": "7842be3e-66bd-4425-9551-b3cfa0245a33",
   "metadata": {},
   "outputs": [
    {
     "name": "stdout",
     "output_type": "stream",
     "text": [
      "the value is 01\n",
      "the value is 02\n",
      "the value is 03\n",
      "the value is 04\n",
      "the value is 05\n",
      "the value is 06\n",
      "the value is 07\n",
      "the value is 08\n",
      "the value is 09\n",
      "the value is 10\n"
     ]
    }
   ],
   "source": [
    "#padding using f-strings\n",
    "for n in range(1,11):\n",
    "    sentence = f'the value is {n:02}'\n",
    "    print(sentence)"
   ]
  },
  {
   "cell_type": "code",
   "execution_count": 3,
   "id": "bfaa935c-f59c-4b3f-84e7-6963fc6a46b9",
   "metadata": {},
   "outputs": [
    {
     "name": "stdout",
     "output_type": "stream",
     "text": [
      "the value is 3.1416\n"
     ]
    }
   ],
   "source": [
    "pi = 3.14159265\n",
    "sentence = f'the value is {pi:.4f}'\n",
    "print(sentence)"
   ]
  },
  {
   "cell_type": "code",
   "execution_count": 6,
   "id": "3fd2eea0-9052-4b29-889e-0418be99208e",
   "metadata": {},
   "outputs": [
    {
     "name": "stdout",
     "output_type": "stream",
     "text": [
      "Jenn has a birthday on January 01, 1990\n"
     ]
    }
   ],
   "source": [
    "from datetime import datetime\n",
    "\n",
    "birthday = datetime(1990,1,1)\n",
    "sentence = f'Jenn has a birthday on {birthday:%B %d, %Y}'\n",
    "print(sentence)"
   ]
  }
 ],
 "metadata": {
  "kernelspec": {
   "display_name": "Python 3 (ipykernel)",
   "language": "python",
   "name": "python3"
  },
  "language_info": {
   "codemirror_mode": {
    "name": "ipython",
    "version": 3
   },
   "file_extension": ".py",
   "mimetype": "text/x-python",
   "name": "python",
   "nbconvert_exporter": "python",
   "pygments_lexer": "ipython3",
   "version": "3.12.2"
  }
 },
 "nbformat": 4,
 "nbformat_minor": 5
}
