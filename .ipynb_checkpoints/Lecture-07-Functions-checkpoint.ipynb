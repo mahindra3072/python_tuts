{
 "cells": [
  {
   "cell_type": "code",
   "execution_count": 4,
   "id": "8e1e14b7-fdbe-46a3-8fbe-6c76da67cd16",
   "metadata": {},
   "outputs": [
    {
     "name": "stdout",
     "output_type": "stream",
     "text": [
      "Hi, You\n"
     ]
    }
   ],
   "source": [
    "#your required positional arguments should come before keyword arguments or \n",
    "#else it'll throw error\n",
    "def hello_func(greeting,name='You'):\n",
    "    print(f'{greeting}, {name}')\n",
    "\n",
    "hello_func('Hi')"
   ]
  },
  {
   "cell_type": "code",
   "execution_count": 5,
   "id": "c83ca1d8-070b-4722-bacd-2f4086f9bd03",
   "metadata": {},
   "outputs": [
    {
     "name": "stdout",
     "output_type": "stream",
     "text": [
      "Hi, mahindra\n"
     ]
    }
   ],
   "source": [
    "#calling function with keyword arguments\n",
    "hello_func('Hi', name='mahindra')"
   ]
  },
  {
   "cell_type": "code",
   "execution_count": 7,
   "id": "e1bec108-26ce-46b3-927c-f316438e4250",
   "metadata": {},
   "outputs": [
    {
     "name": "stdout",
     "output_type": "stream",
     "text": [
      "('Math', 'Art')\n",
      "{'name': 'John', 'age': 22}\n"
     ]
    }
   ],
   "source": [
    "#(*args,**kwargs): this will allows to accept arbituary number of arguments\n",
    "#args - will be a tuple type\n",
    "#kwargs - will be keyword argumentes in the form of dicionaries\n",
    "\n",
    "def student_info(*args,**kwargs):\n",
    "    print(args)\n",
    "    print(kwargs)\n",
    "\n",
    "student_info('Math','Art',name='John',age=22)\n",
    "\n"
   ]
  },
  {
   "cell_type": "code",
   "execution_count": 8,
   "id": "f80e09e4-3bdf-4757-b0e4-6b9637bc7301",
   "metadata": {},
   "outputs": [
    {
     "name": "stdout",
     "output_type": "stream",
     "text": [
      "(['Math', 'Art'], {'name': 'John', 'age': 22})\n",
      "{}\n"
     ]
    }
   ],
   "source": [
    "#this will try to unpack everything into a tuple\n",
    "courses = ['Math','Art']\n",
    "info = {'name' : 'John','age':22}\n",
    "student_info(courses,info)"
   ]
  },
  {
   "cell_type": "code",
   "execution_count": 9,
   "id": "0442c349-8a0e-4037-80da-6ec9b1900ba9",
   "metadata": {},
   "outputs": [
    {
     "name": "stdout",
     "output_type": "stream",
     "text": [
      "('Math', 'Art')\n",
      "{'name': 'John', 'age': 22}\n"
     ]
    }
   ],
   "source": [
    "#we have to use * and ** to specifically specify positional and keyword arguments\n",
    "student_info(*courses,**info)"
   ]
  }
 ],
 "metadata": {
  "kernelspec": {
   "display_name": "Python 3 (ipykernel)",
   "language": "python",
   "name": "python3"
  },
  "language_info": {
   "codemirror_mode": {
    "name": "ipython",
    "version": 3
   },
   "file_extension": ".py",
   "mimetype": "text/x-python",
   "name": "python",
   "nbconvert_exporter": "python",
   "pygments_lexer": "ipython3",
   "version": "3.12.2"
  }
 },
 "nbformat": 4,
 "nbformat_minor": 5
}
