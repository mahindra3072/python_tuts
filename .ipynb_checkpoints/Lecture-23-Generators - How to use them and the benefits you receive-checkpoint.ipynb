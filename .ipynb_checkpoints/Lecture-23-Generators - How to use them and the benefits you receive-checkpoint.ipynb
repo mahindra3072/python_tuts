{
 "cells": [
  {
   "cell_type": "code",
   "execution_count": 1,
   "id": "81797a23-16af-405a-b328-d3cc69326b12",
   "metadata": {},
   "outputs": [
    {
     "name": "stdout",
     "output_type": "stream",
     "text": [
      "[1, 4, 9, 16, 25]\n"
     ]
    }
   ],
   "source": [
    "def square_numbers(nums):\n",
    "    result = []\n",
    "    for i in nums:\n",
    "        result.append(i*i)\n",
    "    return result\n",
    "\n",
    "my_nums = square_numbers([1,2,3,4,5])\n",
    "print(my_nums)"
   ]
  },
  {
   "cell_type": "code",
   "execution_count": 7,
   "id": "00051a95-7f67-4afa-8d1a-d07f602c7146",
   "metadata": {},
   "outputs": [
    {
     "name": "stdout",
     "output_type": "stream",
     "text": [
      "1\n",
      "4\n",
      "9\n",
      "16\n",
      "25\n"
     ]
    }
   ],
   "source": [
    "#using yeild won't hold the entire result in the variable \n",
    "#it will generate each value at a time\n",
    "def square_numbers(nums):\n",
    "    for i in nums:\n",
    "        yield (i*i)\n",
    "\n",
    "\n",
    "my_nums = square_numbers([1,2,3,4,5])\n",
    "# print(next(my_nums))  \n",
    "# print(next(my_nums)) \n",
    "# print(next(my_nums)) \n",
    "# print(next(my_nums)) \n",
    "# print(next(my_nums)) \n",
    "# print(next(my_nums)) \n",
    "\n",
    "for num in my_nums:\n",
    "    print(num)\n",
    "\n"
   ]
  },
  {
   "cell_type": "code",
   "execution_count": null,
   "id": "eb349b5c-fb49-4c9f-9684-873e32fef29f",
   "metadata": {},
   "outputs": [],
   "source": [
    "#generators are good for large amount of date where we don't need to store it in memory\n",
    "\n"
   ]
  }
 ],
 "metadata": {
  "kernelspec": {
   "display_name": "Python 3 (ipykernel)",
   "language": "python",
   "name": "python3"
  },
  "language_info": {
   "codemirror_mode": {
    "name": "ipython",
    "version": 3
   },
   "file_extension": ".py",
   "mimetype": "text/x-python",
   "name": "python",
   "nbconvert_exporter": "python",
   "pygments_lexer": "ipython3",
   "version": "3.12.2"
  }
 },
 "nbformat": 4,
 "nbformat_minor": 5
}
