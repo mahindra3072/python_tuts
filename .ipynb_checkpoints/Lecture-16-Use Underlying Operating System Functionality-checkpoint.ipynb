{
 "cells": [
  {
   "cell_type": "code",
   "execution_count": 1,
   "id": "36b04add-3f23-42b8-ba3d-0c09114d4a1e",
   "metadata": {},
   "outputs": [
    {
     "name": "stdout",
     "output_type": "stream",
     "text": [
      "['DirEntry', 'EX_OK', 'F_OK', 'GenericAlias', 'Mapping', 'MutableMapping', 'O_APPEND', 'O_BINARY', 'O_CREAT', 'O_EXCL', 'O_NOINHERIT', 'O_RANDOM', 'O_RDONLY', 'O_RDWR', 'O_SEQUENTIAL', 'O_SHORT_LIVED', 'O_TEMPORARY', 'O_TEXT', 'O_TRUNC', 'O_WRONLY', 'P_DETACH', 'P_NOWAIT', 'P_NOWAITO', 'P_OVERLAY', 'P_WAIT', 'PathLike', 'R_OK', 'SEEK_CUR', 'SEEK_END', 'SEEK_SET', 'TMP_MAX', 'W_OK', 'X_OK', '_AddedDllDirectory', '_Environ', '__all__', '__builtins__', '__doc__', '__file__', '__loader__', '__name__', '__package__', '__spec__', '_check_methods', '_execvpe', '_exists', '_exit', '_fspath', '_get_exports_list', '_wrap_close', 'abc', 'abort', 'access', 'add_dll_directory', 'altsep', 'chdir', 'chmod', 'close', 'closerange', 'cpu_count', 'curdir', 'defpath', 'device_encoding', 'devnull', 'dup', 'dup2', 'environ', 'error', 'execl', 'execle', 'execlp', 'execlpe', 'execv', 'execve', 'execvp', 'execvpe', 'extsep', 'fdopen', 'fsdecode', 'fsencode', 'fspath', 'fstat', 'fsync', 'ftruncate', 'get_blocking', 'get_exec_path', 'get_handle_inheritable', 'get_inheritable', 'get_terminal_size', 'getcwd', 'getcwdb', 'getenv', 'getlogin', 'getpid', 'getppid', 'isatty', 'kill', 'linesep', 'link', 'listdir', 'listdrives', 'listmounts', 'listvolumes', 'lseek', 'lstat', 'makedirs', 'mkdir', 'name', 'open', 'pardir', 'path', 'pathsep', 'pipe', 'popen', 'putenv', 'read', 'readlink', 'remove', 'removedirs', 'rename', 'renames', 'replace', 'rmdir', 'scandir', 'sep', 'set_blocking', 'set_handle_inheritable', 'set_inheritable', 'spawnl', 'spawnle', 'spawnv', 'spawnve', 'st', 'startfile', 'stat', 'stat_result', 'statvfs_result', 'strerror', 'supports_bytes_environ', 'supports_dir_fd', 'supports_effective_ids', 'supports_fd', 'supports_follow_symlinks', 'symlink', 'sys', 'system', 'terminal_size', 'times', 'times_result', 'truncate', 'umask', 'uname_result', 'unlink', 'unsetenv', 'urandom', 'utime', 'waitpid', 'waitstatus_to_exitcode', 'walk', 'write']\n"
     ]
    }
   ],
   "source": [
    "import os\n",
    "print(dir(os))"
   ]
  },
  {
   "cell_type": "code",
   "execution_count": 3,
   "id": "4ba00525-1fa5-408f-ba28-bdddb72c9b34",
   "metadata": {},
   "outputs": [
    {
     "name": "stdout",
     "output_type": "stream",
     "text": [
      "C:\\Users\\2000078139\\Desktop\\pandas\\python\n"
     ]
    }
   ],
   "source": [
    "#current working dir\n",
    "print(os.getcwd())"
   ]
  },
  {
   "cell_type": "code",
   "execution_count": 6,
   "id": "048b9829-11f8-4755-a996-95bcf5e5e93e",
   "metadata": {},
   "outputs": [
    {
     "ename": "FileNotFoundError",
     "evalue": "[WinError 2] The system cannot find the file specified: 'packages/'",
     "output_type": "error",
     "traceback": [
      "\u001b[31m---------------------------------------------------------------------------\u001b[39m",
      "\u001b[31mFileNotFoundError\u001b[39m                         Traceback (most recent call last)",
      "\u001b[36mCell\u001b[39m\u001b[36m \u001b[39m\u001b[32mIn[6]\u001b[39m\u001b[32m, line 2\u001b[39m\n\u001b[32m      1\u001b[39m \u001b[38;5;66;03m#navigate to a folder\u001b[39;00m\n\u001b[32m----> \u001b[39m\u001b[32m2\u001b[39m \u001b[43mos\u001b[49m\u001b[43m.\u001b[49m\u001b[43mchdir\u001b[49m\u001b[43m(\u001b[49m\u001b[33;43m'\u001b[39;49m\u001b[33;43mpackages/\u001b[39;49m\u001b[33;43m'\u001b[39;49m\u001b[43m)\u001b[49m\n\u001b[32m      3\u001b[39m \u001b[38;5;28mprint\u001b[39m(os.getcwd())\n",
      "\u001b[31mFileNotFoundError\u001b[39m: [WinError 2] The system cannot find the file specified: 'packages/'"
     ]
    }
   ],
   "source": [
    "#navigate to a folder\n",
    "os.chdir('packages/')\n",
    "print(os.getcwd())"
   ]
  },
  {
   "cell_type": "code",
   "execution_count": 7,
   "id": "ccd8c722-90d4-4c08-8d79-0f0277cc1323",
   "metadata": {},
   "outputs": [
    {
     "name": "stdout",
     "output_type": "stream",
     "text": [
      "['.ipynb_checkpoints', 'custom_package.py', 'requirements.txt', '__pycache__']\n"
     ]
    }
   ],
   "source": [
    "#listing the files and folders in the directory\n",
    "print(os.listdir())"
   ]
  },
  {
   "cell_type": "code",
   "execution_count": 9,
   "id": "89458556-575f-40cc-9e1c-324f059c99b0",
   "metadata": {},
   "outputs": [
    {
     "name": "stdout",
     "output_type": "stream",
     "text": [
      "['desktop.ini', 'Microsoft Edge.lnk', 'oracle', 'os-demo-1', 'pandas', 'Programs', 'python']\n"
     ]
    }
   ],
   "source": [
    "#create a folder on desktop\n",
    "os.mkdir('C:/Users/2000078139/Desktop/os-demo-1')\n",
    "print(os.listdir('C:/Users/2000078139/Desktop'))"
   ]
  },
  {
   "cell_type": "code",
   "execution_count": 11,
   "id": "c11e12d2-055b-4969-a7e4-1d5179b629d0",
   "metadata": {},
   "outputs": [
    {
     "name": "stdout",
     "output_type": "stream",
     "text": [
      "['desktop.ini', 'Microsoft Edge.lnk', 'oracle', 'os-demo-1', 'os-demo-2', 'pandas', 'Programs', 'python']\n"
     ]
    }
   ],
   "source": [
    "#to create multiple foders deep withing folders we should use mkdirs\n",
    "os.makedirs('C:/Users/2000078139/Desktop/os-demo-2/sub-dir-1')\n",
    "print(os.listdir('C:/Users/2000078139/Desktop'))"
   ]
  },
  {
   "cell_type": "code",
   "execution_count": 16,
   "id": "dd1dd8dc-4ec0-441b-a44d-f37935263536",
   "metadata": {},
   "outputs": [
    {
     "name": "stdout",
     "output_type": "stream",
     "text": [
      "['desktop.ini', 'Microsoft Edge.lnk', 'oracle', 'os-demo-2', 'pandas', 'Programs', 'python']\n"
     ]
    }
   ],
   "source": [
    "#deleting folder\n",
    "#this will throw error if the directory contains files or folders\n",
    "#the below code will only delete the sub-dir-1 instead of the whole folder sturcture\n",
    "os.rmdir('C:/Users/2000078139/Desktop/os-demo-2/sub-dir-1')\n",
    "print(os.listdir('C:/Users/2000078139/Desktop'))"
   ]
  },
  {
   "cell_type": "code",
   "execution_count": 15,
   "id": "8907abe4-0add-49fc-b773-c68b46b3792c",
   "metadata": {},
   "outputs": [
    {
     "name": "stdout",
     "output_type": "stream",
     "text": [
      "['desktop.ini', 'Microsoft Edge.lnk', 'oracle', 'os-demo-2', 'pandas', 'Programs', 'python']\n"
     ]
    }
   ],
   "source": [
    "#delete files and directories recursively\n",
    "#we have to mention the full path of the directoreis to be deleted recursively\n",
    "os.removedirs('C:/Users/2000078139/Desktop/os-demo-1/sub-dir-1')\n",
    "print(os.listdir('C:/Users/2000078139/Desktop'))\n"
   ]
  },
  {
   "cell_type": "code",
   "execution_count": 18,
   "id": "fa0fd9c8-4e5e-433e-8a68-3ad1791e1ca9",
   "metadata": {},
   "outputs": [
    {
     "name": "stdout",
     "output_type": "stream",
     "text": [
      "['demofile.txt', 'desktop.ini', 'Microsoft Edge.lnk', 'oracle', 'os-demo-2', 'pandas', 'Programs', 'python']\n",
      "['demo.txt', 'desktop.ini', 'Microsoft Edge.lnk', 'oracle', 'os-demo-2', 'pandas', 'Programs', 'python']\n"
     ]
    }
   ],
   "source": [
    "#renaming a file\n",
    "print(os.listdir('C:/Users/2000078139/Desktop'))\n",
    "os.chdir('C:/Users/2000078139/Desktop')\n",
    "os.rename('demofile.txt','demo.txt')\n",
    "print(os.listdir('C:/Users/2000078139/Desktop'))\n",
    "\n"
   ]
  },
  {
   "cell_type": "code",
   "execution_count": 21,
   "id": "00764d74-0efc-455e-a443-8fe9e89dc8ab",
   "metadata": {},
   "outputs": [
    {
     "name": "stdout",
     "output_type": "stream",
     "text": [
      "21\n"
     ]
    }
   ],
   "source": [
    "#stats of a file\n",
    "print(os.stat('demo.txt').st_size)"
   ]
  },
  {
   "cell_type": "code",
   "execution_count": 23,
   "id": "8781f37b-94ba-4cfa-8c16-8e92d0113b89",
   "metadata": {},
   "outputs": [
    {
     "name": "stdout",
     "output_type": "stream",
     "text": [
      "2025-07-14 13:10:30.401711\n"
     ]
    }
   ],
   "source": [
    "from datetime import datetime\n",
    "\n",
    "print(datetime.fromtimestamp(os.stat('demo.txt').st_mtime))"
   ]
  },
  {
   "cell_type": "code",
   "execution_count": 30,
   "id": "e1ff183a-4661-4a7f-9026-8dc68ecf13af",
   "metadata": {},
   "outputs": [
    {
     "name": "stdout",
     "output_type": "stream",
     "text": [
      "Directory - C:/Users/2000078139/Desktop\n",
      "Directories - ['oracle', 'os-demo-2', 'pandas', 'Programs', 'python']\n",
      "Files - ['demo.txt', 'desktop.ini', 'Microsoft Edge.lnk']\n",
      "Directory - C:/Users/2000078139/Desktop\\oracle\n",
      "Directories - []\n",
      "Files - ['ip.txt', 'oracle_putty_connect.ppk']\n",
      "Directory - C:/Users/2000078139/Desktop\\os-demo-2\n",
      "Directories - []\n",
      "Files - []\n",
      "Directory - C:/Users/2000078139/Desktop\\pandas\n",
      "Directories - ['.git', '.ipynb_checkpoints', 'code', 'output', 'python', 'snippets', 'stack-overflow-developer-survey-2019']\n",
      "Files - ['.gitignore']\n",
      "Directory - C:/Users/2000078139/Desktop\\pandas\\.git\n",
      "Directories - ['hooks', 'info', 'logs', 'objects', 'refs']\n",
      "Files - ['COMMIT_EDITMSG', 'config', 'description', 'HEAD', 'index']\n",
      "Directory - C:/Users/2000078139/Desktop\\pandas\\.git\\hooks\n",
      "Directories - []\n",
      "Files - ['applypatch-msg.sample', 'commit-msg.sample', 'fsmonitor-watchman.sample', 'post-update.sample', 'pre-applypatch.sample', 'pre-commit.sample', 'pre-merge-commit.sample', 'pre-push.sample', 'pre-rebase.sample', 'pre-receive.sample', 'prepare-commit-msg.sample', 'push-to-checkout.sample', 'sendemail-validate.sample', 'update.sample']\n",
      "Directory - C:/Users/2000078139/Desktop\\pandas\\.git\\info\n",
      "Directories - []\n",
      "Files - ['exclude']\n",
      "Directory - C:/Users/2000078139/Desktop\\pandas\\.git\\logs\n",
      "Directories - ['refs']\n",
      "Files - ['HEAD']\n",
      "Directory - C:/Users/2000078139/Desktop\\pandas\\.git\\logs\\refs\n",
      "Directories - ['heads']\n",
      "Files - []\n",
      "Directory - C:/Users/2000078139/Desktop\\pandas\\.git\\logs\\refs\\heads\n",
      "Directories - []\n",
      "Files - ['main']\n",
      "Directory - C:/Users/2000078139/Desktop\\pandas\\.git\\objects\n",
      "Directories - ['07', '08', '09', '0e', '0f', '1b', '1c', '1e', '22', '26', '29', '2a', '2b', '35', '36', '38', '3e', '44', '48', '50', '59', '5d', '5e', '65', '73', '7c', '83', '89', '8a', '90', '94', '97', '99', '9a', '9f', 'a2', 'aa', 'c2', 'c3', 'c6', 'c8', 'd6', 'de', 'e1', 'e8', 'ee', 'ff', 'info', 'pack']\n",
      "Files - []\n",
      "Directory - C:/Users/2000078139/Desktop\\pandas\\.git\\objects\\07\n",
      "Directories - []\n",
      "Files - ['b035cb4700da2732ed020c0beafd64fd4e25c7']\n",
      "Directory - C:/Users/2000078139/Desktop\\pandas\\.git\\objects\\08\n",
      "Directories - []\n",
      "Files - ['4dbb15e375f9ee1d10051a3ca230444a8d09c1']\n",
      "Directory - C:/Users/2000078139/Desktop\\pandas\\.git\\objects\\09\n",
      "Directories - []\n",
      "Files - ['92c0747fce16d2560ad44392ecde55b92affac']\n",
      "Directory - C:/Users/2000078139/Desktop\\pandas\\.git\\objects\\0e\n",
      "Directories - []\n",
      "Files - ['d5f0fcf27795aa173027aac020134eeb40ceca', 'ea21e4388200485959746b4135f58d45711883']\n",
      "Directory - C:/Users/2000078139/Desktop\\pandas\\.git\\objects\\0f\n",
      "Directories - []\n",
      "Files - ['911639978054ee7c53d59b505d356f07d13090']\n",
      "Directory - C:/Users/2000078139/Desktop\\pandas\\.git\\objects\\1b\n",
      "Directories - []\n",
      "Files - ['bf88592b740145544df7d02ebd03c4a2dcbbcd']\n",
      "Directory - C:/Users/2000078139/Desktop\\pandas\\.git\\objects\\1c\n",
      "Directories - []\n",
      "Files - ['72c6f2485cffab33d6d1fd35ec879d78c38796']\n",
      "Directory - C:/Users/2000078139/Desktop\\pandas\\.git\\objects\\1e\n",
      "Directories - []\n",
      "Files - ['dc8d315a2b5d110430798da274020306fb2108']\n",
      "Directory - C:/Users/2000078139/Desktop\\pandas\\.git\\objects\\22\n",
      "Directories - []\n",
      "Files - ['40b16075e7d922733405218514360323df1938', '6132d538ac5658eb3645310709f4c2f585ff72']\n",
      "Directory - C:/Users/2000078139/Desktop\\pandas\\.git\\objects\\26\n",
      "Directories - []\n",
      "Files - ['2fa5d8f12fe3932d98e1357b715a2df4ddbce5']\n",
      "Directory - C:/Users/2000078139/Desktop\\pandas\\.git\\objects\\29\n",
      "Directories - []\n",
      "Files - ['173f9c795db73a8d50520efb73eed6545d03b7']\n",
      "Directory - C:/Users/2000078139/Desktop\\pandas\\.git\\objects\\2a\n",
      "Directories - []\n",
      "Files - ['e5ce63c838112deab42c790af0e6abe7dc04bf']\n",
      "Directory - C:/Users/2000078139/Desktop\\pandas\\.git\\objects\\2b\n",
      "Directories - []\n",
      "Files - ['40d08ae59ef944c154fd39ab392ef05d06794a']\n",
      "Directory - C:/Users/2000078139/Desktop\\pandas\\.git\\objects\\35\n",
      "Directories - []\n",
      "Files - ['cf4af364610a53b6bd187767b469ab97f87fc2']\n",
      "Directory - C:/Users/2000078139/Desktop\\pandas\\.git\\objects\\36\n",
      "Directories - []\n",
      "Files - ['3fcab7ed6e9634e198cf5555ceb88932c9a245']\n",
      "Directory - C:/Users/2000078139/Desktop\\pandas\\.git\\objects\\38\n",
      "Directories - []\n",
      "Files - ['0f7bfbdcf757504babc00e7f7001a5d1527d3b']\n",
      "Directory - C:/Users/2000078139/Desktop\\pandas\\.git\\objects\\3e\n",
      "Directories - []\n",
      "Files - ['fbe39767aba4399977f377f2d6f163f209f294']\n",
      "Directory - C:/Users/2000078139/Desktop\\pandas\\.git\\objects\\44\n",
      "Directories - []\n",
      "Files - ['25ca5330a5d0dec70850891e8be121aad7893a', 'f384e44cdee7c44c62dad40df2708f06899002']\n",
      "Directory - C:/Users/2000078139/Desktop\\pandas\\.git\\objects\\48\n",
      "Directories - []\n",
      "Files - ['dbfc972bd34c18c8c8cd44026275dec61889cf']\n",
      "Directory - C:/Users/2000078139/Desktop\\pandas\\.git\\objects\\50\n",
      "Directories - []\n",
      "Files - ['90fd3a187033946b512f4551361648b16af04e']\n",
      "Directory - C:/Users/2000078139/Desktop\\pandas\\.git\\objects\\59\n",
      "Directories - []\n",
      "Files - ['534a8e9d36e116dd15a2636b3104329569a3c4']\n",
      "Directory - C:/Users/2000078139/Desktop\\pandas\\.git\\objects\\5d\n",
      "Directories - []\n",
      "Files - ['896a389efc1f1de02375bd248ff4c005c22545']\n",
      "Directory - C:/Users/2000078139/Desktop\\pandas\\.git\\objects\\5e\n",
      "Directories - []\n",
      "Files - ['615706bf83610fd245c1630d691cad9badae30', 'f040b3fd0f3b9b6ddac7fa1a71959dfdcb3dab']\n",
      "Directory - C:/Users/2000078139/Desktop\\pandas\\.git\\objects\\65\n",
      "Directories - []\n",
      "Files - ['142500b762a76933c1781511bb676c9d8670e3', 'fd121295d8247b9712413f2a4f3eb4b6e0dc0c']\n",
      "Directory - C:/Users/2000078139/Desktop\\pandas\\.git\\objects\\73\n",
      "Directories - []\n",
      "Files - ['5c5268ea6f4d2a7d3721b62a3764b798056739']\n",
      "Directory - C:/Users/2000078139/Desktop\\pandas\\.git\\objects\\7c\n",
      "Directories - []\n",
      "Files - ['639f80d34470fb7e6142849416daa984f48143']\n",
      "Directory - C:/Users/2000078139/Desktop\\pandas\\.git\\objects\\83\n",
      "Directories - []\n",
      "Files - ['a88d868a766238c6b01b09cb0481ef3e93a7e6']\n",
      "Directory - C:/Users/2000078139/Desktop\\pandas\\.git\\objects\\89\n",
      "Directories - []\n",
      "Files - ['19560f4daf8f788fc47ef0a65e9655aa51c5bd']\n",
      "Directory - C:/Users/2000078139/Desktop\\pandas\\.git\\objects\\8a\n",
      "Directories - []\n",
      "Files - ['9c56e7e2afdeccf3cc9b7a3763569c1dcabc83']\n",
      "Directory - C:/Users/2000078139/Desktop\\pandas\\.git\\objects\\90\n",
      "Directories - []\n",
      "Files - ['a1b7642aca7a87f1c07ed553de0d15e9468707']\n",
      "Directory - C:/Users/2000078139/Desktop\\pandas\\.git\\objects\\94\n",
      "Directories - []\n",
      "Files - ['ed0ccc5fef8af10e6ab7ae777253ee03e60a00']\n",
      "Directory - C:/Users/2000078139/Desktop\\pandas\\.git\\objects\\97\n",
      "Directories - []\n",
      "Files - ['3497f869f3deba73d051daa1603f46778ea087']\n",
      "Directory - C:/Users/2000078139/Desktop\\pandas\\.git\\objects\\99\n",
      "Directories - []\n",
      "Files - ['a1435a0cd5783fa12afddd5d3dd33ceb42c354']\n",
      "Directory - C:/Users/2000078139/Desktop\\pandas\\.git\\objects\\9a\n",
      "Directories - []\n",
      "Files - ['8f53d072bc003ef8ad7438f3a1eb3312e13a71']\n",
      "Directory - C:/Users/2000078139/Desktop\\pandas\\.git\\objects\\9f\n",
      "Directories - []\n",
      "Files - ['3152fd6534207f547e36b88d93ca37978e289e']\n",
      "Directory - C:/Users/2000078139/Desktop\\pandas\\.git\\objects\\a2\n",
      "Directories - []\n",
      "Files - ['40494b2b905f292d0d2621a752b790da25f256', '6201ccadb949a9734807ac46c98b544de05845']\n",
      "Directory - C:/Users/2000078139/Desktop\\pandas\\.git\\objects\\aa\n",
      "Directories - []\n",
      "Files - ['d942330ed789608cefdc730c0a6d2eb82bf708']\n",
      "Directory - C:/Users/2000078139/Desktop\\pandas\\.git\\objects\\c2\n",
      "Directories - []\n",
      "Files - ['9192f6101585555666d0581c781ca271b00990']\n",
      "Directory - C:/Users/2000078139/Desktop\\pandas\\.git\\objects\\c3\n",
      "Directories - []\n",
      "Files - ['05f399317f6bff6360df510bc550bf4551616c']\n",
      "Directory - C:/Users/2000078139/Desktop\\pandas\\.git\\objects\\c6\n",
      "Directories - []\n",
      "Files - ['1674e3ffef683b2845dd9963d85dafc417b9e0']\n",
      "Directory - C:/Users/2000078139/Desktop\\pandas\\.git\\objects\\c8\n",
      "Directories - []\n",
      "Files - ['c4ca09191e429f0828ab756a3a58643c941ebe']\n",
      "Directory - C:/Users/2000078139/Desktop\\pandas\\.git\\objects\\d6\n",
      "Directories - []\n",
      "Files - ['324983772b6a18b50f845efb57cb1252e7edaa']\n",
      "Directory - C:/Users/2000078139/Desktop\\pandas\\.git\\objects\\de\n",
      "Directories - []\n",
      "Files - ['7d98cdb63272b0b9f583a96dd1bffeb31befe2']\n",
      "Directory - C:/Users/2000078139/Desktop\\pandas\\.git\\objects\\e1\n",
      "Directories - []\n",
      "Files - ['99b7beb38b5f7f0d6735b3e7b366de6787137a']\n",
      "Directory - C:/Users/2000078139/Desktop\\pandas\\.git\\objects\\e8\n",
      "Directories - []\n",
      "Files - ['9848fff97a2a8b20d5e6fa0a0905f74d919f72']\n",
      "Directory - C:/Users/2000078139/Desktop\\pandas\\.git\\objects\\ee\n",
      "Directories - []\n",
      "Files - ['0cd9c2b9c56e38e145476898e9bd21810c0463']\n",
      "Directory - C:/Users/2000078139/Desktop\\pandas\\.git\\objects\\ff\n",
      "Directories - []\n",
      "Files - ['70dea495cd3c6717e598ecb8b52692955b8ee3']\n",
      "Directory - C:/Users/2000078139/Desktop\\pandas\\.git\\objects\\info\n",
      "Directories - []\n",
      "Files - []\n",
      "Directory - C:/Users/2000078139/Desktop\\pandas\\.git\\objects\\pack\n",
      "Directories - []\n",
      "Files - []\n",
      "Directory - C:/Users/2000078139/Desktop\\pandas\\.git\\refs\n",
      "Directories - ['heads', 'tags']\n",
      "Files - []\n",
      "Directory - C:/Users/2000078139/Desktop\\pandas\\.git\\refs\\heads\n",
      "Directories - []\n",
      "Files - ['main']\n",
      "Directory - C:/Users/2000078139/Desktop\\pandas\\.git\\refs\\tags\n",
      "Directories - []\n",
      "Files - []\n",
      "Directory - C:/Users/2000078139/Desktop\\pandas\\.ipynb_checkpoints\n",
      "Directories - []\n",
      "Files - []\n",
      "Directory - C:/Users/2000078139/Desktop\\pandas\\code\n",
      "Directories - ['.git', '.ipynb_checkpoints']\n",
      "Files - ['Lecture-01-Intro.ipynb', 'Lecture-02-DataFrame and Series Basics - Selecting Rows and Columns.ipynb', 'Lecture-03-Indexes - How to Set, Reset, and Use Indexes.ipynb', 'Lecture-04-Filtering - Using Conditionals to Filter Rows and Columns.ipynb', 'Lecture-05-Updating Rows and Columns - Modifying Data Within DataFrames.ipynb', 'Lecture-06-Add,Remove Rows and Columns From DataFrames.ipynb', 'Lecture-07-Sorting data.ipynb', 'Lecture-08-Grouping and Aggregating.ipynb', 'Lecture-09-Cleaning Data - Casting Datatypes and Handling Missing Values.ipynb', 'Lecture-10-Working with Dates and Time Series Data.ipynb', 'Lecture-11- Reading and Writing Data to Different Sources - Excel, JSON, SQL, Etc.ipynb']\n",
      "Directory - C:/Users/2000078139/Desktop\\pandas\\code\\.git\n",
      "Directories - ['hooks', 'info', 'logs', 'objects', 'refs']\n",
      "Files - ['COMMIT_EDITMSG', 'config', 'description', 'HEAD', 'index']\n",
      "Directory - C:/Users/2000078139/Desktop\\pandas\\code\\.git\\hooks\n",
      "Directories - []\n",
      "Files - ['applypatch-msg.sample', 'commit-msg.sample', 'fsmonitor-watchman.sample', 'post-update.sample', 'pre-applypatch.sample', 'pre-commit.sample', 'pre-merge-commit.sample', 'pre-push.sample', 'pre-rebase.sample', 'pre-receive.sample', 'prepare-commit-msg.sample', 'push-to-checkout.sample', 'sendemail-validate.sample', 'update.sample']\n",
      "Directory - C:/Users/2000078139/Desktop\\pandas\\code\\.git\\info\n",
      "Directories - []\n",
      "Files - ['exclude']\n",
      "Directory - C:/Users/2000078139/Desktop\\pandas\\code\\.git\\logs\n",
      "Directories - ['refs']\n",
      "Files - ['HEAD']\n",
      "Directory - C:/Users/2000078139/Desktop\\pandas\\code\\.git\\logs\\refs\n",
      "Directories - ['heads', 'remotes']\n",
      "Files - []\n",
      "Directory - C:/Users/2000078139/Desktop\\pandas\\code\\.git\\logs\\refs\\heads\n",
      "Directories - []\n",
      "Files - ['main']\n",
      "Directory - C:/Users/2000078139/Desktop\\pandas\\code\\.git\\logs\\refs\\remotes\n",
      "Directories - ['origin']\n",
      "Files - []\n",
      "Directory - C:/Users/2000078139/Desktop\\pandas\\code\\.git\\logs\\refs\\remotes\\origin\n",
      "Directories - []\n",
      "Files - ['main']\n",
      "Directory - C:/Users/2000078139/Desktop\\pandas\\code\\.git\\objects\n",
      "Directories - ['09', '1b', '1e', '22', '2b', '44', '59', '65', '7c', '83', 'a2', 'aa', 'b6', 'e1', 'ff', 'info', 'pack']\n",
      "Files - []\n",
      "Directory - C:/Users/2000078139/Desktop\\pandas\\code\\.git\\objects\\09\n",
      "Directories - []\n",
      "Files - ['92c0747fce16d2560ad44392ecde55b92affac']\n",
      "Directory - C:/Users/2000078139/Desktop\\pandas\\code\\.git\\objects\\1b\n",
      "Directories - []\n",
      "Files - ['bf88592b740145544df7d02ebd03c4a2dcbbcd']\n",
      "Directory - C:/Users/2000078139/Desktop\\pandas\\code\\.git\\objects\\1e\n",
      "Directories - []\n",
      "Files - ['dc8d315a2b5d110430798da274020306fb2108']\n",
      "Directory - C:/Users/2000078139/Desktop\\pandas\\code\\.git\\objects\\22\n",
      "Directories - []\n",
      "Files - ['40b16075e7d922733405218514360323df1938', '6132d538ac5658eb3645310709f4c2f585ff72']\n",
      "Directory - C:/Users/2000078139/Desktop\\pandas\\code\\.git\\objects\\2b\n",
      "Directories - []\n",
      "Files - ['40d08ae59ef944c154fd39ab392ef05d06794a']\n",
      "Directory - C:/Users/2000078139/Desktop\\pandas\\code\\.git\\objects\\44\n",
      "Directories - []\n",
      "Files - ['f384e44cdee7c44c62dad40df2708f06899002']\n",
      "Directory - C:/Users/2000078139/Desktop\\pandas\\code\\.git\\objects\\59\n",
      "Directories - []\n",
      "Files - ['534a8e9d36e116dd15a2636b3104329569a3c4']\n",
      "Directory - C:/Users/2000078139/Desktop\\pandas\\code\\.git\\objects\\65\n",
      "Directories - []\n",
      "Files - ['142500b762a76933c1781511bb676c9d8670e3', 'fd121295d8247b9712413f2a4f3eb4b6e0dc0c']\n",
      "Directory - C:/Users/2000078139/Desktop\\pandas\\code\\.git\\objects\\7c\n",
      "Directories - []\n",
      "Files - ['639f80d34470fb7e6142849416daa984f48143']\n",
      "Directory - C:/Users/2000078139/Desktop\\pandas\\code\\.git\\objects\\83\n",
      "Directories - []\n",
      "Files - ['a88d868a766238c6b01b09cb0481ef3e93a7e6']\n",
      "Directory - C:/Users/2000078139/Desktop\\pandas\\code\\.git\\objects\\a2\n",
      "Directories - []\n",
      "Files - ['40494b2b905f292d0d2621a752b790da25f256']\n",
      "Directory - C:/Users/2000078139/Desktop\\pandas\\code\\.git\\objects\\aa\n",
      "Directories - []\n",
      "Files - ['d942330ed789608cefdc730c0a6d2eb82bf708']\n",
      "Directory - C:/Users/2000078139/Desktop\\pandas\\code\\.git\\objects\\b6\n",
      "Directories - []\n",
      "Files - ['322dac9535c26e7c24a12cbbdc32bfa6ccf65a']\n",
      "Directory - C:/Users/2000078139/Desktop\\pandas\\code\\.git\\objects\\e1\n",
      "Directories - []\n",
      "Files - ['99b7beb38b5f7f0d6735b3e7b366de6787137a']\n",
      "Directory - C:/Users/2000078139/Desktop\\pandas\\code\\.git\\objects\\ff\n",
      "Directories - []\n",
      "Files - ['70dea495cd3c6717e598ecb8b52692955b8ee3']\n",
      "Directory - C:/Users/2000078139/Desktop\\pandas\\code\\.git\\objects\\info\n",
      "Directories - []\n",
      "Files - []\n",
      "Directory - C:/Users/2000078139/Desktop\\pandas\\code\\.git\\objects\\pack\n",
      "Directories - []\n",
      "Files - []\n",
      "Directory - C:/Users/2000078139/Desktop\\pandas\\code\\.git\\refs\n",
      "Directories - ['heads', 'remotes', 'tags']\n",
      "Files - []\n",
      "Directory - C:/Users/2000078139/Desktop\\pandas\\code\\.git\\refs\\heads\n",
      "Directories - []\n",
      "Files - ['main']\n",
      "Directory - C:/Users/2000078139/Desktop\\pandas\\code\\.git\\refs\\remotes\n",
      "Directories - ['origin']\n",
      "Files - []\n",
      "Directory - C:/Users/2000078139/Desktop\\pandas\\code\\.git\\refs\\remotes\\origin\n",
      "Directories - []\n",
      "Files - ['main']\n",
      "Directory - C:/Users/2000078139/Desktop\\pandas\\code\\.git\\refs\\tags\n",
      "Directories - []\n",
      "Files - []\n",
      "Directory - C:/Users/2000078139/Desktop\\pandas\\code\\.ipynb_checkpoints\n",
      "Directories - []\n",
      "Files - ['Lecture-01-Intro-checkpoint.ipynb', 'Lecture-02-DataFrame and Series Basics - Selecting Rows and Columns-checkpoint.ipynb', 'Lecture-03-Indexes - How to Set, Reset, and Use Indexes-checkpoint.ipynb', 'Lecture-04-Filtering - Using Conditionals to Filter Rows and Columns-checkpoint.ipynb', 'Lecture-05-Updating Rows and Columns - Modifying Data Within DataFrames-checkpoint.ipynb', 'Lecture-06-Add,Remove Rows and Columns From DataFrames-checkpoint.ipynb', 'Lecture-07-Sorting data-checkpoint.ipynb', 'Lecture-08-Grouping and Aggregating-checkpoint.ipynb', 'Lecture-09-Cleaning Data - Casting Datatypes and Handling Missing Values-checkpoint.ipynb', 'Lecture-10-Working with Dates and Time Series Data-checkpoint.ipynb', 'Lecture-11- Reading and Writing Data to Different Sources - Excel, JSON, SQL, Etc-checkpoint.ipynb']\n",
      "Directory - C:/Users/2000078139/Desktop\\pandas\\output\n",
      "Directories - ['.ipynb_checkpoints']\n",
      "Files - ['india_df.csv', 'India_df1.csv', 'India_df1.json', 'India_df1.xlsx', 'India_df2.json']\n",
      "Directory - C:/Users/2000078139/Desktop\\pandas\\output\\.ipynb_checkpoints\n",
      "Directories - []\n",
      "Files - ['india_df-checkpoint.csv', 'India_df1-checkpoint.csv', 'India_df1-checkpoint.json']\n",
      "Directory - C:/Users/2000078139/Desktop\\pandas\\python\n",
      "Directories - ['.ipynb_checkpoints', 'Environments', 'packages']\n",
      "Files - ['Lecture-01-Strings - Working with Textual Data.ipynb', 'Lecture-02-Integers and Floats - Working with Numeric Data.ipynb', 'Lecture-03- Lists, Tuples, and Sets.ipynb', 'Lecture-04- Dictionaries - Working with Key-Value Pairs.ipynb', 'Lecture-05-Conditionals and Booleans - If, Else, and Elif Statements.ipynb', 'Lecture-06-Loops and Iterations - For and While Loops.ipynb', 'Lecture-07-Functions.ipynb', 'Lecture-08-Import Modules and Exploring The Standard Library.ipynb', 'Lecture-09-pip.ipynb', 'Lecture-10-virtualenv.ipynb', 'Lecture-11-Variable Scope - Understanding the LEGB rule and global and nonlocal statements.ipynb', 'Lecture-12-Slicing Lists and Strings.ipynb', 'Lecture-13-Comprehensions - How they work and why you should be using them.ipynb', 'Lecture-14-Sorting Lists, Tuples, and Objects.ipynb', 'Lecture-15-String Formatting - Advanced Operations for Dicts, Lists, Numbers, and Dates.ipynb', 'Lecture-16-Use Underlying Operating System Functionality.ipynb']\n",
      "Directory - C:/Users/2000078139/Desktop\\pandas\\python\\.ipynb_checkpoints\n",
      "Directories - []\n",
      "Files - ['Lecture-01-Strings - Working with Textual Data-checkpoint.ipynb', 'Lecture-02-Integers and Floats - Working with Numeric Data-checkpoint.ipynb', 'Lecture-03- Lists, Tuples, and Sets-checkpoint.ipynb', 'Lecture-04- Dictionaries - Working with Key-Value Pairs-checkpoint.ipynb', 'Lecture-05-Conditionals and Booleans - If, Else, and Elif Statements-checkpoint.ipynb', 'Lecture-06-Loops and Iterations - For and While Loops-checkpoint.ipynb', 'Lecture-07-Functions-checkpoint.ipynb', 'Lecture-08-Import Modules and Exploring The Standard Library-checkpoint.ipynb', 'Lecture-09-pip-checkpoint.ipynb', 'Lecture-10-virtualenv-checkpoint.ipynb', 'Lecture-11-Variable Scope - Understanding the LEGB rule and global and nonlocal statements-checkpoint.ipynb', 'Lecture-12-Slicing Lists and Strings-checkpoint.ipynb', 'Lecture-13-Comprehensions - How they work and why you should be using them-checkpoint.ipynb', 'Lecture-14-Sorting Lists, Tuples, and Objects-checkpoint.ipynb', 'Lecture-15-String Formatting - Advanced Operations for Dicts, Lists, Numbers, and Dates-checkpoint.ipynb', 'Lecture-16-Use Underlying Operating System Functionality-checkpoint.ipynb']\n",
      "Directory - C:/Users/2000078139/Desktop\\pandas\\python\\Environments\n",
      "Directories - []\n",
      "Files - []\n",
      "Directory - C:/Users/2000078139/Desktop\\pandas\\python\\packages\n",
      "Directories - ['.ipynb_checkpoints', '__pycache__']\n",
      "Files - ['custom_package.py', 'requirements.txt']\n",
      "Directory - C:/Users/2000078139/Desktop\\pandas\\python\\packages\\.ipynb_checkpoints\n",
      "Directories - []\n",
      "Files - ['custom_package-checkpoint.py', 'requirements-checkpoint.txt']\n",
      "Directory - C:/Users/2000078139/Desktop\\pandas\\python\\packages\\__pycache__\n",
      "Directories - []\n",
      "Files - ['custom_package.cpython-312.pyc']\n",
      "Directory - C:/Users/2000078139/Desktop\\pandas\\snippets\n",
      "Directories - ['.ipynb_checkpoints']\n",
      "Files - ['Snippets.ipynb']\n",
      "Directory - C:/Users/2000078139/Desktop\\pandas\\snippets\\.ipynb_checkpoints\n",
      "Directories - []\n",
      "Files - ['Snippets-checkpoint.ipynb']\n",
      "Directory - C:/Users/2000078139/Desktop\\pandas\\stack-overflow-developer-survey-2019\n",
      "Directories - ['.ipynb_checkpoints', '__MACOSX']\n",
      "Files - ['ETH_1h.csv', 'Lecture-2-series basics,selecting rows and columns.ipynb', 'README_2019.txt', 'so_survey_2019.pdf', 'survey_results_public.csv', 'survey_results_schema.csv']\n",
      "Directory - C:/Users/2000078139/Desktop\\pandas\\stack-overflow-developer-survey-2019\\.ipynb_checkpoints\n",
      "Directories - []\n",
      "Files - ['Lecture-2-series basics,selecting rows and columns-checkpoint.ipynb']\n",
      "Directory - C:/Users/2000078139/Desktop\\pandas\\stack-overflow-developer-survey-2019\\__MACOSX\n",
      "Directories - []\n",
      "Files - ['._README_2019.txt', '._so_survey_2019.pdf']\n",
      "Directory - C:/Users/2000078139/Desktop\\Programs\n",
      "Directories - ['.idea', 'out', 'src']\n",
      "Files - ['Programs.iml']\n",
      "Directory - C:/Users/2000078139/Desktop\\Programs\\.idea\n",
      "Directories - []\n",
      "Files - ['.gitignore', 'misc.xml', 'modules.xml', 'workspace.xml']\n",
      "Directory - C:/Users/2000078139/Desktop\\Programs\\out\n",
      "Directories - ['production']\n",
      "Files - []\n",
      "Directory - C:/Users/2000078139/Desktop\\Programs\\out\\production\n",
      "Directories - ['Programs']\n",
      "Files - []\n",
      "Directory - C:/Users/2000078139/Desktop\\Programs\\out\\production\\Programs\n",
      "Directories - []\n",
      "Files - ['Main.class']\n",
      "Directory - C:/Users/2000078139/Desktop\\Programs\\src\n",
      "Directories - []\n",
      "Files - ['Main.java']\n",
      "Directory - C:/Users/2000078139/Desktop\\python\n",
      "Directories - []\n",
      "Files - []\n"
     ]
    }
   ],
   "source": [
    "#to print the directory stucture\n",
    "#this will return a three valued tuple (dirpath,dirnames,filenames)\n",
    "for dirpath, dirnames,filenames in os.walk('C:/Users/2000078139/Desktop'):\n",
    "    print(f'Directory - {dirpath}')\n",
    "    print(f'Directories - {dirnames}')\n",
    "    print(f'Files - {filenames}')\n",
    "    \n",
    "    \n",
    "\n"
   ]
  },
  {
   "cell_type": "code",
   "execution_count": 32,
   "id": "4c2983d2-f6c6-4d7c-8673-761a55f6862e",
   "metadata": {},
   "outputs": [
    {
     "data": {
      "text/plain": [
       "environ{'ALLUSERSPROFILE': 'C:\\\\ProgramData',\n",
       "        'APPDATA': 'C:\\\\Users\\\\2000078139\\\\AppData\\\\Roaming',\n",
       "        'BPPDOMAIN_MANAGER_ASM': 'EdrDotNet, Version+130.0.0.0, Culture+neutral, PublicKeyToken+da1b3922653ea916',\n",
       "        'BPPDOMAIN_MANAGER_TYPE': 'EdrDotNet.EdrAppDomainManager',\n",
       "        'COMMONPROGRAMFILES': 'C:\\\\Program Files\\\\Common Files',\n",
       "        'COMMONPROGRAMFILES(X86)': 'C:\\\\Program Files (x86)\\\\Common Files',\n",
       "        'COMMONPROGRAMW6432': 'C:\\\\Program Files\\\\Common Files',\n",
       "        'COMPUTERNAME': 'LTCH-FV34PL3',\n",
       "        'COMSPEC': 'C:\\\\WINDOWS\\\\system32\\\\cmd.exe',\n",
       "        'DRIVERDATA': 'C:\\\\Windows\\\\System32\\\\Drivers\\\\DriverData',\n",
       "        'EFC_10612': '1',\n",
       "        'FPS_BROWSER_APP_PROFILE_STRING': 'Internet Explorer',\n",
       "        'FPS_BROWSER_USER_PROFILE_STRING': 'Default',\n",
       "        'HOMEDRIVE': 'C:',\n",
       "        'HOMEPATH': '\\\\Users\\\\2000078139',\n",
       "        'IPY_INTERRUPT_EVENT': '4448',\n",
       "        'JPY_INTERRUPT_EVENT': '4448',\n",
       "        'JPY_PARENT_PID': '3804',\n",
       "        'JPY_SESSION_NAME': 'C:\\\\Users\\\\2000078139\\\\Desktop\\\\pandas\\\\python\\\\Untitled.ipynb',\n",
       "        'LOCALAPPDATA': 'C:\\\\Users\\\\2000078139\\\\AppData\\\\Local',\n",
       "        'LOGONSERVER': '\\\\\\\\BPSMHP1WPDC01',\n",
       "        'NUMBER_OF_PROCESSORS': '8',\n",
       "        'ONEDRIVE': 'C:\\\\Users\\\\2000078139\\\\OneDrive - Hexaware Technologies',\n",
       "        'ONEDRIVECOMMERCIAL': 'C:\\\\Users\\\\2000078139\\\\OneDrive - Hexaware Technologies',\n",
       "        'OS': 'Windows_NT',\n",
       "        'PATH': 'C:\\\\Program Files\\\\Python312\\\\Scripts\\\\;C:\\\\Program Files\\\\Python312\\\\;C:\\\\Program Files\\\\OpenLogic\\\\jdk-21.0.3.1-hotspot\\\\bin;C:\\\\WINDOWS\\\\system32;C:\\\\WINDOWS;C:\\\\WINDOWS\\\\System32\\\\Wbem;C:\\\\WINDOWS\\\\System32\\\\WindowsPowerShell\\\\v1.0\\\\;C:\\\\WINDOWS\\\\System32\\\\OpenSSH\\\\;C:\\\\Program Files\\\\PuTTY\\\\;C:\\\\Program Files\\\\dotnet\\\\;C:\\\\Program Files\\\\Git\\\\cmd;C:\\\\Users\\\\2000078139\\\\AppData\\\\Local\\\\Microsoft\\\\WindowsApps;C:\\\\Users\\\\2000078139\\\\AppData\\\\Roaming\\\\Python\\\\Python312\\\\Scripts;',\n",
       "        'PATHEXT': '.COM;.EXE;.BAT;.CMD;.VBS;.VBE;.JS;.JSE;.WSF;.WSH;.MSC;.PY;.PYW;.CPL',\n",
       "        'PROCESSOR_ARCHITECTURE': 'AMD64',\n",
       "        'PROCESSOR_IDENTIFIER': 'Intel64 Family 6 Model 140 Stepping 1, GenuineIntel',\n",
       "        'PROCESSOR_LEVEL': '6',\n",
       "        'PROCESSOR_REVISION': '8c01',\n",
       "        'PROGRAMDATA': 'C:\\\\ProgramData',\n",
       "        'PROGRAMFILES': 'C:\\\\Program Files',\n",
       "        'PROGRAMFILES(X86)': 'C:\\\\Program Files (x86)',\n",
       "        'PROGRAMW6432': 'C:\\\\Program Files',\n",
       "        'PSMODULEPATH': 'C:\\\\Users\\\\2000078139\\\\Documents\\\\WindowsPowerShell\\\\Modules;C:\\\\Program Files\\\\WindowsPowerShell\\\\Modules;C:\\\\WINDOWS\\\\system32\\\\WindowsPowerShell\\\\v1.0\\\\Modules',\n",
       "        'PUBLIC': 'C:\\\\Users\\\\Public',\n",
       "        'SESSIONNAME': 'Console',\n",
       "        'SYSTEMDRIVE': 'C:',\n",
       "        'SYSTEMROOT': 'C:\\\\WINDOWS',\n",
       "        'TEMP': 'C:\\\\Users\\\\200007~1\\\\AppData\\\\Local\\\\Temp',\n",
       "        'TMP': 'C:\\\\Users\\\\200007~1\\\\AppData\\\\Local\\\\Temp',\n",
       "        'UATDATA': 'C:\\\\WINDOWS\\\\CCM\\\\UATData\\\\D9F8C395-CAB8-491d-B8AC-179A1FE1BE77',\n",
       "        'USERDNSDOMAIN': 'CORP.HEXAWARE.COM',\n",
       "        'USERDOMAIN': 'CORP',\n",
       "        'USERDOMAIN_ROAMINGPROFILE': 'CORP',\n",
       "        'USERNAME': '2000078139',\n",
       "        'USERPROFILE': 'C:\\\\Users\\\\2000078139',\n",
       "        'WINDIR': 'C:\\\\WINDOWS',\n",
       "        'ZES_ENABLE_SYSMAN': '1',\n",
       "        '__PSLOCKDOWNPOLICY': '0',\n",
       "        'PYDEVD_USE_FRAME_EVAL': 'NO',\n",
       "        'TERM': 'xterm-color',\n",
       "        'CLICOLOR': '1',\n",
       "        'FORCE_COLOR': '1',\n",
       "        'CLICOLOR_FORCE': '1',\n",
       "        'PAGER': 'cat',\n",
       "        'GIT_PAGER': 'cat',\n",
       "        'MPLBACKEND': 'module://matplotlib_inline.backend_inline'}"
      ]
     },
     "execution_count": 32,
     "metadata": {},
     "output_type": "execute_result"
    }
   ],
   "source": [
    "#to get enviromental variables\n",
    "os.environ"
   ]
  },
  {
   "cell_type": "code",
   "execution_count": 37,
   "id": "37bfcf43-8e92-43ef-a5bd-23a57f86a24d",
   "metadata": {},
   "outputs": [
    {
     "name": "stdout",
     "output_type": "stream",
     "text": [
      "C:\\Program Files\\Python312\\Scripts\\\n"
     ]
    }
   ],
   "source": [
    "print(os.environ.get('Path').split(';')[0])"
   ]
  },
  {
   "cell_type": "code",
   "execution_count": 38,
   "id": "5d7f8b1f-3d93-40df-b105-ec6d68b596ec",
   "metadata": {},
   "outputs": [
    {
     "name": "stdout",
     "output_type": "stream",
     "text": [
      "C:\\Program Files\\Python312\\Scripts\\testfile.txt\n"
     ]
    }
   ],
   "source": [
    "# os.join is usefult for avoiding slash or missing slashes\n",
    "filepath = os.path.join(os.environ.get('Path').split(';')[0],'testfile.txt')\n",
    "print(filepath)"
   ]
  },
  {
   "cell_type": "code",
   "execution_count": 39,
   "id": "31b78385-2d5d-4211-ac7e-3d5551411914",
   "metadata": {},
   "outputs": [
    {
     "name": "stdout",
     "output_type": "stream",
     "text": [
      "test.txt\n"
     ]
    }
   ],
   "source": [
    "#os.path.basename will return you the base name\n",
    "print(os.path.basename('/tmp/test.txt'))"
   ]
  },
  {
   "cell_type": "code",
   "execution_count": 40,
   "id": "a5bfb271-597f-4a46-8405-40f17fa48ce4",
   "metadata": {},
   "outputs": [
    {
     "name": "stdout",
     "output_type": "stream",
     "text": [
      "/tmp\n"
     ]
    }
   ],
   "source": [
    "#to get the directory name \n",
    "print(os.path.dirname('/tmp/test.txt'))"
   ]
  },
  {
   "cell_type": "code",
   "execution_count": 41,
   "id": "4bb21bc3-f4cf-424a-820f-847b2d6c5891",
   "metadata": {},
   "outputs": [
    {
     "name": "stdout",
     "output_type": "stream",
     "text": [
      "('/tmp', 'test.txt')\n"
     ]
    }
   ],
   "source": [
    "#use split method of path will give both directory and the file name\n",
    "print(os.path.split('/tmp/test.txt'))"
   ]
  },
  {
   "cell_type": "code",
   "execution_count": 43,
   "id": "276feb47-a0d9-422a-b273-68d98d058f17",
   "metadata": {},
   "outputs": [
    {
     "name": "stdout",
     "output_type": "stream",
     "text": [
      "False\n"
     ]
    }
   ],
   "source": [
    "#to check if a path exists\n",
    "print(os.path.exists('/tmp/test.txt'))"
   ]
  },
  {
   "cell_type": "code",
   "execution_count": 46,
   "id": "f8222a4a-3f8b-4dc2-a8d0-525814b8e3cc",
   "metadata": {},
   "outputs": [
    {
     "name": "stdout",
     "output_type": "stream",
     "text": [
      "False\n",
      "True\n"
     ]
    }
   ],
   "source": [
    "#to check if a path provided is a directory or a file\n",
    "print(os.path.isdir('/tmp/test.txt'))\n",
    "print(os.path.isfile('C:/Users/2000078139/Desktop/demo.txt'))"
   ]
  },
  {
   "cell_type": "code",
   "execution_count": 47,
   "id": "73be594c-a684-437f-8af0-6dca501e311e",
   "metadata": {},
   "outputs": [
    {
     "name": "stdout",
     "output_type": "stream",
     "text": [
      "('/temp/file', '.txt')\n"
     ]
    }
   ],
   "source": [
    "#to extract filename and the extenstion with splitext method\n",
    "print(os.path.splitext('/temp/file.txt'))"
   ]
  }
 ],
 "metadata": {
  "kernelspec": {
   "display_name": "Python 3 (ipykernel)",
   "language": "python",
   "name": "python3"
  },
  "language_info": {
   "codemirror_mode": {
    "name": "ipython",
    "version": 3
   },
   "file_extension": ".py",
   "mimetype": "text/x-python",
   "name": "python",
   "nbconvert_exporter": "python",
   "pygments_lexer": "ipython3",
   "version": "3.12.2"
  }
 },
 "nbformat": 4,
 "nbformat_minor": 5
}
