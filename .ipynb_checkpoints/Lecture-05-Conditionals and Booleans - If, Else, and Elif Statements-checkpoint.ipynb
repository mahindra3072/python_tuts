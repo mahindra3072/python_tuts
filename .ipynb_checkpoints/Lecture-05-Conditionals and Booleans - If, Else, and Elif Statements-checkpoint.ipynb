{
 "cells": [
  {
   "cell_type": "code",
   "execution_count": 1,
   "id": "abed57bd-563d-4e3d-aea7-f951cb1ab4f7",
   "metadata": {},
   "outputs": [
    {
     "name": "stdout",
     "output_type": "stream",
     "text": [
      "True\n"
     ]
    }
   ],
   "source": [
    "#Object Identify: is\n",
    "list1 = [1,2,3]\n",
    "list2 = [1,2,3]\n",
    "#these are two different lists\n",
    "print(list1 == list2)\n"
   ]
  },
  {
   "cell_type": "code",
   "execution_count": 3,
   "id": "9361a019-d968-401c-99d3-1fe9a74ce0a5",
   "metadata": {},
   "outputs": [
    {
     "name": "stdout",
     "output_type": "stream",
     "text": [
      "False\n"
     ]
    }
   ],
   "source": [
    "#this will compare the objects rather than values\n",
    "#it should be the same object in memory to evaluate it as true\n",
    "print(list1 is list2)"
   ]
  },
  {
   "cell_type": "code",
   "execution_count": 7,
   "id": "452d5926-6ac4-490b-8282-ad691b6ec539",
   "metadata": {},
   "outputs": [
    {
     "name": "stdout",
     "output_type": "stream",
     "text": [
      "id of list3 2506284364032, id of list4 2506284364032\n",
      "True\n"
     ]
    }
   ],
   "source": [
    "#since list3 and list4 are pointing to the same object\n",
    "list3 = [1,2,3]\n",
    "list4 = list3\n",
    "print(f'id of list3 {id(list3)}, id of list4 {id(list4)}')\n",
    "print(list3 is list4)"
   ]
  },
  {
   "cell_type": "code",
   "execution_count": null,
   "id": "37cb76bc-1304-42fa-a14c-bf0a1d89472d",
   "metadata": {},
   "outputs": [],
   "source": [
    "# False Values:\n",
    "# False\n",
    "# None\n",
    "# Zero of any numeric type\n",
    "# Any empty sequence. For example, \"',\n",
    "# Any empty mapping. For example, {}."
   ]
  },
  {
   "cell_type": "code",
   "execution_count": null,
   "id": "c01f43d6-fb27-4752-9c52-acadf2f627c8",
   "metadata": {},
   "outputs": [],
   "source": []
  }
 ],
 "metadata": {
  "kernelspec": {
   "display_name": "Python 3 (ipykernel)",
   "language": "python",
   "name": "python3"
  },
  "language_info": {
   "codemirror_mode": {
    "name": "ipython",
    "version": 3
   },
   "file_extension": ".py",
   "mimetype": "text/x-python",
   "name": "python",
   "nbconvert_exporter": "python",
   "pygments_lexer": "ipython3",
   "version": "3.12.2"
  }
 },
 "nbformat": 4,
 "nbformat_minor": 5
}
