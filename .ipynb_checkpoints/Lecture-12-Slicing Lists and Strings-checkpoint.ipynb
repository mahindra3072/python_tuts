{
 "cells": [
  {
   "cell_type": "code",
   "execution_count": 1,
   "id": "1cb81eb6-8fb7-4ae2-8e51-5a8bc28e05e6",
   "metadata": {},
   "outputs": [],
   "source": [
    "mylist = [0, 1, 2, 3, 4, 5, 6, 7, 8, 9]\n",
    "indexes   0, 1, 2, 3, 4, 5, 6, 7, 8, 9\n",
    "-veindex-10,-9,-8,-7,-6,-5,-4,-3,-2,-1\n"
   ]
  },
  {
   "cell_type": "code",
   "execution_count": null,
   "id": "c1f77e47-5fad-4974-9396-aae827c19177",
   "metadata": {},
   "outputs": [],
   "source": [
    "# list [start:end:step]"
   ]
  },
  {
   "cell_type": "code",
   "execution_count": 2,
   "id": "2c40bf89-8426-4900-a792-0d333243d15f",
   "metadata": {},
   "outputs": [
    {
     "data": {
      "text/plain": [
       "9"
      ]
     },
     "execution_count": 2,
     "metadata": {},
     "output_type": "execute_result"
    }
   ],
   "source": [
    "mylist[-1]"
   ]
  },
  {
   "cell_type": "code",
   "execution_count": 3,
   "id": "46c402f1-6c99-4781-950f-93d3e76c5136",
   "metadata": {},
   "outputs": [
    {
     "data": {
      "text/plain": [
       "0"
      ]
     },
     "execution_count": 3,
     "metadata": {},
     "output_type": "execute_result"
    }
   ],
   "source": [
    "mylist[-10]"
   ]
  },
  {
   "cell_type": "code",
   "execution_count": 5,
   "id": "1a8ebba0-2015-4ca1-9486-0782aab61a5a",
   "metadata": {},
   "outputs": [
    {
     "data": {
      "text/plain": [
       "[0, 1, 2, 3, 4]"
      ]
     },
     "execution_count": 5,
     "metadata": {},
     "output_type": "execute_result"
    }
   ],
   "source": [
    "#slicing the list \n",
    "#5 is non inclusive\n",
    "mylist[0:5]"
   ]
  },
  {
   "cell_type": "code",
   "execution_count": 6,
   "id": "aa9c2670-3d49-4af5-8d18-dbb0c33e3a1d",
   "metadata": {},
   "outputs": [
    {
     "data": {
      "text/plain": [
       "[3, 4]"
      ]
     },
     "execution_count": 6,
     "metadata": {},
     "output_type": "execute_result"
    }
   ],
   "source": [
    "#we can mix and match -ve and +ve index\n",
    "mylist[-7:5]"
   ]
  },
  {
   "cell_type": "code",
   "execution_count": 7,
   "id": "483ccf15-3f55-4b24-9653-6a7f66c3f1fb",
   "metadata": {},
   "outputs": [
    {
     "data": {
      "text/plain": [
       "[0, 1, 2, 3, 4, 5, 6, 7, 8]"
      ]
     },
     "execution_count": 7,
     "metadata": {},
     "output_type": "execute_result"
    }
   ],
   "source": [
    "#to get all the items except for the last\n",
    "mylist[0:-1]"
   ]
  },
  {
   "cell_type": "code",
   "execution_count": 8,
   "id": "6b1de259-35a4-40c4-b027-29bd979267bd",
   "metadata": {},
   "outputs": [
    {
     "data": {
      "text/plain": [
       "[2, 4, 6, 8]"
      ]
     },
     "execution_count": 8,
     "metadata": {},
     "output_type": "execute_result"
    }
   ],
   "source": [
    "#usage of step\n",
    "#it will print every second value\n",
    "mylist[2:-1:2]"
   ]
  },
  {
   "cell_type": "code",
   "execution_count": 9,
   "id": "055306c3-f396-458f-a208-0fc23e6a0c8b",
   "metadata": {},
   "outputs": [
    {
     "data": {
      "text/plain": [
       "[9, 8, 7, 6, 5, 4, 3]"
      ]
     },
     "execution_count": 9,
     "metadata": {},
     "output_type": "execute_result"
    }
   ],
   "source": [
    "#negative step will only work in reverse order\n",
    "mylist[-1:2:-1]"
   ]
  },
  {
   "cell_type": "code",
   "execution_count": 10,
   "id": "9618fced-f654-4856-98ef-c6ecad4a93f9",
   "metadata": {},
   "outputs": [
    {
     "data": {
      "text/plain": [
       "[9, 8, 7, 6, 5, 4, 3, 2, 1, 0]"
      ]
     },
     "execution_count": 10,
     "metadata": {},
     "output_type": "execute_result"
    }
   ],
   "source": [
    "#to reverse the list\n",
    "mylist[::-1]"
   ]
  },
  {
   "cell_type": "markdown",
   "id": "c5d895f5-144f-4b42-a333-112cb651d930",
   "metadata": {},
   "source": [
    "### slicing strings"
   ]
  },
  {
   "cell_type": "code",
   "execution_count": 11,
   "id": "0d63dba9-2364-4723-bcfc-4d1fa48ebc70",
   "metadata": {},
   "outputs": [],
   "source": [
    "sample_url = 'https://mahindra.com'"
   ]
  },
  {
   "cell_type": "code",
   "execution_count": 12,
   "id": "8f652922-d2a6-4fb5-8e37-a7d2185b4243",
   "metadata": {},
   "outputs": [
    {
     "data": {
      "text/plain": [
       "'moc.ardniham//:sptth'"
      ]
     },
     "execution_count": 12,
     "metadata": {},
     "output_type": "execute_result"
    }
   ],
   "source": [
    "sample_url[::-1]"
   ]
  },
  {
   "cell_type": "code",
   "execution_count": 15,
   "id": "38206a84-7b64-415c-a821-2b1f1bcd84db",
   "metadata": {},
   "outputs": [
    {
     "data": {
      "text/plain": [
       "'.com'"
      ]
     },
     "execution_count": 15,
     "metadata": {},
     "output_type": "execute_result"
    }
   ],
   "source": [
    "#chop of .com from above url\n",
    "sample_url[-4:]"
   ]
  },
  {
   "cell_type": "code",
   "execution_count": 17,
   "id": "530f8a13-6281-43ba-a266-8ad66dfc55f0",
   "metadata": {},
   "outputs": [
    {
     "data": {
      "text/plain": [
       "'mahindra.com'"
      ]
     },
     "execution_count": 17,
     "metadata": {},
     "output_type": "execute_result"
    }
   ],
   "source": [
    "#printing url without https://\n",
    "sample_url[8:]"
   ]
  },
  {
   "cell_type": "code",
   "execution_count": 18,
   "id": "96ca2955-fbb3-4700-ae5d-73d5c128adbd",
   "metadata": {},
   "outputs": [
    {
     "data": {
      "text/plain": [
       "'mahindra'"
      ]
     },
     "execution_count": 18,
     "metadata": {},
     "output_type": "execute_result"
    }
   ],
   "source": [
    "sample_url[8:-4]"
   ]
  }
 ],
 "metadata": {
  "kernelspec": {
   "display_name": "Python 3 (ipykernel)",
   "language": "python",
   "name": "python3"
  },
  "language_info": {
   "codemirror_mode": {
    "name": "ipython",
    "version": 3
   },
   "file_extension": ".py",
   "mimetype": "text/x-python",
   "name": "python",
   "nbconvert_exporter": "python",
   "pygments_lexer": "ipython3",
   "version": "3.12.2"
  }
 },
 "nbformat": 4,
 "nbformat_minor": 5
}
