{
 "cells": [
  {
   "cell_type": "code",
   "execution_count": 1,
   "id": "46e4ab5c-a578-4282-be15-a2509b99e5c6",
   "metadata": {},
   "outputs": [
    {
     "data": {
      "text/plain": [
       "'\\nLocal, Enclosing, Global, Built-in\\n'"
      ]
     },
     "execution_count": 1,
     "metadata": {},
     "output_type": "execute_result"
    }
   ],
   "source": [
    "'''\n",
    "Local, Enclosing, Global, Built-in\n",
    "\n",
    "this is the order in which python checks of any variables\n",
    "'''"
   ]
  },
  {
   "cell_type": "code",
   "execution_count": 2,
   "id": "1f796738-6c12-443d-82f9-e92aef4151b7",
   "metadata": {},
   "outputs": [
    {
     "name": "stdout",
     "output_type": "stream",
     "text": [
      "local y\n"
     ]
    }
   ],
   "source": [
    "#testing local scope\n",
    "x = 'global x'\n",
    "\n",
    "def test():\n",
    "    y='local y'\n",
    "    print(y)\n",
    "test()"
   ]
  },
  {
   "cell_type": "code",
   "execution_count": 4,
   "id": "4614fc55-eeb9-426d-8cff-d8bc244c3877",
   "metadata": {},
   "outputs": [
    {
     "name": "stdout",
     "output_type": "stream",
     "text": [
      "global x\n"
     ]
    }
   ],
   "source": [
    "#testing global scope\n",
    "x = 'global x'\n",
    "\n",
    "def test():\n",
    "    # y='local y'\n",
    "    print(x)\n",
    "test()"
   ]
  },
  {
   "cell_type": "code",
   "execution_count": 5,
   "id": "13b9a3dd-8940-4f65-83ee-bd68c5b07ff3",
   "metadata": {},
   "outputs": [
    {
     "ename": "NameError",
     "evalue": "name 'y' is not defined",
     "output_type": "error",
     "traceback": [
      "\u001b[31m---------------------------------------------------------------------------\u001b[39m",
      "\u001b[31mNameError\u001b[39m                                 Traceback (most recent call last)",
      "\u001b[36mCell\u001b[39m\u001b[36m \u001b[39m\u001b[32mIn[5]\u001b[39m\u001b[32m, line 8\u001b[39m\n\u001b[32m      5\u001b[39m     y=\u001b[33m'\u001b[39m\u001b[33mlocal y\u001b[39m\u001b[33m'\u001b[39m\n\u001b[32m      7\u001b[39m test()\n\u001b[32m----> \u001b[39m\u001b[32m8\u001b[39m \u001b[38;5;28mprint\u001b[39m(\u001b[43my\u001b[49m)\n",
      "\u001b[31mNameError\u001b[39m: name 'y' is not defined"
     ]
    }
   ],
   "source": [
    "#testing local scope outside or in the global scope\n",
    "x = 'global x'\n",
    "\n",
    "def test():\n",
    "    y='local y'\n",
    "    \n",
    "test()\n",
    "print(y)"
   ]
  },
  {
   "cell_type": "code",
   "execution_count": 6,
   "id": "44eb7e0b-86cb-4533-bf17-85fc7a0dafe9",
   "metadata": {},
   "outputs": [
    {
     "name": "stdout",
     "output_type": "stream",
     "text": [
      "global x\n"
     ]
    }
   ],
   "source": [
    "#testing the same variable in  local scope and in global \n",
    "#this will print the global x since the local x is only works within local scope\n",
    "x = 'global x'\n",
    "\n",
    "def test():\n",
    "    x='local x'\n",
    "    \n",
    "test()\n",
    "print(x)"
   ]
  },
  {
   "cell_type": "code",
   "execution_count": 8,
   "id": "39873710-c4eb-4ae9-b0e3-3b00127f6768",
   "metadata": {},
   "outputs": [
    {
     "name": "stdout",
     "output_type": "stream",
     "text": [
      "local x\n",
      "local x\n"
     ]
    }
   ],
   "source": [
    "#to make changes to global x use thee key word global\n",
    "x = 'global x'\n",
    "\n",
    "def test():\n",
    "   global x \n",
    "   x='local x'\n",
    "   print(x)\n",
    "    \n",
    "test()\n",
    "print(x)"
   ]
  },
  {
   "cell_type": "markdown",
   "id": "123fa9a6-2401-4c61-a8dd-b0d712407e0b",
   "metadata": {},
   "source": [
    "### Builtin scope"
   ]
  },
  {
   "cell_type": "code",
   "execution_count": 10,
   "id": "c9dc2bb7-f8f1-4a50-a28e-ebba6734c30b",
   "metadata": {},
   "outputs": [
    {
     "name": "stdout",
     "output_type": "stream",
     "text": [
      "['ArithmeticError', 'AssertionError', 'AttributeError', 'BaseException', 'BaseExceptionGroup', 'BlockingIOError', 'BrokenPipeError', 'BufferError', 'BytesWarning', 'ChildProcessError', 'ConnectionAbortedError', 'ConnectionError', 'ConnectionRefusedError', 'ConnectionResetError', 'DeprecationWarning', 'EOFError', 'Ellipsis', 'EncodingWarning', 'EnvironmentError', 'Exception', 'ExceptionGroup', 'False', 'FileExistsError', 'FileNotFoundError', 'FloatingPointError', 'FutureWarning', 'GeneratorExit', 'IOError', 'ImportError', 'ImportWarning', 'IndentationError', 'IndexError', 'InterruptedError', 'IsADirectoryError', 'KeyError', 'KeyboardInterrupt', 'LookupError', 'MemoryError', 'ModuleNotFoundError', 'NameError', 'None', 'NotADirectoryError', 'NotImplemented', 'NotImplementedError', 'OSError', 'OverflowError', 'PendingDeprecationWarning', 'PermissionError', 'ProcessLookupError', 'RecursionError', 'ReferenceError', 'ResourceWarning', 'RuntimeError', 'RuntimeWarning', 'StopAsyncIteration', 'StopIteration', 'SyntaxError', 'SyntaxWarning', 'SystemError', 'SystemExit', 'TabError', 'TimeoutError', 'True', 'TypeError', 'UnboundLocalError', 'UnicodeDecodeError', 'UnicodeEncodeError', 'UnicodeError', 'UnicodeTranslateError', 'UnicodeWarning', 'UserWarning', 'ValueError', 'Warning', 'WindowsError', 'ZeroDivisionError', '__IPYTHON__', '__build_class__', '__debug__', '__doc__', '__import__', '__loader__', '__name__', '__package__', '__spec__', 'abs', 'aiter', 'all', 'anext', 'any', 'ascii', 'bin', 'bool', 'breakpoint', 'bytearray', 'bytes', 'callable', 'chr', 'classmethod', 'compile', 'complex', 'copyright', 'credits', 'delattr', 'dict', 'dir', 'display', 'divmod', 'enumerate', 'eval', 'exec', 'execfile', 'filter', 'float', 'format', 'frozenset', 'get_ipython', 'getattr', 'globals', 'hasattr', 'hash', 'help', 'hex', 'id', 'input', 'int', 'isinstance', 'issubclass', 'iter', 'len', 'license', 'list', 'locals', 'map', 'max', 'memoryview', 'min', 'next', 'object', 'oct', 'open', 'ord', 'pow', 'print', 'property', 'range', 'repr', 'reversed', 'round', 'runfile', 'set', 'setattr', 'slice', 'sorted', 'staticmethod', 'str', 'sum', 'super', 'tuple', 'type', 'vars', 'zip']\n",
      "1\n"
     ]
    }
   ],
   "source": [
    "#we are able to use min because it is availble for built in \n",
    "import builtins\n",
    "print(dir(builtins))\n",
    "m = min([5,4,3,2,1])\n",
    "print(m)"
   ]
  },
  {
   "cell_type": "code",
   "execution_count": 11,
   "id": "41fb122b-3413-4e65-bd6e-88bec215f520",
   "metadata": {},
   "outputs": [],
   "source": [
    "#we can overwirte inbuilts functions\n",
    "\n",
    "def min():\n",
    "    pass"
   ]
  },
  {
   "cell_type": "markdown",
   "id": "b3d507a2-c226-42cc-b7a2-ea7288317f92",
   "metadata": {},
   "source": [
    "### Enclosing"
   ]
  },
  {
   "cell_type": "code",
   "execution_count": 12,
   "id": "3dd776e5-aab3-40e7-a278-2651f248d62e",
   "metadata": {},
   "outputs": [
    {
     "name": "stdout",
     "output_type": "stream",
     "text": [
      "inner x\n",
      "outer x\n"
     ]
    }
   ],
   "source": [
    "#it is easy to explain with nested loops\n",
    "\n",
    "def outer():\n",
    "    x = 'outer x'\n",
    "\n",
    "    def inner():\n",
    "        x = 'inner x'\n",
    "        print(x)\n",
    "    inner()\n",
    "    print(x)\n",
    "outer()"
   ]
  },
  {
   "cell_type": "code",
   "execution_count": 13,
   "id": "3f68f828-211b-437a-8a3c-9c3fa8c82128",
   "metadata": {},
   "outputs": [
    {
     "name": "stdout",
     "output_type": "stream",
     "text": [
      "outer x\n",
      "outer x\n"
     ]
    }
   ],
   "source": [
    "#In this case the inner function will see for the variable x in the enclosing scope \n",
    "#that is outer scope\n",
    "def outer():\n",
    "    x = 'outer x'\n",
    "\n",
    "    def inner():\n",
    "        # x = 'inner x'\n",
    "        print(x)\n",
    "    inner()\n",
    "    print(x)\n",
    "outer()"
   ]
  },
  {
   "cell_type": "code",
   "execution_count": 14,
   "id": "f3c57518-592e-4f3e-9e24-ba09b8ecd8d7",
   "metadata": {},
   "outputs": [
    {
     "name": "stdout",
     "output_type": "stream",
     "text": [
      "inner x\n",
      "local x\n"
     ]
    }
   ],
   "source": [
    "#this case will give error since outer function will not have access to the inner x\n",
    "def outer():\n",
    "    # x = 'outer x'\n",
    "\n",
    "    def inner():\n",
    "        x = 'inner x'\n",
    "        print(x)\n",
    "    inner()\n",
    "    print(x)\n",
    "outer()"
   ]
  },
  {
   "cell_type": "code",
   "execution_count": 15,
   "id": "f488617d-fa77-45df-a4ee-edd7aecaf362",
   "metadata": {},
   "outputs": [
    {
     "name": "stdout",
     "output_type": "stream",
     "text": [
      "inner x\n",
      "inner x\n"
     ]
    }
   ],
   "source": [
    "#the nonlocal keyword works the same way as global keyword\n",
    "#but only in enclosing scope\n",
    "def outer():\n",
    "    x = 'outer x'\n",
    "\n",
    "    def inner():\n",
    "        nonlocal x\n",
    "        x = 'inner x'\n",
    "        print(x)\n",
    "    inner()\n",
    "    print(x)\n",
    "outer()"
   ]
  },
  {
   "cell_type": "code",
   "execution_count": 17,
   "id": "90aab55b-125d-4af1-aa24-8e1bfa30afbd",
   "metadata": {},
   "outputs": [
    {
     "name": "stdout",
     "output_type": "stream",
     "text": [
      "global x\n",
      "global x\n"
     ]
    }
   ],
   "source": [
    "#incase there is no x in both inner and outer scole it'll use the global x\n",
    "x ='global x'\n",
    "def outer():\n",
    "    # x = 'outer x'\n",
    "\n",
    "    def inner():\n",
    "        # x = 'inner x'\n",
    "        print(x)\n",
    "    inner()\n",
    "    print(x)\n",
    "outer()"
   ]
  }
 ],
 "metadata": {
  "kernelspec": {
   "display_name": "Python 3 (ipykernel)",
   "language": "python",
   "name": "python3"
  },
  "language_info": {
   "codemirror_mode": {
    "name": "ipython",
    "version": 3
   },
   "file_extension": ".py",
   "mimetype": "text/x-python",
   "name": "python",
   "nbconvert_exporter": "python",
   "pygments_lexer": "ipython3",
   "version": "3.12.2"
  }
 },
 "nbformat": 4,
 "nbformat_minor": 5
}
