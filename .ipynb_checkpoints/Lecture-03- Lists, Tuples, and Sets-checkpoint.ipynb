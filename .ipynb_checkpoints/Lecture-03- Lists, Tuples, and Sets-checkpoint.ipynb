{
 "cells": [
  {
   "cell_type": "code",
   "execution_count": 1,
   "id": "60e9ff62-ae34-463a-a7ee-46ba240d1e63",
   "metadata": {},
   "outputs": [],
   "source": [
    "courses = ['History','Math','Physics']"
   ]
  },
  {
   "cell_type": "code",
   "execution_count": 2,
   "id": "e2030563-54e5-40d3-ae63-c561257ea43e",
   "metadata": {},
   "outputs": [
    {
     "name": "stdout",
     "output_type": "stream",
     "text": [
      "['History', 'Math']\n"
     ]
    }
   ],
   "source": [
    "print(courses[0:2])"
   ]
  },
  {
   "cell_type": "code",
   "execution_count": 4,
   "id": "c22b4a8a-589c-40ae-82b0-8bbd46f18463",
   "metadata": {},
   "outputs": [
    {
     "name": "stdout",
     "output_type": "stream",
     "text": [
      "['History', 'Math', 'Physics']\n"
     ]
    }
   ],
   "source": [
    "#everthing including and after the index 0\n",
    "print(courses[0:])"
   ]
  },
  {
   "cell_type": "code",
   "execution_count": 5,
   "id": "97ba5539-cd37-4f24-8fcf-991ebd21cbb0",
   "metadata": {},
   "outputs": [
    {
     "name": "stdout",
     "output_type": "stream",
     "text": [
      "['History', 'Math', 'Physics']\n"
     ]
    }
   ],
   "source": [
    "#everything form the index 0 but not inclusing the the end index\n",
    "print(courses[:3])"
   ]
  },
  {
   "cell_type": "code",
   "execution_count": 7,
   "id": "31fa9051-fa87-4f3c-8006-afa37ce198dd",
   "metadata": {},
   "outputs": [],
   "source": [
    "#appending an item to the existing list at the end\n",
    "courses.append('Art')"
   ]
  },
  {
   "cell_type": "code",
   "execution_count": 9,
   "id": "f4ef8933-4c8a-4dc3-bbb2-7053bab4f604",
   "metadata": {},
   "outputs": [
    {
     "name": "stdout",
     "output_type": "stream",
     "text": [
      "['History', 'Math', 'Physics', 'Art', 'Art']\n"
     ]
    }
   ],
   "source": [
    "print(courses)"
   ]
  },
  {
   "cell_type": "code",
   "execution_count": 10,
   "id": "b52a1b4d-c673-475c-9c8e-5401cb213084",
   "metadata": {},
   "outputs": [],
   "source": [
    "#to insert an element at a specific index the use insert\n",
    "courses.insert(0,'Art')\n"
   ]
  },
  {
   "cell_type": "code",
   "execution_count": 13,
   "id": "37007822-c100-4c45-8f97-078294f37d9d",
   "metadata": {},
   "outputs": [
    {
     "name": "stdout",
     "output_type": "stream",
     "text": [
      "['Art', 'Engineering', 'History', 'Math', 'Physics', 'Art', 'Art']\n",
      "['Art', 'Engineering', 'Engineering', 'History', 'Math', 'Physics', 'Art', 'Art']\n"
     ]
    }
   ],
   "source": [
    "print(courses)\n",
    "courses.insert(1,'Engineering')\n",
    "print(courses)"
   ]
  },
  {
   "cell_type": "code",
   "execution_count": 14,
   "id": "d90a3901-1137-4f6f-8b73-b3230a998a3a",
   "metadata": {},
   "outputs": [],
   "source": [
    "courses2 = ['Electrical','Electronics']"
   ]
  },
  {
   "cell_type": "code",
   "execution_count": 16,
   "id": "75fed092-bd81-4c4f-8c13-5a9145631952",
   "metadata": {},
   "outputs": [
    {
     "name": "stdout",
     "output_type": "stream",
     "text": [
      "[['Electrical', 'Electronics'], 'Art', 'Engineering', 'Engineering', 'History', 'Math', 'Physics', 'Art', 'Art']\n"
     ]
    }
   ],
   "source": [
    "#inserting a list into another list will insert a list within a list\n",
    "courses.insert(0,courses2)\n",
    "print(courses)"
   ]
  },
  {
   "cell_type": "code",
   "execution_count": 18,
   "id": "b09813d6-854e-4e57-a23d-acc167ed19dd",
   "metadata": {},
   "outputs": [
    {
     "name": "stdout",
     "output_type": "stream",
     "text": [
      "[['Electrical', 'Electronics'], 'Art', 'Engineering', 'Engineering', 'History', 'Math', 'Physics', 'Art', 'Art', 'Electrical', 'Electronics']\n"
     ]
    }
   ],
   "source": [
    "#to add items from new list to an existing list with literal item then use extend\n",
    "courses.extend(courses2)\n",
    "print(courses)"
   ]
  },
  {
   "cell_type": "code",
   "execution_count": 19,
   "id": "80edd419-6935-445b-a7bb-ef4a69712941",
   "metadata": {},
   "outputs": [
    {
     "name": "stdout",
     "output_type": "stream",
     "text": [
      "[['Electrical', 'Electronics'], 'Art', 'Engineering', 'History', 'Math', 'Physics', 'Art', 'Art', 'Electrical', 'Electronics']\n"
     ]
    }
   ],
   "source": [
    "#to remove an item form the list we user remove method\n",
    "#only one item will be removed if there are duplicates\n",
    "courses.remove('Engineering')\n",
    "print(courses)"
   ]
  },
  {
   "cell_type": "code",
   "execution_count": 25,
   "id": "b7f37021-508c-4008-996a-a9f7e88ba7fb",
   "metadata": {},
   "outputs": [
    {
     "name": "stdout",
     "output_type": "stream",
     "text": [
      "popped the item Art\n",
      "[['Electrical', 'Electronics'], 'Art', 'Engineering', 'History', 'Math', 'Physics']\n"
     ]
    }
   ],
   "source": [
    "#pop method will remove the last item in the list\n",
    "#it returns the value it removed\n",
    "popped_item = courses.pop()\n",
    "print(f'popped the item {popped_item}')\n",
    "print(courses)"
   ]
  },
  {
   "cell_type": "code",
   "execution_count": 26,
   "id": "4caa229e-4e81-4308-97a8-d105192a51ae",
   "metadata": {},
   "outputs": [
    {
     "name": "stdout",
     "output_type": "stream",
     "text": [
      "['Physics', 'Math', 'History', 'Engineering', 'Art', ['Electrical', 'Electronics']]\n"
     ]
    }
   ],
   "source": [
    "#reverse the current list\n",
    "courses.reverse()\n",
    "print(courses)"
   ]
  },
  {
   "cell_type": "code",
   "execution_count": 28,
   "id": "47319ca2-b28f-471d-87fd-2b21a11e02f3",
   "metadata": {},
   "outputs": [
    {
     "name": "stdout",
     "output_type": "stream",
     "text": [
      "['Art', 'Engineering', 'History', 'Math', 'Physics']\n"
     ]
    }
   ],
   "source": [
    "#sorting our list\n",
    "courses.pop()\n",
    "courses.sort()\n",
    "print(courses)"
   ]
  },
  {
   "cell_type": "code",
   "execution_count": 29,
   "id": "c14fdd36-6c58-4fe1-ab4d-398ebaacc748",
   "metadata": {},
   "outputs": [
    {
     "name": "stdout",
     "output_type": "stream",
     "text": [
      "['Physics', 'Math', 'History', 'Engineering', 'Art']\n"
     ]
    }
   ],
   "source": [
    "#descending order while sorting\n",
    "courses.sort(reverse=True)\n",
    "print(courses)"
   ]
  },
  {
   "cell_type": "code",
   "execution_count": 30,
   "id": "131d6f09-6dee-4d19-8494-e67229af5cee",
   "metadata": {},
   "outputs": [
    {
     "name": "stdout",
     "output_type": "stream",
     "text": [
      "['Art', 'Engineering', 'History', 'Math', 'Physics']\n"
     ]
    }
   ],
   "source": [
    "#if you want to sort a list without inplace (changing the actual list) then use the \n",
    "#function sorted \n",
    "sorted_courses = sorted(courses)\n",
    "print(sorted_courses)"
   ]
  },
  {
   "cell_type": "code",
   "execution_count": 31,
   "id": "35afbcde-7df6-4c49-a408-232cd6f6bc5c",
   "metadata": {},
   "outputs": [],
   "source": [
    "nums =[3,4,5,2,1]"
   ]
  },
  {
   "cell_type": "code",
   "execution_count": 32,
   "id": "b61f23e1-f7fb-4d64-b5dd-c258b0c1ac48",
   "metadata": {},
   "outputs": [
    {
     "name": "stdout",
     "output_type": "stream",
     "text": [
      "1\n",
      "5\n"
     ]
    }
   ],
   "source": [
    "#min and max functions on a list\n",
    "print(min(nums))\n",
    "print(max(nums))"
   ]
  },
  {
   "cell_type": "code",
   "execution_count": 33,
   "id": "e1c51820-7d3c-4642-8854-a295b2d8175e",
   "metadata": {},
   "outputs": [
    {
     "name": "stdout",
     "output_type": "stream",
     "text": [
      "15\n"
     ]
    }
   ],
   "source": [
    "print(sum(nums))"
   ]
  },
  {
   "cell_type": "code",
   "execution_count": 34,
   "id": "7c2290a5-0313-456c-93ff-e1388d45900b",
   "metadata": {},
   "outputs": [
    {
     "name": "stdout",
     "output_type": "stream",
     "text": [
      "4\n"
     ]
    }
   ],
   "source": [
    "#find the index of certain values in the list use the method index\n",
    "print(courses.index('Art'))"
   ]
  },
  {
   "cell_type": "code",
   "execution_count": 35,
   "id": "ec2afa4c-dc72-41f0-8d8f-e85a190c826d",
   "metadata": {},
   "outputs": [
    {
     "name": "stdout",
     "output_type": "stream",
     "text": [
      "True\n"
     ]
    }
   ],
   "source": [
    "#to Check if a value is present in the list\n",
    "print('Art' in courses)"
   ]
  },
  {
   "cell_type": "code",
   "execution_count": 36,
   "id": "be17097f-1df4-4617-96d9-d5e17d7396d2",
   "metadata": {},
   "outputs": [
    {
     "name": "stdout",
     "output_type": "stream",
     "text": [
      "0 Physics\n",
      "1 Math\n",
      "2 History\n",
      "3 Engineering\n",
      "4 Art\n"
     ]
    }
   ],
   "source": [
    "#to print the list of elements with the index use the function enumerate\n",
    "for index, course in enumerate(courses):\n",
    "    print(index,course)"
   ]
  },
  {
   "cell_type": "code",
   "execution_count": 37,
   "id": "a4286563-abce-438f-a35f-3c8ca0041440",
   "metadata": {},
   "outputs": [
    {
     "name": "stdout",
     "output_type": "stream",
     "text": [
      "1 Physics\n",
      "2 Math\n",
      "3 History\n",
      "4 Engineering\n",
      "5 Art\n"
     ]
    }
   ],
   "source": [
    "#to print the index from the value 1 use the below code\n",
    "for index, course in enumerate(courses,start=1):\n",
    "    print(index,course)"
   ]
  },
  {
   "cell_type": "code",
   "execution_count": 38,
   "id": "103ad832-7205-455e-a08a-838aae79c6c7",
   "metadata": {},
   "outputs": [
    {
     "name": "stdout",
     "output_type": "stream",
     "text": [
      "Physics, Math, History, Engineering, Art\n"
     ]
    }
   ],
   "source": [
    "#joining items in the list using join method\n",
    "course_string = ', '.join(courses)\n",
    "print(course_string)"
   ]
  },
  {
   "cell_type": "code",
   "execution_count": 39,
   "id": "53e9e6c3-987a-4036-9328-86001834820c",
   "metadata": {},
   "outputs": [
    {
     "name": "stdout",
     "output_type": "stream",
     "text": [
      "Physics- Math- History- Engineering- Art\n"
     ]
    }
   ],
   "source": [
    "course_string = '- '.join(courses)\n",
    "print(course_string)"
   ]
  },
  {
   "cell_type": "code",
   "execution_count": 41,
   "id": "aeaa824b-1768-4b8a-84f3-4ccf16324184",
   "metadata": {},
   "outputs": [
    {
     "name": "stdout",
     "output_type": "stream",
     "text": [
      "['Physics', 'Math', 'History', 'Engineering', 'Art']\n"
     ]
    }
   ],
   "source": [
    "#we can do a reverse of the same using split method\n",
    "courses = course_string.split('- ')\n",
    "print(courses)\n"
   ]
  },
  {
   "cell_type": "markdown",
   "id": "15ce477e-0ba9-489b-b2dc-9744485f2aaf",
   "metadata": {},
   "source": [
    "### Tuples"
   ]
  },
  {
   "cell_type": "code",
   "execution_count": 42,
   "id": "cafc25ba-e286-4471-8b95-a5dca2684d53",
   "metadata": {},
   "outputs": [
    {
     "ename": "TypeError",
     "evalue": "'tuple' object does not support item assignment",
     "output_type": "error",
     "traceback": [
      "\u001b[31m---------------------------------------------------------------------------\u001b[39m",
      "\u001b[31mTypeError\u001b[39m                                 Traceback (most recent call last)",
      "\u001b[36mCell\u001b[39m\u001b[36m \u001b[39m\u001b[32mIn[42]\u001b[39m\u001b[32m, line 4\u001b[39m\n\u001b[32m      2\u001b[39m list1 = (\u001b[33m'\u001b[39m\u001b[33mHistory\u001b[39m\u001b[33m'\u001b[39m,\u001b[33m'\u001b[39m\u001b[33mmath\u001b[39m\u001b[33m'\u001b[39m)\n\u001b[32m      3\u001b[39m list2 = (\u001b[33m'\u001b[39m\u001b[33mPhysics\u001b[39m\u001b[33m'\u001b[39m)\n\u001b[32m----> \u001b[39m\u001b[32m4\u001b[39m \u001b[43mlist1\u001b[49m\u001b[43m[\u001b[49m\u001b[32;43m0\u001b[39;49m\u001b[43m]\u001b[49m =\u001b[33m'\u001b[39m\u001b[33mdummy\u001b[39m\u001b[33m'\u001b[39m\n",
      "\u001b[31mTypeError\u001b[39m: 'tuple' object does not support item assignment"
     ]
    }
   ],
   "source": [
    "#we cannot modify tuples like lists\n",
    "list1 = ('History','math')\n",
    "list2 = ('Physics')\n",
    "list1[0] ='dummy'"
   ]
  },
  {
   "cell_type": "markdown",
   "id": "548e9c7f-0f08-40a2-8f0b-843ee647daff",
   "metadata": {},
   "source": [
    "### SETS"
   ]
  },
  {
   "cell_type": "code",
   "execution_count": 63,
   "id": "1f5dfd98-fc18-4fe7-9f85-8c82a2d5442d",
   "metadata": {},
   "outputs": [
    {
     "name": "stdout",
     "output_type": "stream",
     "text": [
      "{'Physics', 'Math', 'History', 'CompSci'}\n"
     ]
    }
   ],
   "source": [
    "#sets are values that unordered and with no duplicates\n",
    "cs_courses = {'History','Math','Physics','CompSci','Math'}\n",
    "print(cs_courses)"
   ]
  },
  {
   "cell_type": "code",
   "execution_count": 65,
   "id": "9422fca4-d65c-40f6-bf07-06ef536de961",
   "metadata": {},
   "outputs": [
    {
     "name": "stdout",
     "output_type": "stream",
     "text": [
      "True\n"
     ]
    }
   ],
   "source": [
    "#membership test \n",
    "#sets are optimised for this operation\n",
    "print('Math' in cs_courses)"
   ]
  },
  {
   "cell_type": "code",
   "execution_count": 66,
   "id": "19c74458-9606-4d97-b80a-226d29fa2efd",
   "metadata": {},
   "outputs": [],
   "source": [
    "art_courses = {'History','Math','Art','Design'}\n"
   ]
  },
  {
   "cell_type": "code",
   "execution_count": 67,
   "id": "ff8b745a-6d67-40a1-8aed-f5c789f2ae6a",
   "metadata": {},
   "outputs": [
    {
     "name": "stdout",
     "output_type": "stream",
     "text": [
      "{'History', 'Math'}\n"
     ]
    }
   ],
   "source": [
    "#if we want to see common courses in in art and cs courses \n",
    "print(cs_courses.intersection(art_courses))"
   ]
  },
  {
   "cell_type": "code",
   "execution_count": 68,
   "id": "139a8472-08ff-4efb-b467-3106bd9c1aff",
   "metadata": {},
   "outputs": [
    {
     "name": "stdout",
     "output_type": "stream",
     "text": [
      "{'Physics', 'CompSci'}\n"
     ]
    }
   ],
   "source": [
    "#if we want to see differenc of courses from cs to art the we use difference\n",
    "print(cs_courses.difference(art_courses))"
   ]
  },
  {
   "cell_type": "code",
   "execution_count": 69,
   "id": "715ad591-3e98-4da9-a73c-692d01d7bb30",
   "metadata": {},
   "outputs": [
    {
     "name": "stdout",
     "output_type": "stream",
     "text": [
      "{'CompSci', 'Art', 'Design', 'Physics', 'Math', 'History'}\n"
     ]
    }
   ],
   "source": [
    "#to do union\n",
    "#this will eliminate duplicates\n",
    "print(cs_courses.union(art_courses))"
   ]
  },
  {
   "cell_type": "markdown",
   "id": "4a5a24e2-5e41-4581-ab94-bfd5b3961620",
   "metadata": {},
   "source": [
    "### Creating Empty list,set and tuple"
   ]
  },
  {
   "cell_type": "code",
   "execution_count": 72,
   "id": "c51b32c3-0855-4b53-b82a-8db501a5459d",
   "metadata": {},
   "outputs": [],
   "source": [
    "empty_list =[]\n",
    "empty_list = list()\n",
    "empty_tuple= ()\n",
    "empty_tuple=tuple()\n",
    "empty_set =set()"
   ]
  },
  {
   "cell_type": "code",
   "execution_count": null,
   "id": "6448ea46-f0a2-4acc-bbfc-c0e0b2cf40ac",
   "metadata": {},
   "outputs": [],
   "source": []
  }
 ],
 "metadata": {
  "kernelspec": {
   "display_name": "Python 3 (ipykernel)",
   "language": "python",
   "name": "python3"
  },
  "language_info": {
   "codemirror_mode": {
    "name": "ipython",
    "version": 3
   },
   "file_extension": ".py",
   "mimetype": "text/x-python",
   "name": "python",
   "nbconvert_exporter": "python",
   "pygments_lexer": "ipython3",
   "version": "3.12.2"
  }
 },
 "nbformat": 4,
 "nbformat_minor": 5
}
