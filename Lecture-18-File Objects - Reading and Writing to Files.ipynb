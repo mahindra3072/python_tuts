{
 "cells": [
  {
   "cell_type": "code",
   "execution_count": 3,
   "id": "b96c0e9b-b195-4374-9ae0-0893812497e6",
   "metadata": {},
   "outputs": [
    {
     "name": "stdout",
     "output_type": "stream",
     "text": [
      "<_io.TextIOWrapper name='files/test.txt' mode='r' encoding='cp1252'>\n"
     ]
    }
   ],
   "source": [
    "#this is for reading the file\n",
    "f = open('files/test.txt','r')\n",
    "print(f)"
   ]
  },
  {
   "cell_type": "code",
   "execution_count": 4,
   "id": "ba9db128-e3e7-4314-9037-492e26633cae",
   "metadata": {},
   "outputs": [
    {
     "name": "stdout",
     "output_type": "stream",
     "text": [
      "files/test.txt\n"
     ]
    }
   ],
   "source": [
    "#this is for read and write of a file\n",
    "f = open('files/test.txt','r+')\n",
    "print(f.name)"
   ]
  },
  {
   "cell_type": "code",
   "execution_count": 5,
   "id": "a6951b8e-bcd1-4148-b9a1-f4f17d8bc3cb",
   "metadata": {},
   "outputs": [
    {
     "data": {
      "text/plain": [
       "['_CHUNK_SIZE',\n",
       " '__class__',\n",
       " '__del__',\n",
       " '__delattr__',\n",
       " '__dict__',\n",
       " '__dir__',\n",
       " '__doc__',\n",
       " '__enter__',\n",
       " '__eq__',\n",
       " '__exit__',\n",
       " '__format__',\n",
       " '__ge__',\n",
       " '__getattribute__',\n",
       " '__getstate__',\n",
       " '__gt__',\n",
       " '__hash__',\n",
       " '__init__',\n",
       " '__init_subclass__',\n",
       " '__iter__',\n",
       " '__le__',\n",
       " '__lt__',\n",
       " '__module__',\n",
       " '__ne__',\n",
       " '__new__',\n",
       " '__next__',\n",
       " '__reduce__',\n",
       " '__reduce_ex__',\n",
       " '__repr__',\n",
       " '__setattr__',\n",
       " '__sizeof__',\n",
       " '__str__',\n",
       " '__subclasshook__',\n",
       " '_checkClosed',\n",
       " '_checkReadable',\n",
       " '_checkSeekable',\n",
       " '_checkWritable',\n",
       " '_finalizing',\n",
       " 'buffer',\n",
       " 'close',\n",
       " 'closed',\n",
       " 'detach',\n",
       " 'encoding',\n",
       " 'errors',\n",
       " 'fileno',\n",
       " 'flush',\n",
       " 'isatty',\n",
       " 'line_buffering',\n",
       " 'mode',\n",
       " 'name',\n",
       " 'newlines',\n",
       " 'read',\n",
       " 'readable',\n",
       " 'readline',\n",
       " 'readlines',\n",
       " 'reconfigure',\n",
       " 'seek',\n",
       " 'seekable',\n",
       " 'tell',\n",
       " 'truncate',\n",
       " 'writable',\n",
       " 'write',\n",
       " 'write_through',\n",
       " 'writelines']"
      ]
     },
     "execution_count": 5,
     "metadata": {},
     "output_type": "execute_result"
    }
   ],
   "source": [
    "dir(f)"
   ]
  },
  {
   "cell_type": "code",
   "execution_count": 7,
   "id": "d5eb52a2-6fe2-40ae-b434-40cf1a2127db",
   "metadata": {},
   "outputs": [],
   "source": [
    "#to close the file we've opened\n",
    "#we have to manaually close the file\n",
    "f.close()"
   ]
  },
  {
   "cell_type": "markdown",
   "id": "afccc6c1-cc41-4856-9c43-9d7ac739403f",
   "metadata": {},
   "source": [
    "### Context manager"
   ]
  },
  {
   "cell_type": "code",
   "execution_count": 10,
   "id": "fdbc894e-86a9-47eb-a6d6-5aefe71cbbf3",
   "metadata": {},
   "outputs": [
    {
     "name": "stdout",
     "output_type": "stream",
     "text": [
      "True\n"
     ]
    }
   ],
   "source": [
    "with open('files/test.txt','r') as f:\n",
    "    pass\n",
    "\n",
    "print(f.closed) #this tells if the file is open or not"
   ]
  },
  {
   "cell_type": "code",
   "execution_count": 11,
   "id": "4b654a2b-e10e-4a5e-b49e-5f31104e0dbc",
   "metadata": {},
   "outputs": [
    {
     "name": "stdout",
     "output_type": "stream",
     "text": [
      "1) This is a test file\n",
      "2) With multiple lines of data...\n",
      "3) Third line\n",
      "4) Fourth line\n",
      "5) Fifth line\n",
      "6) Sixth line\n",
      "7) Seventh line\n",
      "8) Eighth line\n",
      "9) Ninth line\n",
      "10) Tenth line\n"
     ]
    }
   ],
   "source": [
    "with open('files/test.txt','r') as f:\n",
    "    f_contents = f.read()\n",
    "    print(f_contents)"
   ]
  },
  {
   "cell_type": "code",
   "execution_count": 12,
   "id": "ef88fd21-6e2d-4a4c-82a5-066ae45fb308",
   "metadata": {},
   "outputs": [
    {
     "name": "stdout",
     "output_type": "stream",
     "text": [
      "['1) This is a test file\\n', '2) With multiple lines of data...\\n', '3) Third line\\n', '4) Fourth line\\n', '5) Fifth line\\n', '6) Sixth line\\n', '7) Seventh line\\n', '8) Eighth line\\n', '9) Ninth line\\n', '10) Tenth line']\n"
     ]
    }
   ],
   "source": [
    "#what if our file is too big to read\n",
    "#readlines() method will give each line in the file as a list\n",
    "with open('files/test.txt','r') as f:\n",
    "    f_contents = f.readlines()\n",
    "    print(f_contents)\n",
    "\n"
   ]
  },
  {
   "cell_type": "code",
   "execution_count": 16,
   "id": "1645401b-8d23-47ed-a2f8-b473665cb686",
   "metadata": {},
   "outputs": [
    {
     "name": "stdout",
     "output_type": "stream",
     "text": [
      "1) This is a test file\n",
      "2) With multiple lines of data...\n"
     ]
    }
   ],
   "source": [
    "#readline() method will read one line at a time\n",
    "with open('files/test.txt','r') as f:\n",
    "    f_contents = f.readline()\n",
    "    print(f_contents,end='')\n",
    "    f_contents = f.readline()\n",
    "    print(f_contents,end='')\n"
   ]
  },
  {
   "cell_type": "code",
   "execution_count": 18,
   "id": "c58b5654-afc5-41ba-a0c2-c63ae03058bc",
   "metadata": {},
   "outputs": [
    {
     "name": "stdout",
     "output_type": "stream",
     "text": [
      "1) This is a test file\n",
      "2) With multiple lines of data...\n",
      "3) Third line\n",
      "4) Fourth line\n",
      "5) Fifth line\n",
      "6) Sixth line\n",
      "7) Seventh line\n",
      "8) Eighth line\n",
      "9) Ninth line\n",
      "10) Tenth line"
     ]
    }
   ],
   "source": [
    "#instead of the above method you can use a for loop to read one line at time\n",
    "with open('files/test.txt','r') as f:\n",
    "    for line in f:\n",
    "        print(line,end='')"
   ]
  },
  {
   "cell_type": "code",
   "execution_count": 19,
   "id": "4730ad89-6a80-4d98-8c5a-3eacf2ec56a5",
   "metadata": {},
   "outputs": [
    {
     "name": "stdout",
     "output_type": "stream",
     "text": [
      "1) This is a test file\n",
      "2) With multiple lines of data...\n",
      "3) Third line\n",
      "4) Fourth line\n",
      "5) Fifth line\n"
     ]
    }
   ],
   "source": [
    "#for more control on how much you are reading use read() method\n",
    "#by specifying the number of characters to read\n",
    "with open('files/test.txt','r') as f:\n",
    "    f_contents = f.read(100)\n",
    "    print(f_contents, end='')\n",
    "    "
   ]
  },
  {
   "cell_type": "code",
   "execution_count": 21,
   "id": "9cc88172-5a5b-45f2-947a-12f74cd76d0b",
   "metadata": {},
   "outputs": [
    {
     "name": "stdout",
     "output_type": "stream",
     "text": [
      "1) This is a test file\n",
      "2) With multiple lines of data...\n",
      "3) Third line\n",
      "4) Fourth line\n",
      "5) Fifth line\n",
      "6) Sixth line\n",
      "7) Seventh line\n",
      "8) Eighth line\n",
      "9) Ninth line\n",
      "10) Tenth line"
     ]
    }
   ],
   "source": [
    "#to read the file in chunks we can use while loop for some characters of date\n",
    "with open('files/test.txt','r') as f:\n",
    "    size_to_read = 100\n",
    "    f_contents = f.read(size_to_read)\n",
    "\n",
    "    while len(f_contents) > 0:\n",
    "        print(f_contents,end='')\n",
    "        f_contents = f.read(size_to_read)"
   ]
  },
  {
   "cell_type": "code",
   "execution_count": 22,
   "id": "c8b2a70d-0f43-43d8-a3be-02168da42b88",
   "metadata": {},
   "outputs": [
    {
     "name": "stdout",
     "output_type": "stream",
     "text": [
      "100\n"
     ]
    }
   ],
   "source": [
    "#tell() method will tell where we are at in the file\n",
    "with open('files/test.txt','r') as f:\n",
    "    size_to_read = 100\n",
    "    f_contents = f.read(size_to_read)\n",
    "    print(f.tell())\n"
   ]
  },
  {
   "cell_type": "code",
   "execution_count": 24,
   "id": "b36ae053-7cb9-44a1-9e10-d88d2f08b2e1",
   "metadata": {},
   "outputs": [
    {
     "name": "stdout",
     "output_type": "stream",
     "text": [
      "1) This is a test file\n",
      "2) With multiple lines of data...\n",
      "3) Third line\n",
      "4) Fourth line\n",
      "5) Fifth line\n",
      "1) This is a test file\n",
      "2) With multiple lines of data...\n",
      "3) Third line\n",
      "4) Fourth line\n",
      "5) Fifth line\n"
     ]
    }
   ],
   "source": [
    "#with seek() method we can place the discritor anywhere\n",
    "with open('files/test.txt','r') as f:\n",
    "    size_to_read = 100\n",
    "    f_contents = f.read(size_to_read)\n",
    "    print(f_contents, end='')\n",
    "    f.seek(0)\n",
    "    f_contents = f.read(size_to_read)\n",
    "    print(f_contents, end='')\n",
    "    \n",
    "    "
   ]
  },
  {
   "cell_type": "markdown",
   "id": "7fc64fc2-77a5-4d36-8cc2-fb4be1ddd6c8",
   "metadata": {},
   "source": [
    "### writing to the files"
   ]
  },
  {
   "cell_type": "code",
   "execution_count": 27,
   "id": "8feeb59d-8c7b-494c-8332-70954813c49a",
   "metadata": {},
   "outputs": [],
   "source": [
    "with open('files/test2.txt','w') as f:\n",
    "    f.write('Test')\n",
    "    f.seek(0)  ##seek will rewrite whatever is there in the postion of the argument\n",
    "    f.write('R')"
   ]
  },
  {
   "cell_type": "code",
   "execution_count": 28,
   "id": "0a7eca45-fb77-450c-bdd7-76c949cbcfd0",
   "metadata": {},
   "outputs": [],
   "source": [
    "#writing to new file from the existing file\n",
    "with open('files/test.txt','r') as rf:\n",
    "    with open('files/test_copy.txt','w') as wf:\n",
    "        for line in rf:\n",
    "            wf.write(line)"
   ]
  },
  {
   "cell_type": "code",
   "execution_count": null,
   "id": "aec658d6-8290-4e46-b867-4d739bc4f694",
   "metadata": {},
   "outputs": [],
   "source": [
    "#you can copy any type of file such as document,pictures etc\n",
    "#we have to use binary mode to be able to this\n",
    "with open('files/test.txt','rb') as rf:\n",
    "    with open('files/test_copy.txt','wb') as wf:"
   ]
  },
  {
   "cell_type": "markdown",
   "id": "434bb4c5-496f-428b-869a-9ae8ffb64394",
   "metadata": {},
   "source": [
    "### Zfill"
   ]
  },
  {
   "cell_type": "code",
   "execution_count": 32,
   "id": "0607c09d-0318-4e52-8a62-987feabeceab",
   "metadata": {},
   "outputs": [
    {
     "name": "stdout",
     "output_type": "stream",
     "text": [
      "01\n",
      "02\n",
      "03\n",
      "04\n",
      "05\n",
      "06\n",
      "07\n",
      "08\n",
      "09\n",
      "10\n"
     ]
    }
   ],
   "source": [
    "nums = ['1','2','3','4','5','6','7','8','9','10']\n",
    "for num in nums:\n",
    "    print(num.zfill(2))"
   ]
  }
 ],
 "metadata": {
  "kernelspec": {
   "display_name": "Python 3 (ipykernel)",
   "language": "python",
   "name": "python3"
  },
  "language_info": {
   "codemirror_mode": {
    "name": "ipython",
    "version": 3
   },
   "file_extension": ".py",
   "mimetype": "text/x-python",
   "name": "python",
   "nbconvert_exporter": "python",
   "pygments_lexer": "ipython3",
   "version": "3.12.2"
  }
 },
 "nbformat": 4,
 "nbformat_minor": 5
}
