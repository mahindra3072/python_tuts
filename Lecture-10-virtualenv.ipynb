{
 "cells": [
  {
   "cell_type": "code",
   "execution_count": 2,
   "id": "6d510b6b-25f0-4a45-809b-4038cff1778c",
   "metadata": {},
   "outputs": [
    {
     "name": "stdout",
     "output_type": "stream",
     "text": [
      "Defaulting to user installation because normal site-packages is not writeable\n",
      "Collecting virtualenv\n",
      "  Downloading virtualenv-20.31.2-py3-none-any.whl.metadata (4.5 kB)\n",
      "Collecting distlib<1,>=0.3.7 (from virtualenv)\n",
      "  Downloading distlib-0.3.9-py2.py3-none-any.whl.metadata (5.2 kB)\n",
      "Collecting filelock<4,>=3.12.2 (from virtualenv)\n",
      "  Downloading filelock-3.18.0-py3-none-any.whl.metadata (2.9 kB)\n",
      "Requirement already satisfied: platformdirs<5,>=3.9.1 in c:\\users\\2000078139\\appdata\\roaming\\python\\python312\\site-packages (from virtualenv) (4.3.8)\n",
      "Downloading virtualenv-20.31.2-py3-none-any.whl (6.1 MB)\n",
      "   ---------------------------------------- 0.0/6.1 MB ? eta -:--:--\n",
      "   ---------------------------------------- 0.0/6.1 MB ? eta -:--:--\n",
      "   ---------------------------------------- 0.0/6.1 MB ? eta -:--:--\n",
      "   ---------------------------------------- 0.0/6.1 MB ? eta -:--:--\n",
      "   ---------------------------------------- 0.0/6.1 MB 435.7 kB/s eta 0:00:14\n",
      "   ---------------------------------------- 0.1/6.1 MB 469.7 kB/s eta 0:00:13\n",
      "   - -------------------------------------- 0.2/6.1 MB 893.0 kB/s eta 0:00:07\n",
      "   - -------------------------------------- 0.3/6.1 MB 1.2 MB/s eta 0:00:05\n",
      "   -- ------------------------------------- 0.4/6.1 MB 1.5 MB/s eta 0:00:04\n",
      "   ---- ----------------------------------- 0.6/6.1 MB 2.1 MB/s eta 0:00:03\n",
      "   ------ --------------------------------- 1.0/6.1 MB 2.9 MB/s eta 0:00:02\n",
      "   --------- ------------------------------ 1.4/6.1 MB 3.6 MB/s eta 0:00:02\n",
      "   ------------ --------------------------- 1.9/6.1 MB 4.3 MB/s eta 0:00:01\n",
      "   --------------- ------------------------ 2.4/6.1 MB 4.9 MB/s eta 0:00:01\n",
      "   ------------------ --------------------- 2.8/6.1 MB 5.4 MB/s eta 0:00:01\n",
      "   ------------------ --------------------- 2.8/6.1 MB 5.1 MB/s eta 0:00:01\n",
      "   ------------------ --------------------- 2.8/6.1 MB 5.1 MB/s eta 0:00:01\n",
      "   -------------------- ------------------- 3.2/6.1 MB 4.8 MB/s eta 0:00:01\n",
      "   ------------------------ --------------- 3.7/6.1 MB 5.1 MB/s eta 0:00:01\n",
      "   --------------------------- ------------ 4.2/6.1 MB 5.5 MB/s eta 0:00:01\n",
      "   ------------------------------- -------- 4.8/6.1 MB 5.9 MB/s eta 0:00:01\n",
      "   ----------------------------------- ---- 5.3/6.1 MB 6.2 MB/s eta 0:00:01\n",
      "   ------------------------------------ --- 5.6/6.1 MB 6.2 MB/s eta 0:00:01\n",
      "   -------------------------------------- - 5.8/6.1 MB 6.1 MB/s eta 0:00:01\n",
      "   ---------------------------------------  6.1/6.1 MB 6.3 MB/s eta 0:00:01\n",
      "   ---------------------------------------  6.1/6.1 MB 6.3 MB/s eta 0:00:01\n",
      "   ---------------------------------------  6.1/6.1 MB 6.3 MB/s eta 0:00:01\n",
      "   ---------------------------------------  6.1/6.1 MB 6.3 MB/s eta 0:00:01\n",
      "   ---------------------------------------  6.1/6.1 MB 6.3 MB/s eta 0:00:01\n",
      "   ---------------------------------------- 6.1/6.1 MB 5.0 MB/s eta 0:00:00\n",
      "Downloading distlib-0.3.9-py2.py3-none-any.whl (468 kB)\n",
      "   ---------------------------------------- 0.0/469.0 kB ? eta -:--:--\n",
      "   ------------------------------------- - 450.6/469.0 kB 13.8 MB/s eta 0:00:01\n",
      "   --------------------------------------  460.8/469.0 kB 14.1 MB/s eta 0:00:01\n",
      "   ---------------------------------------- 469.0/469.0 kB 4.2 MB/s eta 0:00:00\n",
      "Downloading filelock-3.18.0-py3-none-any.whl (16 kB)\n",
      "Installing collected packages: distlib, filelock, virtualenv\n",
      "Successfully installed distlib-0.3.9 filelock-3.18.0 virtualenv-20.31.2\n"
     ]
    },
    {
     "name": "stderr",
     "output_type": "stream",
     "text": [
      "\n",
      "[notice] A new release of pip is available: 24.0 -> 25.1.1\n",
      "[notice] To update, run: python.exe -m pip install --upgrade pip\n"
     ]
    }
   ],
   "source": [
    "!pip install virtualenv\n"
   ]
  },
  {
   "cell_type": "code",
   "execution_count": 3,
   "id": "b487f7df-04b8-4d7e-9602-6e1049e9a236",
   "metadata": {},
   "outputs": [],
   "source": [
    "!mkdir Environments"
   ]
  },
  {
   "cell_type": "code",
   "execution_count": 8,
   "id": "2cf37e22-667d-4fcf-a0d1-3adec7b1c6cd",
   "metadata": {},
   "outputs": [],
   "source": [
    "!cd Environments"
   ]
  },
  {
   "cell_type": "code",
   "execution_count": 9,
   "id": "3991d6c9-90b6-417b-b000-7e2013207678",
   "metadata": {},
   "outputs": [
    {
     "name": "stdout",
     "output_type": "stream",
     "text": [
      " Volume in drive C is Windows\n",
      " Volume Serial Number is CA78-2A51\n",
      "\n",
      " Directory of C:\\Users\\2000078139\\Desktop\\pandas\\python\n",
      "\n",
      "10/07/2025  03:05 pm    <DIR>          .\n",
      "07/07/2025  02:36 pm    <DIR>          ..\n",
      "10/07/2025  02:59 pm    <DIR>          .ipynb_checkpoints\n",
      "10/07/2025  03:03 pm    <DIR>          Environments\n",
      "07/07/2025  03:21 pm            26,595 Lecture-01-Strings - Working with Textual Data.ipynb\n",
      "08/07/2025  03:09 pm             1,831 Lecture-02-Integers and Floats - Working with Numeric Data.ipynb\n",
      "08/07/2025  04:54 pm            15,798 Lecture-03- Lists, Tuples, and Sets.ipynb\n",
      "08/07/2025  05:21 pm             6,155 Lecture-04- Dictionaries - Working with Key-Value Pairs.ipynb\n",
      "09/07/2025  02:23 pm             2,363 Lecture-05-Conditionals and Booleans - If, Else, and Elif Statements.ipynb\n",
      "09/07/2025  02:33 pm             2,779 Lecture-06-Loops and Iterations - For and While Loops.ipynb\n",
      "09/07/2025  03:23 pm             2,971 Lecture-07-Functions.ipynb\n",
      "10/07/2025  02:25 pm             6,353 Lecture-08-Import Modules and Exploring The Standard Library.ipynb\n",
      "10/07/2025  02:58 pm            29,634 Lecture-09-pip.ipynb\n",
      "10/07/2025  03:05 pm             7,151 Lecture-10-virtualenv.ipynb\n",
      "10/07/2025  02:39 pm    <DIR>          packages\n",
      "              10 File(s)        101,630 bytes\n",
      "               5 Dir(s)  422,211,448,832 bytes free\n"
     ]
    }
   ],
   "source": [
    "#all the files related to the virtual environment will be stored in the\n",
    "#current working directory\n",
    "virtualenv project1_env"
   ]
  },
  {
   "cell_type": "code",
   "execution_count": null,
   "id": "c96e3ed6-1e1f-48c7-841e-5aa4576b5e7e",
   "metadata": {},
   "outputs": [],
   "source": [
    "#to activate the created virtual environment\n",
    "!source project1_env/bin/activate"
   ]
  },
  {
   "cell_type": "code",
   "execution_count": 11,
   "id": "4b3163ad-1094-461c-be8c-b9d51f7b332a",
   "metadata": {},
   "outputs": [
    {
     "ename": "SyntaxError",
     "evalue": "invalid syntax (576038864.py, line 2)",
     "output_type": "error",
     "traceback": [
      "  \u001b[36mCell\u001b[39m\u001b[36m \u001b[39m\u001b[32mIn[11]\u001b[39m\u001b[32m, line 2\u001b[39m\n\u001b[31m    \u001b[39m\u001b[31mwhich python\u001b[39m\n          ^\n\u001b[31mSyntaxError\u001b[39m\u001b[31m:\u001b[39m invalid syntax\n"
     ]
    }
   ],
   "source": [
    "#to know which python you are using use the below command\n",
    "!which python\n",
    "!which pip"
   ]
  },
  {
   "cell_type": "code",
   "execution_count": null,
   "id": "f4832a4d-593c-4854-bbb1-2342d086c819",
   "metadata": {},
   "outputs": [],
   "source": [
    "#to get all the packages from the local enivronment\n",
    "!pip freeze --local > requirements.txt"
   ]
  },
  {
   "cell_type": "code",
   "execution_count": null,
   "id": "5b36b481-a260-4561-b9d9-fc17abe25731",
   "metadata": {},
   "outputs": [],
   "source": [
    "#type deactivate to deactivate the currently using virtualenv\n",
    "!deactivate"
   ]
  },
  {
   "cell_type": "code",
   "execution_count": null,
   "id": "778b27e2-fc82-4a37-b71c-b182ff5b908f",
   "metadata": {},
   "outputs": [],
   "source": [
    "#to use a specific version of python to use while creation virtual environment\n",
    "!virtualenv -p /usr/bin/python2.6 project_2"
   ]
  }
 ],
 "metadata": {
  "kernelspec": {
   "display_name": "Python 3 (ipykernel)",
   "language": "python",
   "name": "python3"
  },
  "language_info": {
   "codemirror_mode": {
    "name": "ipython",
    "version": 3
   },
   "file_extension": ".py",
   "mimetype": "text/x-python",
   "name": "python",
   "nbconvert_exporter": "python",
   "pygments_lexer": "ipython3",
   "version": "3.12.2"
  }
 },
 "nbformat": 4,
 "nbformat_minor": 5
}
