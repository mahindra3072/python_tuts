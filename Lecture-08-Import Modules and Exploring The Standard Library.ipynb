{
 "cells": [
  {
   "cell_type": "code",
   "execution_count": 2,
   "id": "2e183b20-c13e-458a-bf82-77bdaebaad18",
   "metadata": {},
   "outputs": [
    {
     "name": "stdout",
     "output_type": "stream",
     "text": [
      "Imported my_module...\n"
     ]
    }
   ],
   "source": [
    "import packages.custom_package as my_module"
   ]
  },
  {
   "cell_type": "code",
   "execution_count": 3,
   "id": "910f069c-73c6-4ff0-ac4b-519760cf716a",
   "metadata": {},
   "outputs": [
    {
     "data": {
      "text/plain": [
       "1"
      ]
     },
     "execution_count": 3,
     "metadata": {},
     "output_type": "execute_result"
    }
   ],
   "source": [
    "courses = ['History','Math','Physics','CompSci']\n",
    "my_module.find_index(courses,'Math')"
   ]
  },
  {
   "cell_type": "code",
   "execution_count": 4,
   "id": "181f912a-d87b-4456-a152-cd7561c88524",
   "metadata": {},
   "outputs": [
    {
     "data": {
      "text/plain": [
       "1"
      ]
     },
     "execution_count": 4,
     "metadata": {},
     "output_type": "execute_result"
    }
   ],
   "source": [
    "#to import a specific function \n",
    "from packages.custom_package import find_index\n",
    "courses = ['History','Math','Physics','CompSci']\n",
    "find_index(courses,'Math')"
   ]
  },
  {
   "cell_type": "code",
   "execution_count": 5,
   "id": "7c460569-1cf7-4184-83ae-8a812d528947",
   "metadata": {},
   "outputs": [
    {
     "data": {
      "text/plain": [
       "1"
      ]
     },
     "execution_count": 5,
     "metadata": {},
     "output_type": "execute_result"
    }
   ],
   "source": [
    "#to import a specific function with as\n",
    "from packages.custom_package import find_index as fi\n",
    "courses = ['History','Math','Physics','CompSci']\n",
    "fi(courses,'Math')"
   ]
  },
  {
   "cell_type": "code",
   "execution_count": 6,
   "id": "eb57c7e9-5334-4a42-959c-2fd230b62e1a",
   "metadata": {},
   "outputs": [
    {
     "data": {
      "text/plain": [
       "1"
      ]
     },
     "execution_count": 6,
     "metadata": {},
     "output_type": "execute_result"
    }
   ],
   "source": [
    "#to import all the functions\n",
    "from packages.custom_package import *\n",
    "courses = ['History','Math','Physics','CompSci']\n",
    "find_index(courses,'Math')"
   ]
  },
  {
   "cell_type": "code",
   "execution_count": 7,
   "id": "ec615106-29c0-4319-b740-9eea17ece1e2",
   "metadata": {},
   "outputs": [
    {
     "name": "stdout",
     "output_type": "stream",
     "text": [
      "['C:\\\\Program Files\\\\Python312\\\\python312.zip', 'C:\\\\Program Files\\\\Python312\\\\DLLs', 'C:\\\\Program Files\\\\Python312\\\\Lib', 'C:\\\\Program Files\\\\Python312', '', 'C:\\\\Users\\\\2000078139\\\\AppData\\\\Roaming\\\\Python\\\\Python312\\\\site-packages', 'C:\\\\Users\\\\2000078139\\\\AppData\\\\Roaming\\\\Python\\\\Python312\\\\site-packages\\\\win32', 'C:\\\\Users\\\\2000078139\\\\AppData\\\\Roaming\\\\Python\\\\Python312\\\\site-packages\\\\win32\\\\lib', 'C:\\\\Users\\\\2000078139\\\\AppData\\\\Roaming\\\\Python\\\\Python312\\\\site-packages\\\\Pythonwin', 'C:\\\\Program Files\\\\Python312\\\\Lib\\\\site-packages']\n"
     ]
    }
   ],
   "source": [
    "#these are the paths that python is accessing for packages or python files\n",
    "import sys\n",
    "print(sys.path)"
   ]
  },
  {
   "cell_type": "code",
   "execution_count": 8,
   "id": "bf13b2c3-125f-4737-8ff8-0e4091fb3da8",
   "metadata": {},
   "outputs": [],
   "source": [
    "#if the package is in completely different path \n",
    "#1. we can add that path using sys.path.append to add the location\n",
    "sys.path.append('Desktop')"
   ]
  },
  {
   "cell_type": "code",
   "execution_count": 9,
   "id": "ed4efac4-c8f2-4d60-ac30-66ba1043fb56",
   "metadata": {},
   "outputs": [],
   "source": [
    "#2. add {export PYTHONPATH=\"/Users/mahindra\"} to your .bash_profile file\n",
    "#in winodows you can create a new user variable iwth name as - PYTHONPATH \n",
    "#and variable as the path"
   ]
  },
  {
   "cell_type": "code",
   "execution_count": 10,
   "id": "cc3c0c47-490a-4112-9b95-4b7628e1babd",
   "metadata": {},
   "outputs": [
    {
     "name": "stdout",
     "output_type": "stream",
     "text": [
      "Physics\n"
     ]
    }
   ],
   "source": [
    "#standard library will be imported by default\n",
    "import random\n",
    "random_course = random.choice(courses)\n",
    "print(random_course)"
   ]
  },
  {
   "cell_type": "code",
   "execution_count": 11,
   "id": "32840828-60ce-45e3-82f6-414e48058f54",
   "metadata": {},
   "outputs": [
    {
     "name": "stdout",
     "output_type": "stream",
     "text": [
      "2025-07-10\n"
     ]
    }
   ],
   "source": [
    "import datetime\n",
    "import calendar\n",
    "\n",
    "today = datetime.date.today()\n",
    "print(today)"
   ]
  },
  {
   "cell_type": "code",
   "execution_count": 12,
   "id": "e4ee0e2c-5d62-4534-adec-c2987c27448d",
   "metadata": {},
   "outputs": [
    {
     "name": "stdout",
     "output_type": "stream",
     "text": [
      "False\n"
     ]
    }
   ],
   "source": [
    "print(calendar.isleap(2025))"
   ]
  },
  {
   "cell_type": "code",
   "execution_count": 13,
   "id": "34b53d87-47bb-4b4a-839a-63a5d80a0336",
   "metadata": {},
   "outputs": [
    {
     "name": "stdout",
     "output_type": "stream",
     "text": [
      "C:\\Users\\2000078139\\Desktop\\pandas\\python\n"
     ]
    }
   ],
   "source": [
    "import os\n",
    "print(os.getcwd())"
   ]
  },
  {
   "cell_type": "code",
   "execution_count": 14,
   "id": "6d7733a3-d55b-441f-a9bf-1fd1a2629ef2",
   "metadata": {},
   "outputs": [
    {
     "name": "stdout",
     "output_type": "stream",
     "text": [
      "C:\\Program Files\\Python312\\Lib\\os.py\n"
     ]
    }
   ],
   "source": [
    "#to see the loction of a module\n",
    "print(os.__file__)"
   ]
  }
 ],
 "metadata": {
  "kernelspec": {
   "display_name": "Python 3 (ipykernel)",
   "language": "python",
   "name": "python3"
  },
  "language_info": {
   "codemirror_mode": {
    "name": "ipython",
    "version": 3
   },
   "file_extension": ".py",
   "mimetype": "text/x-python",
   "name": "python",
   "nbconvert_exporter": "python",
   "pygments_lexer": "ipython3",
   "version": "3.12.2"
  }
 },
 "nbformat": 4,
 "nbformat_minor": 5
}
