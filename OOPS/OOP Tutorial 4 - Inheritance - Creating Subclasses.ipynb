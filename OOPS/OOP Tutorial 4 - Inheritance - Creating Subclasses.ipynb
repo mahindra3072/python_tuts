{
 "cells": [
  {
   "cell_type": "code",
   "execution_count": 2,
   "id": "10a33587-fa3c-472d-a3d9-607834fbe7e8",
   "metadata": {},
   "outputs": [
    {
     "name": "stdout",
     "output_type": "stream",
     "text": [
      "mahindra\n",
      "mahindra.kodali@company.com\n"
     ]
    }
   ],
   "source": [
    "#inheritance - we can get the existing functionality of a class by inheriting it to the new class\n",
    "class Employee:\n",
    "    num_of_emps = 0\n",
    "    raise_amount = 1.04\n",
    "    \n",
    "    def __init__(self,first,last,pay):\n",
    "        self.first = first\n",
    "        self.last = last\n",
    "        self.pay = pay\n",
    "        self.email = first+'.'+last+'@company.com'\n",
    "        Employee.num_of_emps+=1\n",
    "\n",
    "    def fullname(self):   #every method takes self as argument if removed it will throw error\n",
    "        return f'{self.first} {self.last}'\n",
    "\n",
    "    def apply_raise(self):\n",
    "        self.pay = int(self.pay * self.raise_amount)  #this raise amount can also be access from the instance itself\n",
    "\n",
    "\n",
    "class Developer(Employee):\n",
    "    pass\n",
    "\n",
    "\n",
    "employee1 = Developer('mahindra','kodali',30000)\n",
    "print(employee1.first)\n",
    "print(employee1.email)"
   ]
  },
  {
   "cell_type": "code",
   "execution_count": 3,
   "id": "c6a081b6-88f7-4228-9bbf-3d089e35f27d",
   "metadata": {},
   "outputs": [
    {
     "name": "stdout",
     "output_type": "stream",
     "text": [
      "Help on class Developer in module __main__:\n",
      "\n",
      "class Developer(Employee)\n",
      " |  Developer(first, last, pay)\n",
      " |\n",
      " |  Method resolution order:\n",
      " |      Developer\n",
      " |      Employee\n",
      " |      builtins.object\n",
      " |\n",
      " |  Methods inherited from Employee:\n",
      " |\n",
      " |  __init__(self, first, last, pay)\n",
      " |      Initialize self.  See help(type(self)) for accurate signature.\n",
      " |\n",
      " |  apply_raise(self)\n",
      " |\n",
      " |  fullname(self)\n",
      " |\n",
      " |  ----------------------------------------------------------------------\n",
      " |  Data descriptors inherited from Employee:\n",
      " |\n",
      " |  __dict__\n",
      " |      dictionary for instance variables\n",
      " |\n",
      " |  __weakref__\n",
      " |      list of weak references to the object\n",
      " |\n",
      " |  ----------------------------------------------------------------------\n",
      " |  Data and other attributes inherited from Employee:\n",
      " |\n",
      " |  num_of_emps = 1\n",
      " |\n",
      " |  raise_amount = 1.04\n",
      "\n",
      "None\n"
     ]
    }
   ],
   "source": [
    "#every class inherits from the  class\n",
    "print(help(Developer))"
   ]
  },
  {
   "cell_type": "code",
   "execution_count": 6,
   "id": "31beac39-d5e2-4295-8e63-65b423ff611a",
   "metadata": {},
   "outputs": [
    {
     "name": "stdout",
     "output_type": "stream",
     "text": [
      "30000\n",
      "33000\n"
     ]
    }
   ],
   "source": [
    "#if we want our developers to have 10 percent raise here we can change the raise_amount class variable\n",
    "\n",
    "class Employee:\n",
    "    num_of_emps = 0\n",
    "    raise_amount = 1.04\n",
    "    \n",
    "    def __init__(self,first,last,pay):\n",
    "        self.first = first\n",
    "        self.last = last\n",
    "        self.pay = pay\n",
    "        self.email = first+'.'+last+'@company.com'\n",
    "        Employee.num_of_emps+=1\n",
    "\n",
    "    def fullname(self):   #every method takes self as argument if removed it will throw error\n",
    "        return f'{self.first} {self.last}'\n",
    "\n",
    "    def apply_raise(self):\n",
    "        self.pay = int(self.pay * self.raise_amount)  #this raise amount can also be access from the instance itself\n",
    "\n",
    "\n",
    "class Developer(Employee):\n",
    "    raise_amount = 1.10\n",
    "\n",
    "\n",
    "dev1 = Developer('mahindra','kodali',30000)\n",
    "# print(employee1.first)\n",
    "# print(employee1.email)\n",
    "print(dev1.pay)\n",
    "dev1.apply_raise()\n",
    "print(dev1.pay)\n"
   ]
  },
  {
   "cell_type": "code",
   "execution_count": 8,
   "id": "0e7142d7-9409-4c6b-85c9-992d46b8b25f",
   "metadata": {},
   "outputs": [
    {
     "name": "stdout",
     "output_type": "stream",
     "text": [
      "mahindra\n",
      "Python\n"
     ]
    }
   ],
   "source": [
    "#to add additional information to the existing constructor\n",
    "\n",
    "class Employee:\n",
    "    num_of_emps = 0\n",
    "    raise_amount = 1.04\n",
    "    \n",
    "    def __init__(self,first,last,pay):\n",
    "        self.first = first\n",
    "        self.last = last\n",
    "        self.pay = pay\n",
    "        self.email = first+'.'+last+'@company.com'\n",
    "        Employee.num_of_emps+=1\n",
    "\n",
    "    def fullname(self):   #every method takes self as argument if removed it will throw error\n",
    "        return f'{self.first} {self.last}'\n",
    "\n",
    "    def apply_raise(self):\n",
    "        self.pay = int(self.pay * self.raise_amount)  #this raise amount can also be access from the instance itself\n",
    "\n",
    "\n",
    "class Developer(Employee):\n",
    "    raise_amount = 1.10\n",
    "\n",
    "    def __init__(self, first, last, pay, prog_lang):\n",
    "        super().__init__(first, last, pay)\n",
    "        # Employee.__init__(self,first,last,pay) #this is also a way to instantiate using existing class\n",
    "        self.prog_lang = prog_lang\n",
    "\n",
    "\n",
    "dev1 = Developer('mahindra','kodali', 50000, 'Python')\n",
    "\n",
    "print(dev1.first)\n",
    "print(dev1.prog_lang)\n",
    "\n"
   ]
  },
  {
   "cell_type": "code",
   "execution_count": 19,
   "id": "89d8da65-621e-4f34-989a-1dcb607f378a",
   "metadata": {},
   "outputs": [
    {
     "name": "stdout",
     "output_type": "stream",
     "text": [
      "tamil\n",
      "-->mahindra kodali\n",
      "-->mahindra kodali\n",
      "-->krishnendu pj\n",
      "-->mahindra kodali\n"
     ]
    }
   ],
   "source": [
    "#creating a manager class\n",
    "\n",
    "class Employee:\n",
    "    num_of_emps = 0\n",
    "    raise_amount = 1.04\n",
    "    \n",
    "    def __init__(self,first,last,pay):\n",
    "        self.first = first\n",
    "        self.last = last\n",
    "        self.pay = pay\n",
    "        self.email = first+'.'+last+'@company.com'\n",
    "        Employee.num_of_emps+=1\n",
    "\n",
    "    def fullname(self):   #every method takes self as argument if removed it will throw error\n",
    "        return f'{self.first} {self.last}'\n",
    "\n",
    "    def apply_raise(self):\n",
    "        self.pay = int(self.pay * self.raise_amount)  #this raise amount can also be access from the instance itself\n",
    "\n",
    "\n",
    "class Developer(Employee):\n",
    "    raise_amount = 1.10\n",
    "\n",
    "    def __init__(self, first, last, pay, prog_lang):\n",
    "        super().__init__(first, last, pay)\n",
    "        # Employee.__init__(self,first,last,pay) #this is also a way to instantiate using existing class\n",
    "        self.prog_lang = prog_lang\n",
    "\n",
    "class Manager(Employee):\n",
    "\n",
    "    def __init__(self, first, last, pay, employees=None):\n",
    "        super().__init__(first,last,pay)\n",
    "        if employees is None:\n",
    "            slef.employees = []\n",
    "        else :\n",
    "            self.employees = employees\n",
    "\n",
    "    def add_emp(self, emp):\n",
    "        if emp not in self.employees:\n",
    "            self.employees.append(emp)\n",
    "\n",
    "    def remove_emp(self, emp):\n",
    "        if emp in self.employees:\n",
    "            self.employees.remove(emp)\n",
    "    def print_emp(self):\n",
    "        for employee in self.employees:\n",
    "           print('-->'+employee.fullname())\n",
    "\n",
    "\n",
    "dev1 = Developer('mahindra','kodali', 50000, 'Python')\n",
    "dev2 = Developer('krishnendu','pj',60000,'Salesforce')\n",
    "\n",
    "\n",
    "mgr1 = Manager('tamil','selven',80000,[dev1])\n",
    "\n",
    "print(mgr1.first)\n",
    "mgr1.print_emp()\n",
    "mgr1.add_emp(dev2)\n",
    "mgr1.print_emp()\n",
    "mgr1.remove_emp(dev2)\n",
    "mgr1.print_emp()\n"
   ]
  },
  {
   "cell_type": "markdown",
   "id": "6c340231-b1ae-44cf-bade-f70fad483841",
   "metadata": {},
   "source": [
    "### isinstance() and  issubclass()"
   ]
  },
  {
   "cell_type": "code",
   "execution_count": 22,
   "id": "1f1e1c5e-d5e9-443c-85ce-6e0d3759d8e0",
   "metadata": {},
   "outputs": [
    {
     "name": "stdout",
     "output_type": "stream",
     "text": [
      "True\n",
      "False\n"
     ]
    }
   ],
   "source": [
    "print(isinstance(mgr1,Employee))\n",
    "print(isinstance(mgr1,Developer))\n"
   ]
  },
  {
   "cell_type": "code",
   "execution_count": 25,
   "id": "cf833750-6741-4782-bdc8-6bce99f4d533",
   "metadata": {},
   "outputs": [
    {
     "name": "stdout",
     "output_type": "stream",
     "text": [
      "True\n",
      "True\n",
      "False\n"
     ]
    }
   ],
   "source": [
    "print(issubclass(Manager,Employee))\n",
    "print(issubclass(Developer,Employee))\n",
    "print(issubclass(Manager,Developer))"
   ]
  },
  {
   "cell_type": "code",
   "execution_count": null,
   "id": "0e8bd76c-e8db-4f90-866a-f45ebb278bc2",
   "metadata": {},
   "outputs": [],
   "source": []
  }
 ],
 "metadata": {
  "kernelspec": {
   "display_name": "Python 3 (ipykernel)",
   "language": "python",
   "name": "python3"
  },
  "language_info": {
   "codemirror_mode": {
    "name": "ipython",
    "version": 3
   },
   "file_extension": ".py",
   "mimetype": "text/x-python",
   "name": "python",
   "nbconvert_exporter": "python",
   "pygments_lexer": "ipython3",
   "version": "3.12.2"
  }
 },
 "nbformat": 4,
 "nbformat_minor": 5
}
