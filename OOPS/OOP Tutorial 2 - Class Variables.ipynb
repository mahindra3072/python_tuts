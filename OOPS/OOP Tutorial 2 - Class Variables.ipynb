{
 "cells": [
  {
   "cell_type": "code",
   "execution_count": 2,
   "id": "aac44d78-e52a-4d1e-a3b4-d36aee2a366a",
   "metadata": {},
   "outputs": [
    {
     "name": "stdout",
     "output_type": "stream",
     "text": [
      "mahindra.kodali@company.com\n",
      "mahindra kodali\n",
      "5000\n",
      "5200\n"
     ]
    }
   ],
   "source": [
    "#class variables\n",
    "#class variables are variables are shared amoung all instances of that class\n",
    "#where are as instance variables are unique\n",
    "\n",
    "#a good example would be raise to all the employees which let's the same for all\n",
    "\n",
    "\n",
    "\n",
    "class Employee:\n",
    "\n",
    "    raise_amount = 1.04\n",
    "    \n",
    "    def __init__(self,first,last,pay):\n",
    "        self.first = first\n",
    "        self.last = last\n",
    "        self.pay = pay\n",
    "        self.email = first+'.'+last+'@company.com'\n",
    "\n",
    "    def fullname(self):   #every method takes self as argument if removed it will throw error\n",
    "        return f'{self.first} {self.last}'\n",
    "\n",
    "    def apply_raise(self):\n",
    "        self.pay = int(self.pay * Employee.raise_amount)\n",
    "        \n",
    "\n",
    "    \n",
    "\n",
    "employee1 = Employee('mahindra','kodali',5000)\n",
    "print(employee1.email)\n",
    "print(employee1.fullname())  #this will autmatically pass the instance as an arguemtnt to the fullname method\n",
    "\n",
    "Employee.fullname(employee1) #since we are manually running the method using the class we have to explicitly specify the instance in the argument\n",
    "\n",
    "print(employee1.pay)\n",
    "employee1.apply_raise()\n",
    "\n",
    "print(employee1.pay)\n"
   ]
  },
  {
   "cell_type": "code",
   "execution_count": 6,
   "id": "a7fa235c-4968-4679-9044-985d87735386",
   "metadata": {},
   "outputs": [
    {
     "name": "stdout",
     "output_type": "stream",
     "text": [
      "mahindra.kodali@company.com\n",
      "mahindra kodali\n",
      "5000\n",
      "5200\n",
      "1.04\n",
      "1.04\n",
      "{'__module__': '__main__', 'raise_amount': 1.04, '__init__': <function Employee.__init__ at 0x000001F31410C860>, 'fullname': <function Employee.fullname at 0x000001F31410CCC0>, 'apply_raise': <function Employee.apply_raise at 0x000001F31410CD60>, '__dict__': <attribute '__dict__' of 'Employee' objects>, '__weakref__': <attribute '__weakref__' of 'Employee' objects>, '__doc__': None}\n",
      "{'first': 'mahindra', 'last': 'kodali', 'pay': 5200, 'email': 'mahindra.kodali@company.com'}\n"
     ]
    }
   ],
   "source": [
    "\n",
    "\n",
    "class Employee:\n",
    "\n",
    "    raise_amount = 1.04\n",
    "    \n",
    "    def __init__(self,first,last,pay):\n",
    "        self.first = first\n",
    "        self.last = last\n",
    "        self.pay = pay\n",
    "        self.email = first+'.'+last+'@company.com'\n",
    "\n",
    "    def fullname(self):   #every method takes self as argument if removed it will throw error\n",
    "        return f'{self.first} {self.last}'\n",
    "\n",
    "    def apply_raise(self):\n",
    "        self.pay = int(self.pay * self.raise_amount)  #this raise amount can also be access from the instance itself\n",
    "        \n",
    "\n",
    "    \n",
    "\n",
    "employee1 = Employee('mahindra','kodali',5000)\n",
    "print(employee1.email)\n",
    "print(employee1.fullname())  #this will autmatically pass the instance as an arguemtnt to the fullname method\n",
    "\n",
    "Employee.fullname(employee1) #since we are manually running the method using the class we have to explicitly specify the instance in the argument\n",
    "\n",
    "print(employee1.pay)\n",
    "employee1.apply_raise()\n",
    "print(employee1.pay)\n",
    "\n",
    "\n",
    "print(employee1.raise_amount) # first it searches if the variable is available for that instance then it goes for class variables\n",
    "print(Employee.raise_amount) \n",
    "\n",
    "print(Employee.__dict__)  #this will give all the methods and attributes that are accessble for that instance or class\n",
    "\n",
    "print(employee1.__dict__)\n",
    "\n",
    "\n",
    "\n"
   ]
  },
  {
   "cell_type": "code",
   "execution_count": 7,
   "id": "e1a16f16-2d0e-46b2-b3fd-df52f74d7a13",
   "metadata": {},
   "outputs": [
    {
     "name": "stdout",
     "output_type": "stream",
     "text": [
      "{'first': 'mahindra', 'last': 'kodali', 'pay': 5200, 'email': 'mahindra.kodali@company.com', 'raise_amount': 1.05}\n",
      "1.04\n",
      "1.05\n",
      "1.04\n"
     ]
    }
   ],
   "source": [
    "#lets try to change the class variables using class and from instance \n",
    "\n",
    "employee2 = Employee('Test','User',5000)\n",
    "\n",
    "employee1.raise_amount = 1.05\n",
    "\n",
    "print(employee1.__dict__)\n",
    "print(Employee.raise_amount)\n",
    "print(employee1.raise_amount)\n",
    "print(employee2.raise_amount)\n",
    "\n",
    "\n"
   ]
  },
  {
   "cell_type": "code",
   "execution_count": 8,
   "id": "fab7faca-c1e5-42d2-90c5-ed616cd75285",
   "metadata": {},
   "outputs": [
    {
     "name": "stdout",
     "output_type": "stream",
     "text": [
      "2\n"
     ]
    }
   ],
   "source": [
    "#creating a class variable to increment the number of employees every time a Employee is created\n",
    "\n",
    "class Employee:\n",
    "    num_of_emps = 0\n",
    "    raise_amount = 1.04\n",
    "    \n",
    "    def __init__(self,first,last,pay):\n",
    "        self.first = first\n",
    "        self.last = last\n",
    "        self.pay = pay\n",
    "        self.email = first+'.'+last+'@company.com'\n",
    "        Employee.num_of_emps+=1\n",
    "\n",
    "    def fullname(self):   #every method takes self as argument if removed it will throw error\n",
    "        return f'{self.first} {self.last}'\n",
    "\n",
    "    def apply_raise(self):\n",
    "        self.pay = int(self.pay * self.raise_amount)  #this raise amount can also be access from the instance itself\n",
    "        \n",
    "\n",
    "    \n",
    "\n",
    "employee1 = Employee('mahindra','kodali',5000)\n",
    "employee2 = Employee('Test','User',5000)\n",
    "\n",
    "print(Employee.num_of_emps)\n"
   ]
  }
 ],
 "metadata": {
  "kernelspec": {
   "display_name": "Python 3 (ipykernel)",
   "language": "python",
   "name": "python3"
  },
  "language_info": {
   "codemirror_mode": {
    "name": "ipython",
    "version": 3
   },
   "file_extension": ".py",
   "mimetype": "text/x-python",
   "name": "python",
   "nbconvert_exporter": "python",
   "pygments_lexer": "ipython3",
   "version": "3.12.2"
  }
 },
 "nbformat": 4,
 "nbformat_minor": 5
}
