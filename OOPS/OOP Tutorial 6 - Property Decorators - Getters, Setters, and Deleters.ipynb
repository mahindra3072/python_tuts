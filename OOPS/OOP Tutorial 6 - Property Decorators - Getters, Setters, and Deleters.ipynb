{
 "cells": [
  {
   "cell_type": "code",
   "execution_count": 10,
   "id": "00588023-250a-4837-b7b3-41d03470a39f",
   "metadata": {},
   "outputs": [
    {
     "name": "stdout",
     "output_type": "stream",
     "text": [
      "Jim\n",
      "Jim kodali\n",
      "chithra lekha\n",
      "chithra.lekha@email.com\n",
      "Delete Name!\n",
      "None None\n"
     ]
    }
   ],
   "source": [
    "#getters and setters\n",
    "#what if we want to use a method as attribute\n",
    "\n",
    "class Employee:\n",
    "    num_of_emps = 0\n",
    "    raise_amount = 1.04\n",
    "    \n",
    "    def __init__(self,first,last):\n",
    "        self.first = first\n",
    "        self.last = last\n",
    "        Employee.num_of_emps+=1\n",
    "    @property\n",
    "    def fullname(self):   #every method takes self as argument if removed it will throw error\n",
    "        return f'{self.first} {self.last}'\n",
    "\n",
    "    @fullname.setter\n",
    "    def fullname(self,name):\n",
    "        first,last = name.split(' ') \n",
    "        self.first = first\n",
    "        self.last = last\n",
    "        \n",
    "    @property\n",
    "    def email(self):   #every method takes self as argument if removed it will throw error\n",
    "        return f'{self.first}.{self.last}@email.com'\n",
    "\n",
    "    @fullname.deleter   #this is useful for something that is greated in getter\n",
    "    def fullname(self):\n",
    "        print('Delete Name!')\n",
    "        self.first = None\n",
    "        self.last = None\n",
    "\n",
    "        \n",
    "        \n",
    "\n",
    "\n",
    "emp1 = Employee('mahindra','kodali')\n",
    "emp1.first = 'Jim'\n",
    "\n",
    "print(emp1.first)\n",
    "print(emp1.fullname)\n",
    "emp1.fullname = 'chithra lekha'\n",
    "print(emp1.fullname)\n",
    "print(emp1.email)\n",
    "del emp1.fullname\n",
    "print(emp1.fullname)\n",
    "\n"
   ]
  }
 ],
 "metadata": {
  "kernelspec": {
   "display_name": "Python 3 (ipykernel)",
   "language": "python",
   "name": "python3"
  },
  "language_info": {
   "codemirror_mode": {
    "name": "ipython",
    "version": 3
   },
   "file_extension": ".py",
   "mimetype": "text/x-python",
   "name": "python",
   "nbconvert_exporter": "python",
   "pygments_lexer": "ipython3",
   "version": "3.12.2"
  }
 },
 "nbformat": 4,
 "nbformat_minor": 5
}
