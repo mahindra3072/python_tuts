{
 "cells": [
  {
   "cell_type": "code",
   "execution_count": 8,
   "id": "b930c8f3-21f1-4a1b-8ee0-a0a6a316adfb",
   "metadata": {},
   "outputs": [
    {
     "name": "stdout",
     "output_type": "stream",
     "text": [
      "mahindra kodali - mahindra.kodali@company.com\n",
      "Employee(mahindra, kodali, 50000)\n"
     ]
    }
   ],
   "source": [
    "#magic methods\n",
    "#__repr__ -- for logging use for developers for more info (it'll act as a back up for __str__)\n",
    "#_str__   -- readble way of displaying info for end users\n",
    "class Employee:\n",
    "    num_of_emps = 0\n",
    "    raise_amount = 1.04\n",
    "    \n",
    "    def __init__(self,first,last,pay):\n",
    "        self.first = first\n",
    "        self.last = last\n",
    "        self.pay = pay\n",
    "        self.email = first+'.'+last+'@company.com'\n",
    "        Employee.num_of_emps+=1\n",
    "\n",
    "    def fullname(self):   #every method takes self as argument if removed it will throw error\n",
    "        return f'{self.first} {self.last}'\n",
    "\n",
    "    def apply_raise(self):\n",
    "        self.pay = int(self.pay * self.raise_amount)  #this raise amount can also be access from the instance itself\n",
    "\n",
    "    \n",
    "    def __repr__(self):\n",
    "        return f\"Employee({self.first}, {self.last}, {self.pay})\"\n",
    "\n",
    "    def __str__(self):\n",
    "        return f\"{self.fullname()} - {self.email}\"\n",
    "        \n",
    "\n",
    "\n",
    "\n",
    "emp1 = Employee('mahindra','kodali', 50000)\n",
    "emp2 = Employee('krishnendu','pj',60000)\n",
    "\n",
    "print(emp1)\n",
    "print(emp1.__repr__())\n",
    "\n",
    "\n"
   ]
  },
  {
   "cell_type": "code",
   "execution_count": 12,
   "id": "17888932-291c-42d5-98aa-8a8a72176cf8",
   "metadata": {},
   "outputs": [
    {
     "name": "stdout",
     "output_type": "stream",
     "text": [
      "ab\n",
      "3\n"
     ]
    }
   ],
   "source": [
    "#operator overloading\n",
    "print('a'+'b')\n",
    "print(1+2)"
   ]
  },
  {
   "cell_type": "code",
   "execution_count": 13,
   "id": "74ff1b7a-892c-4668-b351-7f45bca1ff0a",
   "metadata": {},
   "outputs": [
    {
     "name": "stdout",
     "output_type": "stream",
     "text": [
      "mahindra kodali - mahindra.kodali@company.com\n",
      "Employee(mahindra, kodali, 50000)\n",
      "110000\n"
     ]
    }
   ],
   "source": [
    "#magic methods\n",
    "#__repr__ -- for logging use for developers for more info (it'll act as a back up for __str__)\n",
    "#_str__   -- readble way of displaying info for end users\n",
    "class Employee:\n",
    "    num_of_emps = 0\n",
    "    raise_amount = 1.04\n",
    "    \n",
    "    def __init__(self,first,last,pay):\n",
    "        self.first = first\n",
    "        self.last = last\n",
    "        self.pay = pay\n",
    "        self.email = first+'.'+last+'@company.com'\n",
    "        Employee.num_of_emps+=1\n",
    "\n",
    "    def fullname(self):   #every method takes self as argument if removed it will throw error\n",
    "        return f'{self.first} {self.last}'\n",
    "\n",
    "    def apply_raise(self):\n",
    "        self.pay = int(self.pay * self.raise_amount)  #this raise amount can also be access from the instance itself\n",
    "\n",
    "    \n",
    "    def __repr__(self):\n",
    "        return f\"Employee({self.first}, {self.last}, {self.pay})\"\n",
    "\n",
    "    def __str__(self):\n",
    "        return f\"{self.fullname()} - {self.email}\"\n",
    "\n",
    "    def __add__(self,other):\n",
    "        return self.pay + other.pay\n",
    "        \n",
    "        \n",
    "\n",
    "\n",
    "\n",
    "emp1 = Employee('mahindra','kodali', 50000)\n",
    "emp2 = Employee('krishnendu','pj',60000)\n",
    "\n",
    "# print(emp1)\n",
    "# print(emp1.__repr__())\n",
    "print(emp1+emp2)\n",
    "\n",
    "\n"
   ]
  },
  {
   "cell_type": "code",
   "execution_count": 17,
   "id": "5b215837-0805-46f3-a507-c7081e9cae61",
   "metadata": {},
   "outputs": [
    {
     "name": "stdout",
     "output_type": "stream",
     "text": [
      "4\n",
      "4\n",
      "15\n"
     ]
    }
   ],
   "source": [
    "#len is also a magic a method\n",
    "\n",
    "print(len('test'))\n",
    "print('test'.__len__())\n",
    "\n",
    "\n",
    "class Employee:\n",
    "    num_of_emps = 0\n",
    "    raise_amount = 1.04\n",
    "    \n",
    "    def __init__(self,first,last,pay):\n",
    "        self.first = first\n",
    "        self.last = last\n",
    "        self.pay = pay\n",
    "        self.email = first+'.'+last+'@company.com'\n",
    "        Employee.num_of_emps+=1\n",
    "\n",
    "    def fullname(self):   #every method takes self as argument if removed it will throw error\n",
    "        return f'{self.first} {self.last}'\n",
    "\n",
    "    def apply_raise(self):\n",
    "        self.pay = int(self.pay * self.raise_amount)  #this raise amount can also be access from the instance itself\n",
    "\n",
    "    \n",
    "    def __repr__(self):\n",
    "        return f\"Employee({self.first}, {self.last}, {self.pay})\"\n",
    "\n",
    "    def __str__(self):\n",
    "        return f\"{self.fullname()} - {self.email}\"\n",
    "\n",
    "    def __add__(self,other):\n",
    "        return self.pay + other.pay\n",
    "\n",
    "    def __len__(self):\n",
    "        return len(self.fullname())\n",
    "        \n",
    "        \n",
    "\n",
    "\n",
    "\n",
    "emp1 = Employee('mahindra','kodali', 50000)\n",
    "emp2 = Employee('krishnendu','pj',60000)\n",
    "\n",
    "print(len(emp1))"
   ]
  }
 ],
 "metadata": {
  "kernelspec": {
   "display_name": "Python 3 (ipykernel)",
   "language": "python",
   "name": "python3"
  },
  "language_info": {
   "codemirror_mode": {
    "name": "ipython",
    "version": 3
   },
   "file_extension": ".py",
   "mimetype": "text/x-python",
   "name": "python",
   "nbconvert_exporter": "python",
   "pygments_lexer": "ipython3",
   "version": "3.12.2"
  }
 },
 "nbformat": 4,
 "nbformat_minor": 5
}
