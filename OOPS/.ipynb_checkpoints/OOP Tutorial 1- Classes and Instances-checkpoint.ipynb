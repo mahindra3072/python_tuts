{
 "cells": [
  {
   "cell_type": "code",
   "execution_count": null,
   "id": "665fc6d0-c099-4a7c-9fdf-d9d7e48a9ece",
   "metadata": {},
   "outputs": [],
   "source": [
    "#why do we usee classes\n",
    "#they allow us to logically goup data and funcitons in a way that its easy to resue\n",
    "#or build upon the if need be"
   ]
  },
  {
   "cell_type": "code",
   "execution_count": null,
   "id": "8d0afd1f-bf28-417b-a9e8-ac13ef9a6156",
   "metadata": {},
   "outputs": [],
   "source": [
    "#attributes - variables\n",
    "#methods - functions associated with the class\n"
   ]
  },
  {
   "cell_type": "code",
   "execution_count": 2,
   "id": "7867d061-78c2-4680-902a-57af346b3deb",
   "metadata": {},
   "outputs": [
    {
     "name": "stdout",
     "output_type": "stream",
     "text": [
      "<__main__.Employee object at 0x000002C7006EF500>\n",
      "<__main__.Employee object at 0x000002C7006EE5D0>\n"
     ]
    }
   ],
   "source": [
    "#first example\n",
    "#we need to put pass if you want to leave it empty or else it'll throw error\n",
    "#An object is an instance of a class\n",
    "#our class is a blue print to create an instance of the class\n",
    "\n",
    "class Employee:\n",
    "    pass\n",
    "\n",
    "emp1 = Employee()\n",
    "emp2 = Employee()\n",
    "print(emp1)\n",
    "print(emp2)"
   ]
  },
  {
   "cell_type": "code",
   "execution_count": null,
   "id": "609bcc56-1593-48ac-9f2e-ad12da5a9b99",
   "metadata": {},
   "outputs": [],
   "source": [
    "#instance variables\n",
    "emp_1.first = 'Corey'\n",
    "emp_1.last = 'Shafer'\n",
    "emp_1.email ='coreyshafer@gmail.com'\n",
    "\n",
    "emp_2.first = 'kodali'\n",
    "emp_2.last = 'mahindra'\n",
    "emp_2.email ='Kodalimahindra@gmail.com'\n",
    "\n",
    "#instead of setting variables for each instance its better to instatiate these variables\n",
    "#using init method like below"
   ]
  },
  {
   "cell_type": "code",
   "execution_count": 9,
   "id": "c8e800a6-5b37-4247-b599-14542072c07b",
   "metadata": {},
   "outputs": [
    {
     "name": "stdout",
     "output_type": "stream",
     "text": [
      "mahindra.kodali@company.com\n",
      "mahindra kodali\n"
     ]
    },
    {
     "data": {
      "text/plain": [
       "'mahindra kodali'"
      ]
     },
     "execution_count": 9,
     "metadata": {},
     "output_type": "execute_result"
    }
   ],
   "source": [
    "\n",
    "class Employee:\n",
    "\n",
    "    def __init__(self,first,last,pay):\n",
    "        self.first = first\n",
    "        self.last = last\n",
    "        self.pay = pay\n",
    "        self.email = first+'.'+last+'@company.com'\n",
    "\n",
    "    def fullname(self):   #every method takes self as argument if removed it will throw error\n",
    "        return f'{self.first} {self.last}'\n",
    "\n",
    "employee1 = Employee('mahindra','kodali',5000)\n",
    "print(employee1.email)\n",
    "print(employee1.fullname())  #this will autmatically pass the instance as an arguemtnt to the fullname method\n",
    "\n",
    "Employee.fullname(employee1) #since we are manually running the method using the class we have to explicitly specify the instance in the argument"
   ]
  },
  {
   "cell_type": "code",
   "execution_count": null,
   "id": "8b241821-624f-4275-bfea-d34b3318273c",
   "metadata": {},
   "outputs": [],
   "source": []
  }
 ],
 "metadata": {
  "kernelspec": {
   "display_name": "Python 3 (ipykernel)",
   "language": "python",
   "name": "python3"
  },
  "language_info": {
   "codemirror_mode": {
    "name": "ipython",
    "version": 3
   },
   "file_extension": ".py",
   "mimetype": "text/x-python",
   "name": "python",
   "nbconvert_exporter": "python",
   "pygments_lexer": "ipython3",
   "version": "3.12.2"
  }
 },
 "nbformat": 4,
 "nbformat_minor": 5
}
