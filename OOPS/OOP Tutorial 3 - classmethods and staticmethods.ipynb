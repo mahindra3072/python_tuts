{
 "cells": [
  {
   "cell_type": "code",
   "execution_count": 2,
   "id": "0b11f692-f01c-4c70-b2e6-5b65da142234",
   "metadata": {},
   "outputs": [
    {
     "name": "stdout",
     "output_type": "stream",
     "text": [
      "1.05\n",
      "1.05\n"
     ]
    }
   ],
   "source": [
    "#class methods and static methods\n",
    "#regular methods will take the instance as the first argument\n",
    "#for class method we'll pass class as an argument\n",
    "\n",
    "\n",
    "class Employee:\n",
    "    num_of_emps = 0\n",
    "    raise_amount = 1.04\n",
    "    \n",
    "    def __init__(self,first,last,pay):\n",
    "        self.first = first\n",
    "        self.last = last\n",
    "        self.pay = pay\n",
    "        self.email = first+'.'+last+'@company.com'\n",
    "        Employee.num_of_emps+=1\n",
    "\n",
    "    def fullname(self):   #every method takes self as argument if removed it will throw error\n",
    "        return f'{self.first} {self.last}'\n",
    "\n",
    "    def apply_raise(self):\n",
    "        self.pay = int(self.pay * self.raise_amount)  #this raise amount can also be access from the instance itself\n",
    "\n",
    "    @classmethod\n",
    "    def set_raise_amt(cls,amount):\n",
    "        cls.raise_amount = amount \n",
    "\n",
    "    \n",
    "\n",
    "employee1 = Employee('mahindra','kodali',5000)\n",
    "employee2 = Employee('Test','User',5000)\n",
    "\n",
    "\n",
    "Employee.set_raise_amt(1.05)\n",
    "print(employee1.raise_amount)\n",
    "print(employee2.raise_amount)\n"
   ]
  },
  {
   "cell_type": "code",
   "execution_count": 5,
   "id": "6b393eba-6f7d-4ac2-b256-2445da783718",
   "metadata": {},
   "outputs": [
    {
     "name": "stdout",
     "output_type": "stream",
     "text": [
      "Chithra\n",
      "lekha\n",
      "Chithra.lekha@company.com\n"
     ]
    }
   ],
   "source": [
    "#creating an alternative constructur using class method\n",
    "#if we want to create an instance with the following string\n",
    "\n",
    "emp_str = 'Chithra-lekha-100000'\n",
    "\n",
    "class Employee:\n",
    "    num_of_emps = 0\n",
    "    raise_amount = 1.04\n",
    "    \n",
    "    def __init__(self,first,last,pay):\n",
    "        self.first = first\n",
    "        self.last = last\n",
    "        self.pay = pay\n",
    "        self.email = first+'.'+last+'@company.com'\n",
    "        Employee.num_of_emps+=1\n",
    "\n",
    "    def fullname(self):   #every method takes self as argument if removed it will throw error\n",
    "        return f'{self.first} {self.last}'\n",
    "\n",
    "    def apply_raise(self):\n",
    "        self.pay = int(self.pay * self.raise_amount)  #this raise amount can also be access from the instance itself\n",
    "\n",
    "    @classmethod\n",
    "    def set_raise_amt(cls,amount):\n",
    "        cls.raise_amount = amount \n",
    "\n",
    "\n",
    "    @classmethod\n",
    "    def from_string(cls,emp_str):\n",
    "        first, last, pay = emp_str.split('-')\n",
    "        return cls(first, last, pay)\n",
    "\n",
    "\n",
    "employee3 = Employee.from_string(emp_str)\n",
    "print(employee3.first)\n",
    "print(employee3.last)\n",
    "print(employee3.email)\n",
    "\n"
   ]
  },
  {
   "cell_type": "markdown",
   "id": "aaeef702-0790-4605-bfe3-731dbaeeff52",
   "metadata": {},
   "source": [
    "### static methods"
   ]
  },
  {
   "cell_type": "code",
   "execution_count": 9,
   "id": "91208ed3-7e8c-461a-91bb-c66fdbd46ab5",
   "metadata": {},
   "outputs": [
    {
     "name": "stdout",
     "output_type": "stream",
     "text": [
      "False\n"
     ]
    }
   ],
   "source": [
    "#static method differ from class methods (which will take as argument) and regular methods (which will take instance as argument)\n",
    "#static methods doesn't pass instance or cls as arguments but it has some logical connection to the class\n",
    "#but it doen't depend on any instance or class variable\n",
    "\n",
    "class Employee:\n",
    "    num_of_emps = 0\n",
    "    raise_amount = 1.04\n",
    "    \n",
    "    def __init__(self,first,last,pay):\n",
    "        self.first = first\n",
    "        self.last = last\n",
    "        self.pay = pay\n",
    "        self.email = first+'.'+last+'@company.com'\n",
    "        Employee.num_of_emps+=1\n",
    "\n",
    "    def fullname(self):   #every method takes self as argument if removed it will throw error\n",
    "        return f'{self.first} {self.last}'\n",
    "\n",
    "    def apply_raise(self):\n",
    "        self.pay = int(self.pay * self.raise_amount)  #this raise amount can also be access from the instance itself\n",
    "\n",
    "    @classmethod\n",
    "    def set_raise_amt(cls,amount):\n",
    "        cls.raise_amount = amount \n",
    "\n",
    "\n",
    "    @classmethod\n",
    "    def from_string(cls,emp_str):\n",
    "        first, last, pay = emp_str.split('-')\n",
    "        return cls(first, last, pay)\n",
    "\n",
    "    @staticmethod\n",
    "    def is_workday(day):\n",
    "        if day.weekday() == 5 or day.weekday() == 6:\n",
    "            return False\n",
    "        return True\n",
    "\n",
    "\n",
    "import datetime\n",
    "my_date = datetime.date(2016, 7, 10)\n",
    "print(Employee.is_workday(my_date))\n",
    "\n",
    "\n",
    "#how to determine if a method to be regular or static method\n",
    "#if it does not depend on the instance we can make it a static method like wise for class method\n"
   ]
  }
 ],
 "metadata": {
  "kernelspec": {
   "display_name": "Python 3 (ipykernel)",
   "language": "python",
   "name": "python3"
  },
  "language_info": {
   "codemirror_mode": {
    "name": "ipython",
    "version": 3
   },
   "file_extension": ".py",
   "mimetype": "text/x-python",
   "name": "python",
   "nbconvert_exporter": "python",
   "pygments_lexer": "ipython3",
   "version": "3.12.2"
  }
 },
 "nbformat": 4,
 "nbformat_minor": 5
}
